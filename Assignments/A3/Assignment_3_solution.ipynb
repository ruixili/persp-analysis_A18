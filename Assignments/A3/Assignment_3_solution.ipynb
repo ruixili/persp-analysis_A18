{
 "cells": [
  {
   "cell_type": "markdown",
   "metadata": {},
   "source": [
    "# Assignment 3"
   ]
  },
  {
   "cell_type": "markdown",
   "metadata": {},
   "source": [
    "### MACS 30000, Dr. Evans\n",
    "### Ruixi Li"
   ]
  },
  {
   "cell_type": "markdown",
   "metadata": {},
   "source": [
    "Due Wednesday, Oct. 24 at 11:30 AM"
   ]
  },
  {
   "cell_type": "markdown",
   "metadata": {},
   "source": [
    "## Question 1"
   ]
  },
  {
   "cell_type": "markdown",
   "metadata": {},
   "source": [
    "<br>\n",
    "Simulations are widely used in sociology. Techniques like system dynamics, multiagent systems, cellular automata and genetic algorithms have developed in the progress. When constructing a simulation system for mapping theory to practice, the crucial characteristic of the model is matching the real-world, validity in other words. However, some techniques may fail to achieve that. \n",
    "\n",
    "**Two limitations of multiagent system and cellular automata**\n",
    "\n",
    "Multi-agent systems and cellular automata bear some potential weakness in validity. \n",
    "\n",
    "For multiagent systems, Moretti (2002) believes that the following three aspects need further research. First, using theories and models concerning rationality that are realistic, understandable, and can be applied in the case of limited knowledge. In particular, theories of rationality need to be extended to learning and adaptation. Second, formalizing all the aspects of psychological theories, such as emotions, motivations, desire,intent, consciousness. Third, formalizing all types of knowledge by determine the possibility of it and the best way to acheive that.\n",
    "\n",
    "For cellular automata, Moretti (2002) proposed two limitations for the approach. Firstly, this approach sync data at the same time. However, agents make decisions and modify their choice at different time. Evidence found that the operation order has great effect on the turnout. Therefore, arbitrarily conclude that actions in the period between two syncing happened together is dangerous. Secondly, the neighborhood of a unit is hard to define. This approach restricts each individual interacts only with a subset of the whole population which is reasonably. The problem is how to define the boundary. Back in old day, we may define the boundary by geographic location. Nowadays, with the invention of Internet, interactions can take place between two individuals on the opposite side of the earth. Consequently, it is difficult to set the line on neighborhood.\n",
    "\n",
    "**Model with feature of dynamic feedback**\n",
    "\n",
    "Except for this two system, there is another system called “genetic algorithm” which present a feature of “dynamic feedback”. That is to say, the result of the initial inputs will be added to inputs for next round of simulation. Genetic algorithm is based on Darwin’s theory of evolution. According to this theory, a species evolves in relation to its own capacity to adapt to the natural and complex environment. In Darwin's theory of evolution, the result of the initial inputs is stored in the chromsome of a species which can be passed on to next generation. Then, next generation will behave with the information saved in their chromsome in order to avoid repetitive mistakes. Genetic algorithm is applied to two fields in sociology: game theory and cultural evolution. For further illustration, Moretti (2002) cited a model from cultural evolution. Lustick (2000) apply genetic algorithm model to culture transmission, they study “how cultures emerge and transform out of vast number of micro-interactions entailing the diffusion or disappearance of cultural fragment”. \n",
    "\n",
    "**Example in political science**\n",
    "\n",
    "In political science, examples of dynamic feedback are easy to spot. During elections, advertisements of president candidates is made in different stages. Normally, after the first round advertisement, the candidate group will collect information and feedbacks of the ads. Then, after analyzing the data, they will choose the proper content and position for the second round of advertisement. It is the same with third round and fourth round, etc. That is to say, the current choice is based on the current information, but not the starting-stage information. So the advertisement during elections exhibits dynamic feedback.\n",
    "\n",
    "**Reference**\n",
    "\n",
    "Moretti, Sabrina, \"Computer Simulation in Sociology: What Contribution?\" Social Science Computer Review, 20:1 (Spring 2002), pp. 43-57."
   ]
  },
  {
   "cell_type": "markdown",
   "metadata": {},
   "source": [
    "## Question 2"
   ]
  },
  {
   "cell_type": "code",
   "execution_count": 1,
   "metadata": {},
   "outputs": [
    {
     "ename": "ModuleNotFoundError",
     "evalue": "No module named 'numpy'",
     "output_type": "error",
     "traceback": [
      "\u001b[0;31m---------------------------------------------------------------------------\u001b[0m",
      "\u001b[0;31mModuleNotFoundError\u001b[0m                       Traceback (most recent call last)",
      "\u001b[0;32m<ipython-input-1-c7d5898485d4>\u001b[0m in \u001b[0;36m<module>\u001b[0;34m\u001b[0m\n\u001b[1;32m      1\u001b[0m \u001b[0;31m# Import initial packages\u001b[0m\u001b[0;34m\u001b[0m\u001b[0;34m\u001b[0m\u001b[0m\n\u001b[0;32m----> 2\u001b[0;31m \u001b[0;32mimport\u001b[0m \u001b[0mnumpy\u001b[0m \u001b[0;32mas\u001b[0m \u001b[0mnp\u001b[0m\u001b[0;34m\u001b[0m\u001b[0m\n\u001b[0m\u001b[1;32m      3\u001b[0m \u001b[0;32mimport\u001b[0m \u001b[0mmatplotlib\u001b[0m\u001b[0;34m.\u001b[0m\u001b[0mpyplot\u001b[0m \u001b[0;32mas\u001b[0m \u001b[0mplt\u001b[0m\u001b[0;34m\u001b[0m\u001b[0m\n\u001b[1;32m      4\u001b[0m \u001b[0;32mfrom\u001b[0m \u001b[0mmatplotlib\u001b[0m\u001b[0;34m.\u001b[0m\u001b[0mticker\u001b[0m \u001b[0;32mimport\u001b[0m \u001b[0mMultipleLocator\u001b[0m\u001b[0;34m\u001b[0m\u001b[0m\n",
      "\u001b[0;31mModuleNotFoundError\u001b[0m: No module named 'numpy'"
     ]
    }
   ],
   "source": [
    "# Import initial packages\n",
    "import numpy as np\n",
    "import matplotlib.pyplot as plt\n",
    "from matplotlib.ticker import MultipleLocator"
   ]
  },
  {
   "cell_type": "code",
   "execution_count": 2,
   "metadata": {},
   "outputs": [],
   "source": [
    "def students_income_sim(p):\n",
    "    \n",
    "    \"\"\"\n",
    "    Requires a simulation profile, p, structured as a dictionary\n",
    "    \n",
    "    p = {\n",
    "        'inc0'        : 80000,       #average starting income (t = 2018) for a MACSS student\n",
    "        'g'           : 0.025,       #income growth rate\n",
    "        'dep'         : 0.4,         #positive dependence of today’s income on last period’s income\n",
    "        'st_year'     : 2018,        #starting year\n",
    "        'lf_years'    : 40,          #years to work\n",
    "        'num_draws'   : 10000        #simulations\n",
    "        'sd'          : 0.13         #standard error\n",
    "    }\n",
    "    \"\"\"    \n",
    "\n",
    "    #set random seed\n",
    "    np.random.seed(524)\n",
    "    \n",
    "    #create an error term\n",
    "    ln_errors = np.random.normal(0, p['sd'], (p['lf_years'], p['num_draws']))\n",
    "    \n",
    "    #create a matrix of dim (lf_years, num_draws)\n",
    "    ln_inc_mat = np.zeros((p['lf_years'], p['num_draws']))\n",
    "\n",
    "    #fill the matrix\n",
    "    ln_inc_mat[0, :] = np.log(p['inc0']) + ln_errors[0, :]\n",
    "\n",
    "    #loop and apply model\n",
    "    for yr in np.arange(1, p['lf_years']):\n",
    "        ln_inc_mat[yr, :] = (1 - p['dep'])* (np.log(p['inc0']) + p['g'] * (yr)) +\\\n",
    "                                             p['dep'] * ln_inc_mat[yr - 1, :] +\\\n",
    "                                             ln_errors[yr, :]\n",
    "    \n",
    "    inc_mat = np.exp(ln_inc_mat) #dealing with large numbers so put in terms of 10k's\n",
    "    return inc_mat"
   ]
  },
  {
   "cell_type": "markdown",
   "metadata": {},
   "source": [
    "##### (a)"
   ]
  },
  {
   "cell_type": "code",
   "execution_count": 3,
   "metadata": {},
   "outputs": [
    {
     "name": "stdout",
     "output_type": "stream",
     "text": [
      "[[ 66409.15585396  98274.13534194 101939.81109509 ...  98720.39690442\n",
      "   72404.51636886  68710.32820307]\n",
      " [ 80020.53020329  67383.19350738  84557.85626308 ...  68247.7770509\n",
      "   74518.33613244  80555.96068584]\n",
      " [ 75805.26636606  66134.42494243  91458.20304692 ...  67268.53350159\n",
      "   90012.42673528  80645.62355527]\n",
      " ...\n",
      " [272690.56519108 217821.73027242 184724.24512469 ... 159922.45424852\n",
      "  253961.68337673 209741.55004062]\n",
      " [231539.17420799 202509.15149494 197955.96626493 ... 199502.43481758\n",
      "  210951.71828579 205420.27946389]\n",
      " [197895.95201384 165115.10025278 172644.86927513 ... 248654.44847819\n",
      "  234237.14656466 221566.29879732]]\n"
     ]
    }
   ],
   "source": [
    "simulation_profile = {\n",
    "    'inc0'        : 80000,\n",
    "    'g'           : 0.025,\n",
    "    'dep'         : 0.4,\n",
    "    'st_year'     : 2020,\n",
    "    'lf_years'    : 40,\n",
    "    'num_draws'   : 10000,\n",
    "    'sd'          : 0.13\n",
    "}\n",
    "\n",
    "inc_mat = students_income_sim(simulation_profile)\n",
    "print(inc_mat)"
   ]
  },
  {
   "cell_type": "code",
   "execution_count": 4,
   "metadata": {},
   "outputs": [
    {
     "data": {
      "text/plain": [
       "Text(0,0.5,'Annual income (\\\\$s)')"
      ]
     },
     "execution_count": 4,
     "metadata": {},
     "output_type": "execute_result"
    },
    {
     "data": {
      "image/png": "[encoded data removed]",
      "text/plain": [
       "<Figure size 432x288 with 1 Axes>"
      ]
     },
     "metadata": {
      "needs_background": "light"
     },
     "output_type": "display_data"
    }
   ],
   "source": [
    "%matplotlib inline\n",
    "p = simulation_profile\n",
    "year_vec = np.arange(p['st_year'], p['st_year'] + p['lf_years'])\n",
    "individual = 500\n",
    "fig, ax = plt.subplots()\n",
    "plt.plot(year_vec, inc_mat[:, individual])\n",
    "minorLocator = MultipleLocator(1)\n",
    "ax.xaxis.set_minor_locator(minorLocator)\n",
    "plt.grid(b=True, which='major', color='0.65', linestyle='-')\n",
    "plt.title('Individual simulated lifetime income', fontsize=10)\n",
    "plt.xlabel(r'Year $t$')\n",
    "plt.ylabel(r'Annual income (\\$s)')"
   ]
  },
  {
   "cell_type": "markdown",
   "metadata": {},
   "source": [
    "##### (b)"
   ]
  },
  {
   "cell_type": "code",
   "execution_count": 5,
   "metadata": {},
   "outputs": [
    {
     "data": {
      "text/plain": [
       "Text(0.5,1,'Income distribution of MACSS students in year 2020')"
      ]
     },
     "execution_count": 5,
     "metadata": {},
     "output_type": "execute_result"
    },
    {
     "data": {
      "image/png": "[encoded data removed]",
      "text/plain": [
       "<Figure size 432x288 with 1 Axes>"
      ]
     },
     "metadata": {
      "needs_background": "light"
     },
     "output_type": "display_data"
    }
   ],
   "source": [
    "plt.hist(inc_mat[0,:], bins=50)\n",
    "plt.grid(b=True, which='major', color='0.65', linestyle='-')\n",
    "plt.xlabel(\"Income distribution\")\n",
    "plt.ylabel(\"Number of students\")\n",
    "plt.title(\"Income distribution of MACSS students in year 2020\")"
   ]
  },
  {
   "cell_type": "code",
   "execution_count": 6,
   "metadata": {},
   "outputs": [
    {
     "data": {
      "text/html": [
       "<div>\n",
       "<style scoped>\n",
       "    .dataframe tbody tr th:only-of-type {\n",
       "        vertical-align: middle;\n",
       "    }\n",
       "\n",
       "    .dataframe tbody tr th {\n",
       "        vertical-align: top;\n",
       "    }\n",
       "\n",
       "    .dataframe thead th {\n",
       "        text-align: right;\n",
       "    }\n",
       "</style>\n",
       "<table border=\"1\" class=\"dataframe\">\n",
       "  <thead>\n",
       "    <tr style=\"text-align: right;\">\n",
       "      <th></th>\n",
       "      <th>year</th>\n",
       "      <th>id</th>\n",
       "      <th>value</th>\n",
       "    </tr>\n",
       "  </thead>\n",
       "  <tbody>\n",
       "    <tr>\n",
       "      <th>0</th>\n",
       "      <td>2020</td>\n",
       "      <td>0</td>\n",
       "      <td>66409.155854</td>\n",
       "    </tr>\n",
       "    <tr>\n",
       "      <th>1</th>\n",
       "      <td>2021</td>\n",
       "      <td>0</td>\n",
       "      <td>80020.530203</td>\n",
       "    </tr>\n",
       "    <tr>\n",
       "      <th>2</th>\n",
       "      <td>2022</td>\n",
       "      <td>0</td>\n",
       "      <td>75805.266366</td>\n",
       "    </tr>\n",
       "    <tr>\n",
       "      <th>3</th>\n",
       "      <td>2023</td>\n",
       "      <td>0</td>\n",
       "      <td>88075.026534</td>\n",
       "    </tr>\n",
       "    <tr>\n",
       "      <th>4</th>\n",
       "      <td>2024</td>\n",
       "      <td>0</td>\n",
       "      <td>106861.634158</td>\n",
       "    </tr>\n",
       "  </tbody>\n",
       "</table>\n",
       "</div>"
      ],
      "text/plain": [
       "   year id          value\n",
       "0  2020  0   66409.155854\n",
       "1  2021  0   80020.530203\n",
       "2  2022  0   75805.266366\n",
       "3  2023  0   88075.026534\n",
       "4  2024  0  106861.634158"
      ]
     },
     "execution_count": 6,
     "metadata": {},
     "output_type": "execute_result"
    }
   ],
   "source": [
    "#Transform Numpy Arrays Into Useful Dataframe\n",
    "import pandas as pd\n",
    "\n",
    "years = np.arange(p['st_year'], p['st_year'] + p['lf_years']).tolist()\n",
    "df = pd.DataFrame(inc_mat).T\n",
    "df.columns = years\n",
    "df = df.T\n",
    "df['year'] = df.index\n",
    "df = pd.melt(df, id_vars='year', var_name='id')\n",
    "df.head()"
   ]
  },
  {
   "cell_type": "code",
   "execution_count": 7,
   "metadata": {},
   "outputs": [
    {
     "data": {
      "text/plain": [
       "count     10000.000000\n",
       "mean      80653.274318\n",
       "std       10541.874277\n",
       "min       43891.472511\n",
       "25%       73182.442566\n",
       "50%       79865.114586\n",
       "75%       87363.900030\n",
       "max      134596.691453\n",
       "Name: value, dtype: float64"
      ]
     },
     "execution_count": 7,
     "metadata": {},
     "output_type": "execute_result"
    }
   ],
   "source": [
    "df_year = df.loc[df['year'] == 2020]\n",
    "df_year['value'].describe()"
   ]
  },
  {
   "cell_type": "code",
   "execution_count": 8,
   "metadata": {},
   "outputs": [
    {
     "name": "stdout",
     "output_type": "stream",
     "text": [
      "4.170000000000002\n"
     ]
    }
   ],
   "source": [
    "#Calculate percentile of given earnings\n",
    "from scipy import stats\n",
    "percentile_more_than_100000 = 100 - stats.percentileofscore(df_year['value'], 100001, 'strict')\n",
    "print(percentile_more_than_100000)"
   ]
  },
  {
   "cell_type": "markdown",
   "metadata": {},
   "source": [
    "The percent of my class will earn more than $100,000 in the first year out of the program is 4.17%."
   ]
  },
  {
   "cell_type": "code",
   "execution_count": 9,
   "metadata": {},
   "outputs": [
    {
     "name": "stdout",
     "output_type": "stream",
     "text": [
      "15.120000000000001\n"
     ]
    }
   ],
   "source": [
    "percentile_less_than_70000 = stats.percentileofscore(df_year['value'], 70001, 'strict')\n",
    "print(percentile_less_than_70000)"
   ]
  },
  {
   "cell_type": "markdown",
   "metadata": {},
   "source": [
    "The percent of my class will earn less than $70,000 in the first year out of the program is 15.1%."
   ]
  },
  {
   "cell_type": "code",
   "execution_count": 10,
   "metadata": {},
   "outputs": [
    {
     "data": {
      "text/plain": [
       "NormaltestResult(statistic=290.481782626689, pvalue=8.369169350300544e-64)"
      ]
     },
     "execution_count": 10,
     "metadata": {},
     "output_type": "execute_result"
    }
   ],
   "source": [
    "# Check if the distribution normally distributed\n",
    "stats.normaltest(df_year['value'])"
   ]
  },
  {
   "cell_type": "markdown",
   "metadata": {},
   "source": [
    "From the normal test with such a small p-value, we believe that the income of MACSS student is normal. It is symmetric and bell-curved."
   ]
  },
  {
   "cell_type": "markdown",
   "metadata": {},
   "source": [
    "##### (c)"
   ]
  },
  {
   "cell_type": "code",
   "execution_count": 11,
   "metadata": {},
   "outputs": [
    {
     "data": {
      "text/html": [
       "<div>\n",
       "<style scoped>\n",
       "    .dataframe tbody tr th:only-of-type {\n",
       "        vertical-align: middle;\n",
       "    }\n",
       "\n",
       "    .dataframe tbody tr th {\n",
       "        vertical-align: top;\n",
       "    }\n",
       "\n",
       "    .dataframe thead th {\n",
       "        text-align: right;\n",
       "    }\n",
       "</style>\n",
       "<table border=\"1\" class=\"dataframe\">\n",
       "  <thead>\n",
       "    <tr style=\"text-align: right;\">\n",
       "      <th></th>\n",
       "      <th>0</th>\n",
       "      <th>1</th>\n",
       "      <th>2</th>\n",
       "      <th>3</th>\n",
       "      <th>4</th>\n",
       "      <th>5</th>\n",
       "      <th>6</th>\n",
       "      <th>7</th>\n",
       "      <th>8</th>\n",
       "      <th>9</th>\n",
       "      <th>...</th>\n",
       "      <th>31</th>\n",
       "      <th>32</th>\n",
       "      <th>33</th>\n",
       "      <th>34</th>\n",
       "      <th>35</th>\n",
       "      <th>36</th>\n",
       "      <th>37</th>\n",
       "      <th>38</th>\n",
       "      <th>39</th>\n",
       "      <th>payoff_year</th>\n",
       "    </tr>\n",
       "  </thead>\n",
       "  <tbody>\n",
       "    <tr>\n",
       "      <th>0</th>\n",
       "      <td>6640.915585</td>\n",
       "      <td>14642.968606</td>\n",
       "      <td>22223.495242</td>\n",
       "      <td>31030.997896</td>\n",
       "      <td>41717.161311</td>\n",
       "      <td>52676.693530</td>\n",
       "      <td>61802.183208</td>\n",
       "      <td>72777.802094</td>\n",
       "      <td>81851.561040</td>\n",
       "      <td>90545.655033</td>\n",
       "      <td>...</td>\n",
       "      <td>401320.070822</td>\n",
       "      <td>416826.041658</td>\n",
       "      <td>431634.560790</td>\n",
       "      <td>448494.207843</td>\n",
       "      <td>470080.410935</td>\n",
       "      <td>489583.886535</td>\n",
       "      <td>516852.943054</td>\n",
       "      <td>540006.860475</td>\n",
       "      <td>559796.455676</td>\n",
       "      <td>2030</td>\n",
       "    </tr>\n",
       "    <tr>\n",
       "      <th>1</th>\n",
       "      <td>9827.413534</td>\n",
       "      <td>16565.732885</td>\n",
       "      <td>23179.175379</td>\n",
       "      <td>31525.852192</td>\n",
       "      <td>41258.618848</td>\n",
       "      <td>48916.052326</td>\n",
       "      <td>58145.237557</td>\n",
       "      <td>68716.189449</td>\n",
       "      <td>79366.460690</td>\n",
       "      <td>89201.898695</td>\n",
       "      <td>...</td>\n",
       "      <td>370901.093848</td>\n",
       "      <td>385737.661666</td>\n",
       "      <td>404338.083038</td>\n",
       "      <td>428022.431760</td>\n",
       "      <td>448057.333219</td>\n",
       "      <td>470661.887333</td>\n",
       "      <td>492444.060360</td>\n",
       "      <td>512694.975510</td>\n",
       "      <td>529206.485535</td>\n",
       "      <td>2030</td>\n",
       "    </tr>\n",
       "    <tr>\n",
       "      <th>2</th>\n",
       "      <td>10193.981110</td>\n",
       "      <td>18649.766736</td>\n",
       "      <td>27795.587041</td>\n",
       "      <td>36777.439151</td>\n",
       "      <td>45797.855445</td>\n",
       "      <td>55903.458803</td>\n",
       "      <td>66055.526545</td>\n",
       "      <td>76675.919178</td>\n",
       "      <td>87577.596683</td>\n",
       "      <td>97206.692550</td>\n",
       "      <td>...</td>\n",
       "      <td>384172.593397</td>\n",
       "      <td>403016.624248</td>\n",
       "      <td>421111.319671</td>\n",
       "      <td>443370.331011</td>\n",
       "      <td>468386.636542</td>\n",
       "      <td>490570.416678</td>\n",
       "      <td>509042.841190</td>\n",
       "      <td>528838.437817</td>\n",
       "      <td>546102.924744</td>\n",
       "      <td>2029</td>\n",
       "    </tr>\n",
       "    <tr>\n",
       "      <th>3</th>\n",
       "      <td>10233.704639</td>\n",
       "      <td>18946.540346</td>\n",
       "      <td>27524.243572</td>\n",
       "      <td>37661.664339</td>\n",
       "      <td>47253.827953</td>\n",
       "      <td>57876.950873</td>\n",
       "      <td>68924.709523</td>\n",
       "      <td>79103.893255</td>\n",
       "      <td>88773.587840</td>\n",
       "      <td>97722.872590</td>\n",
       "      <td>...</td>\n",
       "      <td>373251.374256</td>\n",
       "      <td>391183.734099</td>\n",
       "      <td>411393.734102</td>\n",
       "      <td>431922.235539</td>\n",
       "      <td>454122.307209</td>\n",
       "      <td>474466.476564</td>\n",
       "      <td>495085.866389</td>\n",
       "      <td>513470.490072</td>\n",
       "      <td>532248.706033</td>\n",
       "      <td>2029</td>\n",
       "    </tr>\n",
       "    <tr>\n",
       "      <th>4</th>\n",
       "      <td>10124.798322</td>\n",
       "      <td>17686.536303</td>\n",
       "      <td>25482.631147</td>\n",
       "      <td>33616.286403</td>\n",
       "      <td>40848.363562</td>\n",
       "      <td>47363.138501</td>\n",
       "      <td>54752.099691</td>\n",
       "      <td>63622.606918</td>\n",
       "      <td>71769.940539</td>\n",
       "      <td>82510.675309</td>\n",
       "      <td>...</td>\n",
       "      <td>398451.017414</td>\n",
       "      <td>420788.974503</td>\n",
       "      <td>438703.481476</td>\n",
       "      <td>458197.910693</td>\n",
       "      <td>477064.734821</td>\n",
       "      <td>490432.584758</td>\n",
       "      <td>509769.914805</td>\n",
       "      <td>530601.811995</td>\n",
       "      <td>547182.885692</td>\n",
       "      <td>2030</td>\n",
       "    </tr>\n",
       "  </tbody>\n",
       "</table>\n",
       "<p>5 rows × 41 columns</p>\n",
       "</div>"
      ],
      "text/plain": [
       "              0             1             2             3             4  \\\n",
       "0   6640.915585  14642.968606  22223.495242  31030.997896  41717.161311   \n",
       "1   9827.413534  16565.732885  23179.175379  31525.852192  41258.618848   \n",
       "2  10193.981110  18649.766736  27795.587041  36777.439151  45797.855445   \n",
       "3  10233.704639  18946.540346  27524.243572  37661.664339  47253.827953   \n",
       "4  10124.798322  17686.536303  25482.631147  33616.286403  40848.363562   \n",
       "\n",
       "              5             6             7             8             9  \\\n",
       "0  52676.693530  61802.183208  72777.802094  81851.561040  90545.655033   \n",
       "1  48916.052326  58145.237557  68716.189449  79366.460690  89201.898695   \n",
       "2  55903.458803  66055.526545  76675.919178  87577.596683  97206.692550   \n",
       "3  57876.950873  68924.709523  79103.893255  88773.587840  97722.872590   \n",
       "4  47363.138501  54752.099691  63622.606918  71769.940539  82510.675309   \n",
       "\n",
       "      ...                  31             32             33             34  \\\n",
       "0     ...       401320.070822  416826.041658  431634.560790  448494.207843   \n",
       "1     ...       370901.093848  385737.661666  404338.083038  428022.431760   \n",
       "2     ...       384172.593397  403016.624248  421111.319671  443370.331011   \n",
       "3     ...       373251.374256  391183.734099  411393.734102  431922.235539   \n",
       "4     ...       398451.017414  420788.974503  438703.481476  458197.910693   \n",
       "\n",
       "              35             36             37             38             39  \\\n",
       "0  470080.410935  489583.886535  516852.943054  540006.860475  559796.455676   \n",
       "1  448057.333219  470661.887333  492444.060360  512694.975510  529206.485535   \n",
       "2  468386.636542  490570.416678  509042.841190  528838.437817  546102.924744   \n",
       "3  454122.307209  474466.476564  495085.866389  513470.490072  532248.706033   \n",
       "4  477064.734821  490432.584758  509769.914805  530601.811995  547182.885692   \n",
       "\n",
       "   payoff_year  \n",
       "0         2030  \n",
       "1         2030  \n",
       "2         2029  \n",
       "3         2029  \n",
       "4         2030  \n",
       "\n",
       "[5 rows x 41 columns]"
      ]
     },
     "execution_count": 11,
     "metadata": {},
     "output_type": "execute_result"
    }
   ],
   "source": [
    "# Calculate the year of paying off the loan\n",
    "inc_mat_loan = 0.1 * inc_mat\n",
    "inc_mat_loan_count = inc_mat_loan.cumsum(axis=0)\n",
    "df_count = pd.DataFrame(inc_mat_loan_count).T\n",
    "df_count['payoff_year'] = df_count.apply(lambda x: (x<95000).sum() + 2020, axis=1)\n",
    "df_count.head()"
   ]
  },
  {
   "cell_type": "code",
   "execution_count": 12,
   "metadata": {},
   "outputs": [
    {
     "data": {
      "text/plain": [
       "5"
      ]
     },
     "execution_count": 12,
     "metadata": {},
     "output_type": "execute_result"
    }
   ],
   "source": [
    "# Calculate number of bins by calculate number of unique years\n",
    "len(df_count['payoff_year'].unique())"
   ]
  },
  {
   "cell_type": "code",
   "execution_count": 13,
   "metadata": {},
   "outputs": [
    {
     "data": {
      "text/plain": [
       "Text(0.5,1,'Income distribution of MACSS students in year 2020')"
      ]
     },
     "execution_count": 13,
     "metadata": {},
     "output_type": "execute_result"
    },
    {
     "data": {
      "image/png": "[encoded data removed]",
      "text/plain": [
       "<Figure size 432x288 with 1 Axes>"
      ]
     },
     "metadata": {
      "needs_background": "light"
     },
     "output_type": "display_data"
    }
   ],
   "source": [
    "# Plot the histogram of how many years it takes to pay off the loan\n",
    "plt.hist(df_count['payoff_year'], bins=5)\n",
    "plt.grid(b=True, which='major', color='0.65', linestyle='-')\n",
    "plt.xlabel(\"payoff year\")\n",
    "plt.ylabel(\"Number of students\")\n",
    "plt.title(\"Income distribution of MACSS students in year 2020\")"
   ]
  },
  {
   "cell_type": "code",
   "execution_count": 14,
   "metadata": {},
   "outputs": [
    {
     "name": "stdout",
     "output_type": "stream",
     "text": [
      "16.78\n"
     ]
    }
   ],
   "source": [
    "percentile_10yr = stats.percentileofscore(df_count['payoff_year'], 2030, 'strict')\n",
    "print(percentile_10yr)"
   ]
  },
  {
   "cell_type": "markdown",
   "metadata": {},
   "source": [
    "16.8% percent of the simulations are able to pay off the loan in 10 years."
   ]
  },
  {
   "cell_type": "markdown",
   "metadata": {},
   "source": [
    "##### (d)"
   ]
  },
  {
   "cell_type": "code",
   "execution_count": 15,
   "metadata": {},
   "outputs": [
    {
     "name": "stdout",
     "output_type": "stream",
     "text": [
      "[[ 70550.46142451 117783.33011091 123561.20729139 ... 118483.24080508\n",
      "   78992.81966812  73764.25171169]\n",
      " [ 89615.63768821  71575.56495871  96317.75493523 ...  72778.88084775\n",
      "   81644.3347736   90400.57899801]\n",
      " [ 82955.30101689  69396.06916251 106035.55593099 ...  70956.3661129\n",
      "  103848.93176006  89949.09077038]\n",
      " ...\n",
      " [338309.11761165 252187.52025149 203293.03644369 ... 168361.21927259\n",
      "  308250.29858492 240024.49205936]\n",
      " [271061.07048342 227502.32436192 220836.5697397  ... 223095.32811759\n",
      "  239983.96514044 231788.44418303]\n",
      " [219057.46748997 172865.33333479 183245.71710131 ... 295275.8618388\n",
      "  273090.00167035 253934.86273481]]\n"
     ]
    }
   ],
   "source": [
    "# New simulation\n",
    "simulation_profile1 = {\n",
    "    'inc0'        : 90000,\n",
    "    'g'           : 0.025,\n",
    "    'dep'         : 0.4,\n",
    "    'st_year'     : 2020,\n",
    "    'lf_years'    : 40,\n",
    "    'num_draws'   : 10000,\n",
    "    'sd'          : 0.17\n",
    "}\n",
    "\n",
    "inc_mat1 = students_income_sim(simulation_profile1)\n",
    "print(inc_mat1)"
   ]
  },
  {
   "cell_type": "code",
   "execution_count": 16,
   "metadata": {},
   "outputs": [
    {
     "data": {
      "text/html": [
       "<div>\n",
       "<style scoped>\n",
       "    .dataframe tbody tr th:only-of-type {\n",
       "        vertical-align: middle;\n",
       "    }\n",
       "\n",
       "    .dataframe tbody tr th {\n",
       "        vertical-align: top;\n",
       "    }\n",
       "\n",
       "    .dataframe thead th {\n",
       "        text-align: right;\n",
       "    }\n",
       "</style>\n",
       "<table border=\"1\" class=\"dataframe\">\n",
       "  <thead>\n",
       "    <tr style=\"text-align: right;\">\n",
       "      <th></th>\n",
       "      <th>0</th>\n",
       "      <th>1</th>\n",
       "      <th>2</th>\n",
       "      <th>3</th>\n",
       "      <th>4</th>\n",
       "      <th>5</th>\n",
       "      <th>6</th>\n",
       "      <th>7</th>\n",
       "      <th>8</th>\n",
       "      <th>9</th>\n",
       "      <th>...</th>\n",
       "      <th>31</th>\n",
       "      <th>32</th>\n",
       "      <th>33</th>\n",
       "      <th>34</th>\n",
       "      <th>35</th>\n",
       "      <th>36</th>\n",
       "      <th>37</th>\n",
       "      <th>38</th>\n",
       "      <th>39</th>\n",
       "      <th>payoff_year</th>\n",
       "    </tr>\n",
       "  </thead>\n",
       "  <tbody>\n",
       "    <tr>\n",
       "      <th>0</th>\n",
       "      <td>7055.046142</td>\n",
       "      <td>16016.609911</td>\n",
       "      <td>24312.140013</td>\n",
       "      <td>34333.296161</td>\n",
       "      <td>47140.911566</td>\n",
       "      <td>60278.250807</td>\n",
       "      <td>70538.832110</td>\n",
       "      <td>83501.014229</td>\n",
       "      <td>93530.289712</td>\n",
       "      <td>102941.709379</td>\n",
       "      <td>...</td>\n",
       "      <td>461907.029993</td>\n",
       "      <td>478710.884413</td>\n",
       "      <td>494412.014189</td>\n",
       "      <td>512873.278455</td>\n",
       "      <td>538182.129208</td>\n",
       "      <td>560176.382415</td>\n",
       "      <td>594007.294176</td>\n",
       "      <td>621113.401225</td>\n",
       "      <td>643019.147974</td>\n",
       "      <td>2029</td>\n",
       "    </tr>\n",
       "    <tr>\n",
       "      <th>1</th>\n",
       "      <td>11778.333011</td>\n",
       "      <td>18935.889507</td>\n",
       "      <td>25875.496423</td>\n",
       "      <td>35216.582126</td>\n",
       "      <td>46550.888080</td>\n",
       "      <td>54771.198811</td>\n",
       "      <td>65184.514942</td>\n",
       "      <td>77525.312299</td>\n",
       "      <td>89891.909093</td>\n",
       "      <td>100950.693669</td>\n",
       "      <td>...</td>\n",
       "      <td>415136.337440</td>\n",
       "      <td>430997.912532</td>\n",
       "      <td>452152.620044</td>\n",
       "      <td>480946.075180</td>\n",
       "      <td>503903.201069</td>\n",
       "      <td>530578.622378</td>\n",
       "      <td>555797.374404</td>\n",
       "      <td>578547.606840</td>\n",
       "      <td>595834.140173</td>\n",
       "      <td>2029</td>\n",
       "    </tr>\n",
       "    <tr>\n",
       "      <th>2</th>\n",
       "      <td>12356.120729</td>\n",
       "      <td>21987.896223</td>\n",
       "      <td>32591.451816</td>\n",
       "      <td>42872.807107</td>\n",
       "      <td>53134.720879</td>\n",
       "      <td>64949.829434</td>\n",
       "      <td>76745.318015</td>\n",
       "      <td>89161.647500</td>\n",
       "      <td>101911.366268</td>\n",
       "      <td>112667.740724</td>\n",
       "      <td>...</td>\n",
       "      <td>435560.458455</td>\n",
       "      <td>457244.366269</td>\n",
       "      <td>477650.088915</td>\n",
       "      <td>504198.845312</td>\n",
       "      <td>534890.908317</td>\n",
       "      <td>560918.860780</td>\n",
       "      <td>581248.164425</td>\n",
       "      <td>603331.821399</td>\n",
       "      <td>621656.393109</td>\n",
       "      <td>2028</td>\n",
       "    </tr>\n",
       "    <tr>\n",
       "      <th>3</th>\n",
       "      <td>12419.122357</td>\n",
       "      <td>22435.567638</td>\n",
       "      <td>32186.140501</td>\n",
       "      <td>44230.528342</td>\n",
       "      <td>55351.190956</td>\n",
       "      <td>67963.700504</td>\n",
       "      <td>81138.195166</td>\n",
       "      <td>92884.345976</td>\n",
       "      <td>103783.561489</td>\n",
       "      <td>113557.846084</td>\n",
       "      <td>...</td>\n",
       "      <td>418926.251938</td>\n",
       "      <td>439248.634289</td>\n",
       "      <td>462828.475331</td>\n",
       "      <td>486711.019972</td>\n",
       "      <td>512965.151441</td>\n",
       "      <td>536207.314368</td>\n",
       "      <td>559680.244528</td>\n",
       "      <td>579728.470866</td>\n",
       "      <td>600181.868244</td>\n",
       "      <td>2028</td>\n",
       "    </tr>\n",
       "    <tr>\n",
       "      <th>4</th>\n",
       "      <td>12246.576993</td>\n",
       "      <td>20568.831331</td>\n",
       "      <td>29174.187992</td>\n",
       "      <td>38204.750454</td>\n",
       "      <td>45891.409034</td>\n",
       "      <td>52545.816626</td>\n",
       "      <td>60331.417932</td>\n",
       "      <td>70143.066774</td>\n",
       "      <td>78854.839154</td>\n",
       "      <td>91263.186075</td>\n",
       "      <td>...</td>\n",
       "      <td>457203.348438</td>\n",
       "      <td>484288.814926</td>\n",
       "      <td>504429.220114</td>\n",
       "      <td>526750.916183</td>\n",
       "      <td>547973.678153</td>\n",
       "      <td>561394.580288</td>\n",
       "      <td>582977.478421</td>\n",
       "      <td>606584.965040</td>\n",
       "      <td>623966.797805</td>\n",
       "      <td>2030</td>\n",
       "    </tr>\n",
       "  </tbody>\n",
       "</table>\n",
       "<p>5 rows × 41 columns</p>\n",
       "</div>"
      ],
      "text/plain": [
       "              0             1             2             3             4  \\\n",
       "0   7055.046142  16016.609911  24312.140013  34333.296161  47140.911566   \n",
       "1  11778.333011  18935.889507  25875.496423  35216.582126  46550.888080   \n",
       "2  12356.120729  21987.896223  32591.451816  42872.807107  53134.720879   \n",
       "3  12419.122357  22435.567638  32186.140501  44230.528342  55351.190956   \n",
       "4  12246.576993  20568.831331  29174.187992  38204.750454  45891.409034   \n",
       "\n",
       "              5             6             7              8              9  \\\n",
       "0  60278.250807  70538.832110  83501.014229   93530.289712  102941.709379   \n",
       "1  54771.198811  65184.514942  77525.312299   89891.909093  100950.693669   \n",
       "2  64949.829434  76745.318015  89161.647500  101911.366268  112667.740724   \n",
       "3  67963.700504  81138.195166  92884.345976  103783.561489  113557.846084   \n",
       "4  52545.816626  60331.417932  70143.066774   78854.839154   91263.186075   \n",
       "\n",
       "      ...                  31             32             33             34  \\\n",
       "0     ...       461907.029993  478710.884413  494412.014189  512873.278455   \n",
       "1     ...       415136.337440  430997.912532  452152.620044  480946.075180   \n",
       "2     ...       435560.458455  457244.366269  477650.088915  504198.845312   \n",
       "3     ...       418926.251938  439248.634289  462828.475331  486711.019972   \n",
       "4     ...       457203.348438  484288.814926  504429.220114  526750.916183   \n",
       "\n",
       "              35             36             37             38             39  \\\n",
       "0  538182.129208  560176.382415  594007.294176  621113.401225  643019.147974   \n",
       "1  503903.201069  530578.622378  555797.374404  578547.606840  595834.140173   \n",
       "2  534890.908317  560918.860780  581248.164425  603331.821399  621656.393109   \n",
       "3  512965.151441  536207.314368  559680.244528  579728.470866  600181.868244   \n",
       "4  547973.678153  561394.580288  582977.478421  606584.965040  623966.797805   \n",
       "\n",
       "   payoff_year  \n",
       "0         2029  \n",
       "1         2029  \n",
       "2         2028  \n",
       "3         2028  \n",
       "4         2030  \n",
       "\n",
       "[5 rows x 41 columns]"
      ]
     },
     "execution_count": 16,
     "metadata": {},
     "output_type": "execute_result"
    }
   ],
   "source": [
    "# Calculate the year of paying off the loan\n",
    "inc_mat_loan1 = 0.1 * inc_mat1\n",
    "inc_mat_loan1_count = inc_mat_loan1.cumsum(axis=0)\n",
    "df_count1 = pd.DataFrame(inc_mat_loan1_count).T\n",
    "df_count1['payoff_year'] = df_count1.apply(lambda x: (x<95000).sum()+2020, axis=1)\n",
    "df_count1.head()"
   ]
  },
  {
   "cell_type": "code",
   "execution_count": 17,
   "metadata": {},
   "outputs": [
    {
     "data": {
      "text/plain": [
       "7"
      ]
     },
     "execution_count": 17,
     "metadata": {},
     "output_type": "execute_result"
    }
   ],
   "source": [
    "# Calculate number of bins by calculate number of unique years\n",
    "len(df_count1['payoff_year'].unique())"
   ]
  },
  {
   "cell_type": "code",
   "execution_count": 18,
   "metadata": {},
   "outputs": [
    {
     "data": {
      "text/plain": [
       "Text(0.5,1,'Income distribution of MACSS students in year 2020')"
      ]
     },
     "execution_count": 18,
     "metadata": {},
     "output_type": "execute_result"
    },
    {
     "data": {
      "image/png": "[encoded data removed]",
      "text/plain": [
       "<Figure size 432x288 with 1 Axes>"
      ]
     },
     "metadata": {
      "needs_background": "light"
     },
     "output_type": "display_data"
    }
   ],
   "source": [
    "# Plot the histogram of how many years it takes to pay off the loan\n",
    "plt.hist(df_count1['payoff_year'], bins=7)\n",
    "plt.grid(b=True, which='major', color='0.65', linestyle='-')\n",
    "plt.xlabel(\"payoff year\")\n",
    "plt.ylabel(\"Number of students\")\n",
    "plt.title(\"Income distribution of MACSS students in year 2020\")"
   ]
  },
  {
   "cell_type": "code",
   "execution_count": 19,
   "metadata": {},
   "outputs": [
    {
     "name": "stdout",
     "output_type": "stream",
     "text": [
      "76.02\n"
     ]
    }
   ],
   "source": [
    "percentile_10yr1 = stats.percentileofscore(df_count1['payoff_year'], 2030, 'strict')\n",
    "print(percentile_10yr1)"
   ]
  },
  {
   "cell_type": "markdown",
   "metadata": {},
   "source": [
    "76.0%percent of the simulations are able to pay off the loan in 10 years."
   ]
  }
 ],
 "metadata": {
  "kernelspec": {
   "display_name": "Python 3",
   "language": "python",
   "name": "python3"
  },
  "language_info": {
   "codemirror_mode": {
    "name": "ipython",
    "version": 3
   },
   "file_extension": ".py",
   "mimetype": "text/x-python",
   "name": "python",
   "nbconvert_exporter": "python",
   "pygments_lexer": "ipython3",
   "version": "3.6.6"
  }
 },
 "nbformat": 4,
 "nbformat_minor": 2
}
