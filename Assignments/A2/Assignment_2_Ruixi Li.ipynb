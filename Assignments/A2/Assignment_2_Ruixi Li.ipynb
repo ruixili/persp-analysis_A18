{
 "cells": [
  {
   "cell_type": "markdown",
   "metadata": {},
   "source": [
    "# Assignment 2"
   ]
  },
  {
   "cell_type": "markdown",
   "metadata": {},
   "source": [
    "### MACS 30000, Dr. Evans\n",
    "### Ruixi Li"
   ]
  },
  {
   "cell_type": "markdown",
   "metadata": {},
   "source": [
    "Due Wednesday, Oct. 17 at 11:30 AM"
   ]
  },
  {
   "cell_type": "code",
   "execution_count": 1,
   "metadata": {},
   "outputs": [],
   "source": [
    "# Import packages\n",
    "import numpy as np\n",
    "import pandas as pd\n",
    "import statsmodels.api as sm\n",
    "# import matplotlib.pyplot as plt\n",
    "import matplotlib.pyplot as plt\n",
    "# plt.style.use('seaborn')\n",
    "import seaborn as sns\n",
    "\n",
    "#Turn of Notebook Package Warnings\n",
    "import warnings\n",
    "warnings.filterwarnings('ignore')"
   ]
  },
  {
   "cell_type": "markdown",
   "metadata": {},
   "source": [
    "### 1. Imputing age and gender"
   ]
  },
  {
   "cell_type": "markdown",
   "metadata": {},
   "source": [
    "#### (a) \n",
    "For the age, I will use variables total income and weight in SurveyIncome.txt to fit a linear regression model. Then, I will use weight and the sum of labor income and capital income in BestIncome.txt to predict age into the BestIncome.txt.\n",
    "\n",
    "For the gender, I will use variables total income and weight in SurveyIncome.txt to fit a logit model. Then, I will use weight and the sum of labor income and capital income in BestIncome.txt to predict age into the BestIncome.txt."
   ]
  },
  {
   "cell_type": "code",
   "execution_count": 2,
   "metadata": {},
   "outputs": [
    {
     "data": {
      "text/html": [
       "<div>\n",
       "<style scoped>\n",
       "    .dataframe tbody tr th:only-of-type {\n",
       "        vertical-align: middle;\n",
       "    }\n",
       "\n",
       "    .dataframe tbody tr th {\n",
       "        vertical-align: top;\n",
       "    }\n",
       "\n",
       "    .dataframe thead th {\n",
       "        text-align: right;\n",
       "    }\n",
       "</style>\n",
       "<table border=\"1\" class=\"dataframe\">\n",
       "  <thead>\n",
       "    <tr style=\"text-align: right;\">\n",
       "      <th></th>\n",
       "      <th>0</th>\n",
       "      <th>1</th>\n",
       "      <th>2</th>\n",
       "      <th>3</th>\n",
       "    </tr>\n",
       "  </thead>\n",
       "  <tbody>\n",
       "    <tr>\n",
       "      <th>0</th>\n",
       "      <td>52655.605507</td>\n",
       "      <td>9279.509829</td>\n",
       "      <td>64.568138</td>\n",
       "      <td>152.920634</td>\n",
       "    </tr>\n",
       "    <tr>\n",
       "      <th>1</th>\n",
       "      <td>70586.979225</td>\n",
       "      <td>9451.016902</td>\n",
       "      <td>65.727648</td>\n",
       "      <td>159.534414</td>\n",
       "    </tr>\n",
       "    <tr>\n",
       "      <th>2</th>\n",
       "      <td>53738.008339</td>\n",
       "      <td>8078.132315</td>\n",
       "      <td>66.268796</td>\n",
       "      <td>152.502405</td>\n",
       "    </tr>\n",
       "    <tr>\n",
       "      <th>3</th>\n",
       "      <td>55128.180903</td>\n",
       "      <td>12692.670403</td>\n",
       "      <td>62.910559</td>\n",
       "      <td>149.218189</td>\n",
       "    </tr>\n",
       "    <tr>\n",
       "      <th>4</th>\n",
       "      <td>44482.794867</td>\n",
       "      <td>9812.975746</td>\n",
       "      <td>68.678295</td>\n",
       "      <td>152.726358</td>\n",
       "    </tr>\n",
       "  </tbody>\n",
       "</table>\n",
       "</div>"
      ],
      "text/plain": [
       "              0             1          2           3\n",
       "0  52655.605507   9279.509829  64.568138  152.920634\n",
       "1  70586.979225   9451.016902  65.727648  159.534414\n",
       "2  53738.008339   8078.132315  66.268796  152.502405\n",
       "3  55128.180903  12692.670403  62.910559  149.218189\n",
       "4  44482.794867   9812.975746  68.678295  152.726358"
      ]
     },
     "execution_count": 2,
     "metadata": {},
     "output_type": "execute_result"
    }
   ],
   "source": [
    "# read in my data of BestIncome.txt\n",
    "BestIncome = pd.read_csv(\"BestIncome.txt\", header=None)\n",
    "BestIncome.head()"
   ]
  },
  {
   "cell_type": "code",
   "execution_count": 3,
   "metadata": {},
   "outputs": [
    {
     "data": {
      "text/html": [
       "<div>\n",
       "<style scoped>\n",
       "    .dataframe tbody tr th:only-of-type {\n",
       "        vertical-align: middle;\n",
       "    }\n",
       "\n",
       "    .dataframe tbody tr th {\n",
       "        vertical-align: top;\n",
       "    }\n",
       "\n",
       "    .dataframe thead th {\n",
       "        text-align: right;\n",
       "    }\n",
       "</style>\n",
       "<table border=\"1\" class=\"dataframe\">\n",
       "  <thead>\n",
       "    <tr style=\"text-align: right;\">\n",
       "      <th></th>\n",
       "      <th>lab_inc</th>\n",
       "      <th>cap_inc</th>\n",
       "      <th>hgt</th>\n",
       "      <th>wgt</th>\n",
       "    </tr>\n",
       "  </thead>\n",
       "  <tbody>\n",
       "    <tr>\n",
       "      <th>0</th>\n",
       "      <td>52655.605507</td>\n",
       "      <td>9279.509829</td>\n",
       "      <td>64.568138</td>\n",
       "      <td>152.920634</td>\n",
       "    </tr>\n",
       "    <tr>\n",
       "      <th>1</th>\n",
       "      <td>70586.979225</td>\n",
       "      <td>9451.016902</td>\n",
       "      <td>65.727648</td>\n",
       "      <td>159.534414</td>\n",
       "    </tr>\n",
       "    <tr>\n",
       "      <th>2</th>\n",
       "      <td>53738.008339</td>\n",
       "      <td>8078.132315</td>\n",
       "      <td>66.268796</td>\n",
       "      <td>152.502405</td>\n",
       "    </tr>\n",
       "    <tr>\n",
       "      <th>3</th>\n",
       "      <td>55128.180903</td>\n",
       "      <td>12692.670403</td>\n",
       "      <td>62.910559</td>\n",
       "      <td>149.218189</td>\n",
       "    </tr>\n",
       "    <tr>\n",
       "      <th>4</th>\n",
       "      <td>44482.794867</td>\n",
       "      <td>9812.975746</td>\n",
       "      <td>68.678295</td>\n",
       "      <td>152.726358</td>\n",
       "    </tr>\n",
       "  </tbody>\n",
       "</table>\n",
       "</div>"
      ],
      "text/plain": [
       "        lab_inc       cap_inc        hgt         wgt\n",
       "0  52655.605507   9279.509829  64.568138  152.920634\n",
       "1  70586.979225   9451.016902  65.727648  159.534414\n",
       "2  53738.008339   8078.132315  66.268796  152.502405\n",
       "3  55128.180903  12692.670403  62.910559  149.218189\n",
       "4  44482.794867   9812.975746  68.678295  152.726358"
      ]
     },
     "execution_count": 3,
     "metadata": {},
     "output_type": "execute_result"
    }
   ],
   "source": [
    "# name my variables of BestIncome.txt\n",
    "BestIncome_cols = ['lab_inc','cap_inc','hgt','wgt']\n",
    "BestIncome.columns = BestIncome_cols\n",
    "BestIncome.head()"
   ]
  },
  {
   "cell_type": "code",
   "execution_count": 4,
   "metadata": {},
   "outputs": [
    {
     "data": {
      "text/html": [
       "<div>\n",
       "<style scoped>\n",
       "    .dataframe tbody tr th:only-of-type {\n",
       "        vertical-align: middle;\n",
       "    }\n",
       "\n",
       "    .dataframe tbody tr th {\n",
       "        vertical-align: top;\n",
       "    }\n",
       "\n",
       "    .dataframe thead th {\n",
       "        text-align: right;\n",
       "    }\n",
       "</style>\n",
       "<table border=\"1\" class=\"dataframe\">\n",
       "  <thead>\n",
       "    <tr style=\"text-align: right;\">\n",
       "      <th></th>\n",
       "      <th>lab_inc</th>\n",
       "      <th>cap_inc</th>\n",
       "      <th>hgt</th>\n",
       "      <th>wgt</th>\n",
       "    </tr>\n",
       "  </thead>\n",
       "  <tbody>\n",
       "    <tr>\n",
       "      <th>count</th>\n",
       "      <td>10000.000000</td>\n",
       "      <td>10000.000000</td>\n",
       "      <td>10000.000000</td>\n",
       "      <td>10000.000000</td>\n",
       "    </tr>\n",
       "    <tr>\n",
       "      <th>mean</th>\n",
       "      <td>57052.925133</td>\n",
       "      <td>9985.798563</td>\n",
       "      <td>65.014021</td>\n",
       "      <td>150.006011</td>\n",
       "    </tr>\n",
       "    <tr>\n",
       "      <th>std</th>\n",
       "      <td>8036.544363</td>\n",
       "      <td>2010.123691</td>\n",
       "      <td>1.999692</td>\n",
       "      <td>9.973001</td>\n",
       "    </tr>\n",
       "    <tr>\n",
       "      <th>min</th>\n",
       "      <td>22917.607900</td>\n",
       "      <td>1495.191896</td>\n",
       "      <td>58.176154</td>\n",
       "      <td>114.510700</td>\n",
       "    </tr>\n",
       "    <tr>\n",
       "      <th>25%</th>\n",
       "      <td>51624.339880</td>\n",
       "      <td>8611.756679</td>\n",
       "      <td>63.652971</td>\n",
       "      <td>143.341979</td>\n",
       "    </tr>\n",
       "    <tr>\n",
       "      <th>50%</th>\n",
       "      <td>56968.709935</td>\n",
       "      <td>9969.840117</td>\n",
       "      <td>65.003557</td>\n",
       "      <td>149.947641</td>\n",
       "    </tr>\n",
       "    <tr>\n",
       "      <th>75%</th>\n",
       "      <td>62408.232277</td>\n",
       "      <td>11339.905773</td>\n",
       "      <td>66.356915</td>\n",
       "      <td>156.724586</td>\n",
       "    </tr>\n",
       "    <tr>\n",
       "      <th>max</th>\n",
       "      <td>90059.898537</td>\n",
       "      <td>19882.320069</td>\n",
       "      <td>72.802277</td>\n",
       "      <td>185.408280</td>\n",
       "    </tr>\n",
       "  </tbody>\n",
       "</table>\n",
       "</div>"
      ],
      "text/plain": [
       "            lab_inc       cap_inc           hgt           wgt\n",
       "count  10000.000000  10000.000000  10000.000000  10000.000000\n",
       "mean   57052.925133   9985.798563     65.014021    150.006011\n",
       "std     8036.544363   2010.123691      1.999692      9.973001\n",
       "min    22917.607900   1495.191896     58.176154    114.510700\n",
       "25%    51624.339880   8611.756679     63.652971    143.341979\n",
       "50%    56968.709935   9969.840117     65.003557    149.947641\n",
       "75%    62408.232277  11339.905773     66.356915    156.724586\n",
       "max    90059.898537  19882.320069     72.802277    185.408280"
      ]
     },
     "execution_count": 4,
     "metadata": {},
     "output_type": "execute_result"
    }
   ],
   "source": [
    "# run descriptive statistics of BestIncome.txt\n",
    "BestIncome.describe()"
   ]
  },
  {
   "cell_type": "code",
   "execution_count": 5,
   "metadata": {},
   "outputs": [
    {
     "data": {
      "text/html": [
       "<div>\n",
       "<style scoped>\n",
       "    .dataframe tbody tr th:only-of-type {\n",
       "        vertical-align: middle;\n",
       "    }\n",
       "\n",
       "    .dataframe tbody tr th {\n",
       "        vertical-align: top;\n",
       "    }\n",
       "\n",
       "    .dataframe thead th {\n",
       "        text-align: right;\n",
       "    }\n",
       "</style>\n",
       "<table border=\"1\" class=\"dataframe\">\n",
       "  <thead>\n",
       "    <tr style=\"text-align: right;\">\n",
       "      <th></th>\n",
       "      <th>0</th>\n",
       "      <th>1</th>\n",
       "      <th>2</th>\n",
       "      <th>3</th>\n",
       "    </tr>\n",
       "  </thead>\n",
       "  <tbody>\n",
       "    <tr>\n",
       "      <th>0</th>\n",
       "      <td>63642.513655</td>\n",
       "      <td>134.998269</td>\n",
       "      <td>46.610021</td>\n",
       "      <td>1.0</td>\n",
       "    </tr>\n",
       "    <tr>\n",
       "      <th>1</th>\n",
       "      <td>49177.380692</td>\n",
       "      <td>134.392957</td>\n",
       "      <td>48.791349</td>\n",
       "      <td>1.0</td>\n",
       "    </tr>\n",
       "    <tr>\n",
       "      <th>2</th>\n",
       "      <td>67833.339128</td>\n",
       "      <td>126.482992</td>\n",
       "      <td>48.429894</td>\n",
       "      <td>1.0</td>\n",
       "    </tr>\n",
       "    <tr>\n",
       "      <th>3</th>\n",
       "      <td>62962.266217</td>\n",
       "      <td>128.038121</td>\n",
       "      <td>41.543926</td>\n",
       "      <td>1.0</td>\n",
       "    </tr>\n",
       "    <tr>\n",
       "      <th>4</th>\n",
       "      <td>58716.952597</td>\n",
       "      <td>126.211980</td>\n",
       "      <td>41.201245</td>\n",
       "      <td>1.0</td>\n",
       "    </tr>\n",
       "  </tbody>\n",
       "</table>\n",
       "</div>"
      ],
      "text/plain": [
       "              0           1          2    3\n",
       "0  63642.513655  134.998269  46.610021  1.0\n",
       "1  49177.380692  134.392957  48.791349  1.0\n",
       "2  67833.339128  126.482992  48.429894  1.0\n",
       "3  62962.266217  128.038121  41.543926  1.0\n",
       "4  58716.952597  126.211980  41.201245  1.0"
      ]
     },
     "execution_count": 5,
     "metadata": {},
     "output_type": "execute_result"
    }
   ],
   "source": [
    "# read in my data of SurveyIncome.txt\n",
    "SurveyIncome = pd.read_csv(\"SurveyIncome.txt\", header=None)\n",
    "SurveyIncome.head()"
   ]
  },
  {
   "cell_type": "code",
   "execution_count": 6,
   "metadata": {},
   "outputs": [
    {
     "data": {
      "text/html": [
       "<div>\n",
       "<style scoped>\n",
       "    .dataframe tbody tr th:only-of-type {\n",
       "        vertical-align: middle;\n",
       "    }\n",
       "\n",
       "    .dataframe tbody tr th {\n",
       "        vertical-align: top;\n",
       "    }\n",
       "\n",
       "    .dataframe thead th {\n",
       "        text-align: right;\n",
       "    }\n",
       "</style>\n",
       "<table border=\"1\" class=\"dataframe\">\n",
       "  <thead>\n",
       "    <tr style=\"text-align: right;\">\n",
       "      <th></th>\n",
       "      <th>tot_inc</th>\n",
       "      <th>wgt</th>\n",
       "      <th>age</th>\n",
       "      <th>female</th>\n",
       "    </tr>\n",
       "  </thead>\n",
       "  <tbody>\n",
       "    <tr>\n",
       "      <th>0</th>\n",
       "      <td>63642.513655</td>\n",
       "      <td>134.998269</td>\n",
       "      <td>46.610021</td>\n",
       "      <td>1.0</td>\n",
       "    </tr>\n",
       "    <tr>\n",
       "      <th>1</th>\n",
       "      <td>49177.380692</td>\n",
       "      <td>134.392957</td>\n",
       "      <td>48.791349</td>\n",
       "      <td>1.0</td>\n",
       "    </tr>\n",
       "    <tr>\n",
       "      <th>2</th>\n",
       "      <td>67833.339128</td>\n",
       "      <td>126.482992</td>\n",
       "      <td>48.429894</td>\n",
       "      <td>1.0</td>\n",
       "    </tr>\n",
       "    <tr>\n",
       "      <th>3</th>\n",
       "      <td>62962.266217</td>\n",
       "      <td>128.038121</td>\n",
       "      <td>41.543926</td>\n",
       "      <td>1.0</td>\n",
       "    </tr>\n",
       "    <tr>\n",
       "      <th>4</th>\n",
       "      <td>58716.952597</td>\n",
       "      <td>126.211980</td>\n",
       "      <td>41.201245</td>\n",
       "      <td>1.0</td>\n",
       "    </tr>\n",
       "  </tbody>\n",
       "</table>\n",
       "</div>"
      ],
      "text/plain": [
       "        tot_inc         wgt        age  female\n",
       "0  63642.513655  134.998269  46.610021     1.0\n",
       "1  49177.380692  134.392957  48.791349     1.0\n",
       "2  67833.339128  126.482992  48.429894     1.0\n",
       "3  62962.266217  128.038121  41.543926     1.0\n",
       "4  58716.952597  126.211980  41.201245     1.0"
      ]
     },
     "execution_count": 6,
     "metadata": {},
     "output_type": "execute_result"
    }
   ],
   "source": [
    "# name my variables of SurveyIncome.txt\n",
    "SurveyIncome_cols = ['tot_inc','wgt','age','female']\n",
    "SurveyIncome.columns = SurveyIncome_cols\n",
    "SurveyIncome.head()"
   ]
  },
  {
   "cell_type": "code",
   "execution_count": 7,
   "metadata": {
    "scrolled": true
   },
   "outputs": [
    {
     "data": {
      "text/html": [
       "<div>\n",
       "<style scoped>\n",
       "    .dataframe tbody tr th:only-of-type {\n",
       "        vertical-align: middle;\n",
       "    }\n",
       "\n",
       "    .dataframe tbody tr th {\n",
       "        vertical-align: top;\n",
       "    }\n",
       "\n",
       "    .dataframe thead th {\n",
       "        text-align: right;\n",
       "    }\n",
       "</style>\n",
       "<table border=\"1\" class=\"dataframe\">\n",
       "  <thead>\n",
       "    <tr style=\"text-align: right;\">\n",
       "      <th></th>\n",
       "      <th>tot_inc</th>\n",
       "      <th>wgt</th>\n",
       "      <th>age</th>\n",
       "      <th>female</th>\n",
       "    </tr>\n",
       "  </thead>\n",
       "  <tbody>\n",
       "    <tr>\n",
       "      <th>count</th>\n",
       "      <td>1000.000000</td>\n",
       "      <td>1000.000000</td>\n",
       "      <td>1000.000000</td>\n",
       "      <td>1000.00000</td>\n",
       "    </tr>\n",
       "    <tr>\n",
       "      <th>mean</th>\n",
       "      <td>64871.210860</td>\n",
       "      <td>149.542181</td>\n",
       "      <td>44.839320</td>\n",
       "      <td>0.50000</td>\n",
       "    </tr>\n",
       "    <tr>\n",
       "      <th>std</th>\n",
       "      <td>9542.444214</td>\n",
       "      <td>22.028883</td>\n",
       "      <td>5.939185</td>\n",
       "      <td>0.50025</td>\n",
       "    </tr>\n",
       "    <tr>\n",
       "      <th>min</th>\n",
       "      <td>31816.281649</td>\n",
       "      <td>99.662468</td>\n",
       "      <td>25.741333</td>\n",
       "      <td>0.00000</td>\n",
       "    </tr>\n",
       "    <tr>\n",
       "      <th>25%</th>\n",
       "      <td>58349.862384</td>\n",
       "      <td>130.179235</td>\n",
       "      <td>41.025231</td>\n",
       "      <td>0.00000</td>\n",
       "    </tr>\n",
       "    <tr>\n",
       "      <th>50%</th>\n",
       "      <td>65281.271149</td>\n",
       "      <td>149.758434</td>\n",
       "      <td>44.955981</td>\n",
       "      <td>0.50000</td>\n",
       "    </tr>\n",
       "    <tr>\n",
       "      <th>75%</th>\n",
       "      <td>71749.038000</td>\n",
       "      <td>170.147337</td>\n",
       "      <td>48.817644</td>\n",
       "      <td>1.00000</td>\n",
       "    </tr>\n",
       "    <tr>\n",
       "      <th>max</th>\n",
       "      <td>92556.135462</td>\n",
       "      <td>196.503274</td>\n",
       "      <td>66.534646</td>\n",
       "      <td>1.00000</td>\n",
       "    </tr>\n",
       "  </tbody>\n",
       "</table>\n",
       "</div>"
      ],
      "text/plain": [
       "            tot_inc          wgt          age      female\n",
       "count   1000.000000  1000.000000  1000.000000  1000.00000\n",
       "mean   64871.210860   149.542181    44.839320     0.50000\n",
       "std     9542.444214    22.028883     5.939185     0.50025\n",
       "min    31816.281649    99.662468    25.741333     0.00000\n",
       "25%    58349.862384   130.179235    41.025231     0.00000\n",
       "50%    65281.271149   149.758434    44.955981     0.50000\n",
       "75%    71749.038000   170.147337    48.817644     1.00000\n",
       "max    92556.135462   196.503274    66.534646     1.00000"
      ]
     },
     "execution_count": 7,
     "metadata": {},
     "output_type": "execute_result"
    }
   ],
   "source": [
    "# run descriptive statistics of SurveyIncome.txt\n",
    "SurveyIncome.describe()"
   ]
  },
  {
   "cell_type": "markdown",
   "metadata": {},
   "source": [
    "#### (b) \n",
    "Here is where I'll use my proposed method from part (a) to impute age."
   ]
  },
  {
   "cell_type": "code",
   "execution_count": 8,
   "metadata": {},
   "outputs": [],
   "source": [
    "# Define Outcome and Independent Variables\n",
    "outcome = 'age'\n",
    "features = ['tot_inc','wgt']\n",
    "\n",
    "X,y = SurveyIncome[features], SurveyIncome[outcome]"
   ]
  },
  {
   "cell_type": "code",
   "execution_count": 9,
   "metadata": {},
   "outputs": [
    {
     "data": {
      "text/html": [
       "<div>\n",
       "<style scoped>\n",
       "    .dataframe tbody tr th:only-of-type {\n",
       "        vertical-align: middle;\n",
       "    }\n",
       "\n",
       "    .dataframe tbody tr th {\n",
       "        vertical-align: top;\n",
       "    }\n",
       "\n",
       "    .dataframe thead th {\n",
       "        text-align: right;\n",
       "    }\n",
       "</style>\n",
       "<table border=\"1\" class=\"dataframe\">\n",
       "  <thead>\n",
       "    <tr style=\"text-align: right;\">\n",
       "      <th></th>\n",
       "      <th>tot_inc</th>\n",
       "      <th>wgt</th>\n",
       "    </tr>\n",
       "  </thead>\n",
       "  <tbody>\n",
       "    <tr>\n",
       "      <th>0</th>\n",
       "      <td>63642.513655</td>\n",
       "      <td>134.998269</td>\n",
       "    </tr>\n",
       "    <tr>\n",
       "      <th>1</th>\n",
       "      <td>49177.380692</td>\n",
       "      <td>134.392957</td>\n",
       "    </tr>\n",
       "    <tr>\n",
       "      <th>2</th>\n",
       "      <td>67833.339128</td>\n",
       "      <td>126.482992</td>\n",
       "    </tr>\n",
       "    <tr>\n",
       "      <th>3</th>\n",
       "      <td>62962.266217</td>\n",
       "      <td>128.038121</td>\n",
       "    </tr>\n",
       "    <tr>\n",
       "      <th>4</th>\n",
       "      <td>58716.952597</td>\n",
       "      <td>126.211980</td>\n",
       "    </tr>\n",
       "  </tbody>\n",
       "</table>\n",
       "</div>"
      ],
      "text/plain": [
       "        tot_inc         wgt\n",
       "0  63642.513655  134.998269\n",
       "1  49177.380692  134.392957\n",
       "2  67833.339128  126.482992\n",
       "3  62962.266217  128.038121\n",
       "4  58716.952597  126.211980"
      ]
     },
     "execution_count": 9,
     "metadata": {},
     "output_type": "execute_result"
    }
   ],
   "source": [
    "X.head()"
   ]
  },
  {
   "cell_type": "code",
   "execution_count": 10,
   "metadata": {},
   "outputs": [
    {
     "data": {
      "text/plain": [
       "0    46.610021\n",
       "1    48.791349\n",
       "2    48.429894\n",
       "3    41.543926\n",
       "4    41.201245\n",
       "Name: age, dtype: float64"
      ]
     },
     "execution_count": 10,
     "metadata": {},
     "output_type": "execute_result"
    }
   ],
   "source": [
    "y.head()"
   ]
  },
  {
   "cell_type": "code",
   "execution_count": 11,
   "metadata": {},
   "outputs": [
    {
     "name": "stdout",
     "output_type": "stream",
     "text": [
      "                            OLS Regression Results                            \n",
      "==============================================================================\n",
      "Dep. Variable:                    age   R-squared:                       0.001\n",
      "Model:                            OLS   Adj. R-squared:                 -0.001\n",
      "Method:                 Least Squares   F-statistic:                    0.6326\n",
      "Date:                Sun, 14 Oct 2018   Prob (F-statistic):              0.531\n",
      "Time:                        22:17:46   Log-Likelihood:                -3199.4\n",
      "No. Observations:                1000   AIC:                             6405.\n",
      "Df Residuals:                     997   BIC:                             6419.\n",
      "Df Model:                           2                                         \n",
      "Covariance Type:            nonrobust                                         \n",
      "==============================================================================\n",
      "                 coef    std err          t      P>|t|      [0.025      0.975]\n",
      "------------------------------------------------------------------------------\n",
      "tot_inc      2.52e-05   2.26e-05      1.114      0.266   -1.92e-05    6.96e-05\n",
      "wgt           -0.0067      0.010     -0.686      0.493      -0.026       0.013\n",
      "const         44.2097      1.490     29.666      0.000      41.285      47.134\n",
      "==============================================================================\n",
      "Omnibus:                        2.460   Durbin-Watson:                   1.921\n",
      "Prob(Omnibus):                  0.292   Jarque-Bera (JB):                2.322\n",
      "Skew:                          -0.109   Prob(JB):                        0.313\n",
      "Kurtosis:                       3.092   Cond. No.                     5.20e+05\n",
      "==============================================================================\n",
      "\n",
      "Warnings:\n",
      "[1] Standard Errors assume that the covariance matrix of the errors is correctly specified.\n",
      "[2] The condition number is large, 5.2e+05. This might indicate that there are\n",
      "strong multicollinearity or other numerical problems.\n"
     ]
    }
   ],
   "source": [
    "# run regression\n",
    "\n",
    "X = sm.add_constant(X, prepend=False)\n",
    "\n",
    "m = sm.OLS(y, X)\n",
    "\n",
    "res = m.fit()\n",
    "print(res.summary())"
   ]
  },
  {
   "cell_type": "markdown",
   "metadata": {},
   "source": [
    "I obtained the following linear regression equation:\n",
    "$$age = 44.2097 + 0.0000252 tot\\underline{ }inc - 0.0067wgt$$\n",
    "\n",
    "Then, I will predict age in BestIncome.txt:"
   ]
  },
  {
   "cell_type": "code",
   "execution_count": 12,
   "metadata": {},
   "outputs": [],
   "source": [
    "# get total income by adding labor income and capital income toghether\n",
    "BestIncome['tot_inc'] = BestIncome['lab_inc'] + BestIncome['cap_inc']"
   ]
  },
  {
   "cell_type": "code",
   "execution_count": 13,
   "metadata": {},
   "outputs": [
    {
     "data": {
      "text/html": [
       "<div>\n",
       "<style scoped>\n",
       "    .dataframe tbody tr th:only-of-type {\n",
       "        vertical-align: middle;\n",
       "    }\n",
       "\n",
       "    .dataframe tbody tr th {\n",
       "        vertical-align: top;\n",
       "    }\n",
       "\n",
       "    .dataframe thead th {\n",
       "        text-align: right;\n",
       "    }\n",
       "</style>\n",
       "<table border=\"1\" class=\"dataframe\">\n",
       "  <thead>\n",
       "    <tr style=\"text-align: right;\">\n",
       "      <th></th>\n",
       "      <th>lab_inc</th>\n",
       "      <th>cap_inc</th>\n",
       "      <th>hgt</th>\n",
       "      <th>wgt</th>\n",
       "      <th>tot_inc</th>\n",
       "      <th>age</th>\n",
       "    </tr>\n",
       "  </thead>\n",
       "  <tbody>\n",
       "    <tr>\n",
       "      <th>0</th>\n",
       "      <td>52655.605507</td>\n",
       "      <td>9279.509829</td>\n",
       "      <td>64.568138</td>\n",
       "      <td>152.920634</td>\n",
       "      <td>61935.115336</td>\n",
       "      <td>44.742614</td>\n",
       "    </tr>\n",
       "    <tr>\n",
       "      <th>1</th>\n",
       "      <td>70586.979225</td>\n",
       "      <td>9451.016902</td>\n",
       "      <td>65.727648</td>\n",
       "      <td>159.534414</td>\n",
       "      <td>80037.996127</td>\n",
       "      <td>45.154387</td>\n",
       "    </tr>\n",
       "    <tr>\n",
       "      <th>2</th>\n",
       "      <td>53738.008339</td>\n",
       "      <td>8078.132315</td>\n",
       "      <td>66.268796</td>\n",
       "      <td>152.502405</td>\n",
       "      <td>61816.140654</td>\n",
       "      <td>44.742427</td>\n",
       "    </tr>\n",
       "    <tr>\n",
       "      <th>3</th>\n",
       "      <td>55128.180903</td>\n",
       "      <td>12692.670403</td>\n",
       "      <td>62.910559</td>\n",
       "      <td>149.218189</td>\n",
       "      <td>67820.851305</td>\n",
       "      <td>44.915836</td>\n",
       "    </tr>\n",
       "    <tr>\n",
       "      <th>4</th>\n",
       "      <td>44482.794867</td>\n",
       "      <td>9812.975746</td>\n",
       "      <td>68.678295</td>\n",
       "      <td>152.726358</td>\n",
       "      <td>54295.770612</td>\n",
       "      <td>44.551391</td>\n",
       "    </tr>\n",
       "  </tbody>\n",
       "</table>\n",
       "</div>"
      ],
      "text/plain": [
       "        lab_inc       cap_inc        hgt         wgt       tot_inc        age\n",
       "0  52655.605507   9279.509829  64.568138  152.920634  61935.115336  44.742614\n",
       "1  70586.979225   9451.016902  65.727648  159.534414  80037.996127  45.154387\n",
       "2  53738.008339   8078.132315  66.268796  152.502405  61816.140654  44.742427\n",
       "3  55128.180903  12692.670403  62.910559  149.218189  67820.851305  44.915836\n",
       "4  44482.794867   9812.975746  68.678295  152.726358  54295.770612  44.551391"
      ]
     },
     "execution_count": 13,
     "metadata": {},
     "output_type": "execute_result"
    }
   ],
   "source": [
    "# predit age\n",
    "X = BestIncome[features]\n",
    "X = sm.add_constant(X, prepend = False)\n",
    "BestIncome['age'] = res.predict(X)\n",
    "BestIncome.head()"
   ]
  },
  {
   "cell_type": "markdown",
   "metadata": {},
   "source": [
    "Here is where I'll use my proposed method from part (a) to impute gender."
   ]
  },
  {
   "cell_type": "code",
   "execution_count": 14,
   "metadata": {},
   "outputs": [],
   "source": [
    "# Define Outcome and Independent Variables\n",
    "outcome = 'female'\n",
    "features = ['tot_inc','wgt']\n",
    "\n",
    "X,y = SurveyIncome[features], SurveyIncome[outcome]"
   ]
  },
  {
   "cell_type": "code",
   "execution_count": 15,
   "metadata": {},
   "outputs": [
    {
     "data": {
      "text/html": [
       "<div>\n",
       "<style scoped>\n",
       "    .dataframe tbody tr th:only-of-type {\n",
       "        vertical-align: middle;\n",
       "    }\n",
       "\n",
       "    .dataframe tbody tr th {\n",
       "        vertical-align: top;\n",
       "    }\n",
       "\n",
       "    .dataframe thead th {\n",
       "        text-align: right;\n",
       "    }\n",
       "</style>\n",
       "<table border=\"1\" class=\"dataframe\">\n",
       "  <thead>\n",
       "    <tr style=\"text-align: right;\">\n",
       "      <th></th>\n",
       "      <th>tot_inc</th>\n",
       "      <th>wgt</th>\n",
       "    </tr>\n",
       "  </thead>\n",
       "  <tbody>\n",
       "    <tr>\n",
       "      <th>0</th>\n",
       "      <td>63642.513655</td>\n",
       "      <td>134.998269</td>\n",
       "    </tr>\n",
       "    <tr>\n",
       "      <th>1</th>\n",
       "      <td>49177.380692</td>\n",
       "      <td>134.392957</td>\n",
       "    </tr>\n",
       "    <tr>\n",
       "      <th>2</th>\n",
       "      <td>67833.339128</td>\n",
       "      <td>126.482992</td>\n",
       "    </tr>\n",
       "    <tr>\n",
       "      <th>3</th>\n",
       "      <td>62962.266217</td>\n",
       "      <td>128.038121</td>\n",
       "    </tr>\n",
       "    <tr>\n",
       "      <th>4</th>\n",
       "      <td>58716.952597</td>\n",
       "      <td>126.211980</td>\n",
       "    </tr>\n",
       "  </tbody>\n",
       "</table>\n",
       "</div>"
      ],
      "text/plain": [
       "        tot_inc         wgt\n",
       "0  63642.513655  134.998269\n",
       "1  49177.380692  134.392957\n",
       "2  67833.339128  126.482992\n",
       "3  62962.266217  128.038121\n",
       "4  58716.952597  126.211980"
      ]
     },
     "execution_count": 15,
     "metadata": {},
     "output_type": "execute_result"
    }
   ],
   "source": [
    "X.head()"
   ]
  },
  {
   "cell_type": "code",
   "execution_count": 16,
   "metadata": {},
   "outputs": [
    {
     "data": {
      "text/plain": [
       "0    1.0\n",
       "1    1.0\n",
       "2    1.0\n",
       "3    1.0\n",
       "4    1.0\n",
       "Name: female, dtype: float64"
      ]
     },
     "execution_count": 16,
     "metadata": {},
     "output_type": "execute_result"
    }
   ],
   "source": [
    "y.head()"
   ]
  },
  {
   "cell_type": "code",
   "execution_count": 17,
   "metadata": {},
   "outputs": [
    {
     "name": "stdout",
     "output_type": "stream",
     "text": [
      "Optimization terminated successfully.\n",
      "         Current function value: 0.036050\n",
      "         Iterations 11\n",
      "                           Logit Regression Results                           \n",
      "==============================================================================\n",
      "Dep. Variable:                 female   No. Observations:                 1000\n",
      "Model:                          Logit   Df Residuals:                      997\n",
      "Method:                           MLE   Df Model:                            2\n",
      "Date:                Sun, 14 Oct 2018   Pseudo R-squ.:                  0.9480\n",
      "Time:                        22:17:46   Log-Likelihood:                -36.050\n",
      "converged:                       True   LL-Null:                       -693.15\n",
      "                                        LLR p-value:                4.232e-286\n",
      "==============================================================================\n",
      "                 coef    std err          z      P>|z|      [0.025      0.975]\n",
      "------------------------------------------------------------------------------\n",
      "tot_inc       -0.0002   4.25e-05     -3.660      0.000      -0.000   -7.22e-05\n",
      "wgt           -0.4460      0.062     -7.219      0.000      -0.567      -0.325\n",
      "const         76.7929     10.569      7.266      0.000      56.078      97.508\n",
      "==============================================================================\n",
      "\n",
      "Possibly complete quasi-separation: A fraction 0.55 of observations can be\n",
      "perfectly predicted. This might indicate that there is complete\n",
      "quasi-separation. In this case some parameters will not be identified.\n"
     ]
    }
   ],
   "source": [
    "# run regression\n",
    "\n",
    "X = sm.add_constant(X, prepend=False)\n",
    "\n",
    "m = sm.Logit(y, X)\n",
    "\n",
    "res = m.fit()\n",
    "print(res.summary())"
   ]
  },
  {
   "cell_type": "markdown",
   "metadata": {},
   "source": [
    "I obtained the following logit regression equation:\n",
    "$$logit(female) = 76.7929 - 0.0002 \\times tot\\underline{ }inc - 0.4460 \\times wgt$$\n",
    "\n",
    "Then, I will predict gender in BestIncome.txt:"
   ]
  },
  {
   "cell_type": "code",
   "execution_count": 18,
   "metadata": {},
   "outputs": [
    {
     "data": {
      "text/html": [
       "<div>\n",
       "<style scoped>\n",
       "    .dataframe tbody tr th:only-of-type {\n",
       "        vertical-align: middle;\n",
       "    }\n",
       "\n",
       "    .dataframe tbody tr th {\n",
       "        vertical-align: top;\n",
       "    }\n",
       "\n",
       "    .dataframe thead th {\n",
       "        text-align: right;\n",
       "    }\n",
       "</style>\n",
       "<table border=\"1\" class=\"dataframe\">\n",
       "  <thead>\n",
       "    <tr style=\"text-align: right;\">\n",
       "      <th></th>\n",
       "      <th>lab_inc</th>\n",
       "      <th>cap_inc</th>\n",
       "      <th>hgt</th>\n",
       "      <th>wgt</th>\n",
       "      <th>tot_inc</th>\n",
       "      <th>age</th>\n",
       "      <th>gender</th>\n",
       "    </tr>\n",
       "  </thead>\n",
       "  <tbody>\n",
       "    <tr>\n",
       "      <th>0</th>\n",
       "      <td>52655.605507</td>\n",
       "      <td>9279.509829</td>\n",
       "      <td>64.568138</td>\n",
       "      <td>152.920634</td>\n",
       "      <td>61935.115336</td>\n",
       "      <td>44.742614</td>\n",
       "      <td>0.0</td>\n",
       "    </tr>\n",
       "    <tr>\n",
       "      <th>1</th>\n",
       "      <td>70586.979225</td>\n",
       "      <td>9451.016902</td>\n",
       "      <td>65.727648</td>\n",
       "      <td>159.534414</td>\n",
       "      <td>80037.996127</td>\n",
       "      <td>45.154387</td>\n",
       "      <td>0.0</td>\n",
       "    </tr>\n",
       "    <tr>\n",
       "      <th>2</th>\n",
       "      <td>53738.008339</td>\n",
       "      <td>8078.132315</td>\n",
       "      <td>66.268796</td>\n",
       "      <td>152.502405</td>\n",
       "      <td>61816.140654</td>\n",
       "      <td>44.742427</td>\n",
       "      <td>0.0</td>\n",
       "    </tr>\n",
       "    <tr>\n",
       "      <th>3</th>\n",
       "      <td>55128.180903</td>\n",
       "      <td>12692.670403</td>\n",
       "      <td>62.910559</td>\n",
       "      <td>149.218189</td>\n",
       "      <td>67820.851305</td>\n",
       "      <td>44.915836</td>\n",
       "      <td>0.0</td>\n",
       "    </tr>\n",
       "    <tr>\n",
       "      <th>4</th>\n",
       "      <td>44482.794867</td>\n",
       "      <td>9812.975746</td>\n",
       "      <td>68.678295</td>\n",
       "      <td>152.726358</td>\n",
       "      <td>54295.770612</td>\n",
       "      <td>44.551391</td>\n",
       "      <td>1.0</td>\n",
       "    </tr>\n",
       "  </tbody>\n",
       "</table>\n",
       "</div>"
      ],
      "text/plain": [
       "        lab_inc       cap_inc        hgt         wgt       tot_inc        age  \\\n",
       "0  52655.605507   9279.509829  64.568138  152.920634  61935.115336  44.742614   \n",
       "1  70586.979225   9451.016902  65.727648  159.534414  80037.996127  45.154387   \n",
       "2  53738.008339   8078.132315  66.268796  152.502405  61816.140654  44.742427   \n",
       "3  55128.180903  12692.670403  62.910559  149.218189  67820.851305  44.915836   \n",
       "4  44482.794867   9812.975746  68.678295  152.726358  54295.770612  44.551391   \n",
       "\n",
       "   gender  \n",
       "0     0.0  \n",
       "1     0.0  \n",
       "2     0.0  \n",
       "3     0.0  \n",
       "4     1.0  "
      ]
     },
     "execution_count": 18,
     "metadata": {},
     "output_type": "execute_result"
    }
   ],
   "source": [
    "# predict gender\n",
    "X = BestIncome[features]\n",
    "X = sm.add_constant(X, prepend = False)\n",
    "BestIncome['gender'] = res.predict(X)\n",
    "BestIncome['gender'][BestIncome['gender'] >= 0.5] = 1\n",
    "BestIncome['gender'][BestIncome['gender'] < 0.5] = 0\n",
    "BestIncome.head()"
   ]
  },
  {
   "cell_type": "code",
   "execution_count": 19,
   "metadata": {},
   "outputs": [
    {
     "data": {
      "text/html": [
       "<div>\n",
       "<style scoped>\n",
       "    .dataframe tbody tr th:only-of-type {\n",
       "        vertical-align: middle;\n",
       "    }\n",
       "\n",
       "    .dataframe tbody tr th {\n",
       "        vertical-align: top;\n",
       "    }\n",
       "\n",
       "    .dataframe thead th {\n",
       "        text-align: right;\n",
       "    }\n",
       "</style>\n",
       "<table border=\"1\" class=\"dataframe\">\n",
       "  <thead>\n",
       "    <tr style=\"text-align: right;\">\n",
       "      <th></th>\n",
       "      <th>lab_inc</th>\n",
       "      <th>cap_inc</th>\n",
       "      <th>hgt</th>\n",
       "      <th>wgt</th>\n",
       "      <th>age</th>\n",
       "      <th>gender</th>\n",
       "    </tr>\n",
       "  </thead>\n",
       "  <tbody>\n",
       "    <tr>\n",
       "      <th>0</th>\n",
       "      <td>52655.605507</td>\n",
       "      <td>9279.509829</td>\n",
       "      <td>64.568138</td>\n",
       "      <td>152.920634</td>\n",
       "      <td>44.742614</td>\n",
       "      <td>0.0</td>\n",
       "    </tr>\n",
       "    <tr>\n",
       "      <th>1</th>\n",
       "      <td>70586.979225</td>\n",
       "      <td>9451.016902</td>\n",
       "      <td>65.727648</td>\n",
       "      <td>159.534414</td>\n",
       "      <td>45.154387</td>\n",
       "      <td>0.0</td>\n",
       "    </tr>\n",
       "    <tr>\n",
       "      <th>2</th>\n",
       "      <td>53738.008339</td>\n",
       "      <td>8078.132315</td>\n",
       "      <td>66.268796</td>\n",
       "      <td>152.502405</td>\n",
       "      <td>44.742427</td>\n",
       "      <td>0.0</td>\n",
       "    </tr>\n",
       "    <tr>\n",
       "      <th>3</th>\n",
       "      <td>55128.180903</td>\n",
       "      <td>12692.670403</td>\n",
       "      <td>62.910559</td>\n",
       "      <td>149.218189</td>\n",
       "      <td>44.915836</td>\n",
       "      <td>0.0</td>\n",
       "    </tr>\n",
       "    <tr>\n",
       "      <th>4</th>\n",
       "      <td>44482.794867</td>\n",
       "      <td>9812.975746</td>\n",
       "      <td>68.678295</td>\n",
       "      <td>152.726358</td>\n",
       "      <td>44.551391</td>\n",
       "      <td>1.0</td>\n",
       "    </tr>\n",
       "  </tbody>\n",
       "</table>\n",
       "</div>"
      ],
      "text/plain": [
       "        lab_inc       cap_inc        hgt         wgt        age  gender\n",
       "0  52655.605507   9279.509829  64.568138  152.920634  44.742614     0.0\n",
       "1  70586.979225   9451.016902  65.727648  159.534414  45.154387     0.0\n",
       "2  53738.008339   8078.132315  66.268796  152.502405  44.742427     0.0\n",
       "3  55128.180903  12692.670403  62.910559  149.218189  44.915836     0.0\n",
       "4  44482.794867   9812.975746  68.678295  152.726358  44.551391     1.0"
      ]
     },
     "execution_count": 19,
     "metadata": {},
     "output_type": "execute_result"
    }
   ],
   "source": [
    "# drop total income in BestIncome.txt and obtain the final result\n",
    "BestIncome = BestIncome.drop(columns = \"tot_inc\")\n",
    "BestIncome.head()"
   ]
  },
  {
   "cell_type": "markdown",
   "metadata": {},
   "source": [
    "#### (c) \n",
    "Here is where I'll report the descriptive statistics for my new imputed variables."
   ]
  },
  {
   "cell_type": "code",
   "execution_count": 20,
   "metadata": {},
   "outputs": [
    {
     "data": {
      "text/html": [
       "<div>\n",
       "<style scoped>\n",
       "    .dataframe tbody tr th:only-of-type {\n",
       "        vertical-align: middle;\n",
       "    }\n",
       "\n",
       "    .dataframe tbody tr th {\n",
       "        vertical-align: top;\n",
       "    }\n",
       "\n",
       "    .dataframe thead th {\n",
       "        text-align: right;\n",
       "    }\n",
       "</style>\n",
       "<table border=\"1\" class=\"dataframe\">\n",
       "  <thead>\n",
       "    <tr style=\"text-align: right;\">\n",
       "      <th></th>\n",
       "      <th>age</th>\n",
       "      <th>gender</th>\n",
       "    </tr>\n",
       "  </thead>\n",
       "  <tbody>\n",
       "    <tr>\n",
       "      <th>0</th>\n",
       "      <td>44.742614</td>\n",
       "      <td>0.0</td>\n",
       "    </tr>\n",
       "    <tr>\n",
       "      <th>1</th>\n",
       "      <td>45.154387</td>\n",
       "      <td>0.0</td>\n",
       "    </tr>\n",
       "    <tr>\n",
       "      <th>2</th>\n",
       "      <td>44.742427</td>\n",
       "      <td>0.0</td>\n",
       "    </tr>\n",
       "    <tr>\n",
       "      <th>3</th>\n",
       "      <td>44.915836</td>\n",
       "      <td>0.0</td>\n",
       "    </tr>\n",
       "    <tr>\n",
       "      <th>4</th>\n",
       "      <td>44.551391</td>\n",
       "      <td>1.0</td>\n",
       "    </tr>\n",
       "  </tbody>\n",
       "</table>\n",
       "</div>"
      ],
      "text/plain": [
       "         age  gender\n",
       "0  44.742614     0.0\n",
       "1  45.154387     0.0\n",
       "2  44.742427     0.0\n",
       "3  44.915836     0.0\n",
       "4  44.551391     1.0"
      ]
     },
     "execution_count": 20,
     "metadata": {},
     "output_type": "execute_result"
    }
   ],
   "source": [
    "# select age and gender from BestIncome.txt\n",
    "Imputed = BestIncome[['age', 'gender']]\n",
    "Imputed.head()"
   ]
  },
  {
   "cell_type": "code",
   "execution_count": 21,
   "metadata": {},
   "outputs": [
    {
     "data": {
      "text/html": [
       "<div>\n",
       "<style scoped>\n",
       "    .dataframe tbody tr th:only-of-type {\n",
       "        vertical-align: middle;\n",
       "    }\n",
       "\n",
       "    .dataframe tbody tr th {\n",
       "        vertical-align: top;\n",
       "    }\n",
       "\n",
       "    .dataframe thead th {\n",
       "        text-align: right;\n",
       "    }\n",
       "</style>\n",
       "<table border=\"1\" class=\"dataframe\">\n",
       "  <thead>\n",
       "    <tr style=\"text-align: right;\">\n",
       "      <th></th>\n",
       "      <th>age</th>\n",
       "      <th>gender</th>\n",
       "    </tr>\n",
       "  </thead>\n",
       "  <tbody>\n",
       "    <tr>\n",
       "      <th>count</th>\n",
       "      <td>10000.000000</td>\n",
       "      <td>10000.000000</td>\n",
       "    </tr>\n",
       "    <tr>\n",
       "      <th>mean</th>\n",
       "      <td>44.890828</td>\n",
       "      <td>0.454600</td>\n",
       "    </tr>\n",
       "    <tr>\n",
       "      <th>std</th>\n",
       "      <td>0.219150</td>\n",
       "      <td>0.497959</td>\n",
       "    </tr>\n",
       "    <tr>\n",
       "      <th>min</th>\n",
       "      <td>43.976495</td>\n",
       "      <td>0.000000</td>\n",
       "    </tr>\n",
       "    <tr>\n",
       "      <th>25%</th>\n",
       "      <td>44.743776</td>\n",
       "      <td>0.000000</td>\n",
       "    </tr>\n",
       "    <tr>\n",
       "      <th>50%</th>\n",
       "      <td>44.886944</td>\n",
       "      <td>0.000000</td>\n",
       "    </tr>\n",
       "    <tr>\n",
       "      <th>75%</th>\n",
       "      <td>45.038991</td>\n",
       "      <td>1.000000</td>\n",
       "    </tr>\n",
       "    <tr>\n",
       "      <th>max</th>\n",
       "      <td>45.703819</td>\n",
       "      <td>1.000000</td>\n",
       "    </tr>\n",
       "  </tbody>\n",
       "</table>\n",
       "</div>"
      ],
      "text/plain": [
       "                age        gender\n",
       "count  10000.000000  10000.000000\n",
       "mean      44.890828      0.454600\n",
       "std        0.219150      0.497959\n",
       "min       43.976495      0.000000\n",
       "25%       44.743776      0.000000\n",
       "50%       44.886944      0.000000\n",
       "75%       45.038991      1.000000\n",
       "max       45.703819      1.000000"
      ]
     },
     "execution_count": 21,
     "metadata": {},
     "output_type": "execute_result"
    }
   ],
   "source": [
    "# descriptive statistics of imputed variables\n",
    "Imputed.describe()"
   ]
  },
  {
   "cell_type": "markdown",
   "metadata": {},
   "source": [
    "#### (d) \n",
    "Correlation matrix for the now six variables"
   ]
  },
  {
   "cell_type": "code",
   "execution_count": 22,
   "metadata": {},
   "outputs": [
    {
     "data": {
      "image/png": "[encoded data removed]",
      "text/plain": [
       "<Figure size 432x288 with 2 Axes>"
      ]
     },
     "metadata": {
      "needs_background": "light"
     },
     "output_type": "display_data"
    }
   ],
   "source": [
    "# Correlation Matrix Plot\n",
    "\n",
    "def corr_plot(df):    \n",
    "    names = df.columns\n",
    "    N = len(names)\n",
    "    \n",
    "    correlations = df.corr()\n",
    "    fig = plt.figure()\n",
    "    ax = fig.add_subplot(111)\n",
    "    cax = ax.matshow(correlations, vmin=-1, vmax=1)\n",
    "    fig.colorbar(cax)\n",
    "    ticks = np.arange(0,N,1)\n",
    "    ax.set_xticks(ticks)\n",
    "    ax.set_yticks(ticks)\n",
    "    ax.set_xticklabels(names)\n",
    "    ax.set_yticklabels(names)\n",
    "    plt.show()\n",
    "    \n",
    "\n",
    "corr_plot(BestIncome)"
   ]
  },
  {
   "cell_type": "code",
   "execution_count": 23,
   "metadata": {},
   "outputs": [
    {
     "data": {
      "text/html": [
       "<style  type=\"text/css\" >\n",
       "    #T_e3f9455e_d028_11e8_a5d5_2cf0ee0b1854row0_col0 {\n",
       "            background-color:  #023858;\n",
       "        }    #T_e3f9455e_d028_11e8_a5d5_2cf0ee0b1854row0_col1 {\n",
       "            background-color:  #f5eff6;\n",
       "        }    #T_e3f9455e_d028_11e8_a5d5_2cf0ee0b1854row0_col2 {\n",
       "            background-color:  #eee8f3;\n",
       "        }    #T_e3f9455e_d028_11e8_a5d5_2cf0ee0b1854row0_col3 {\n",
       "            background-color:  #8eb3d5;\n",
       "        }    #T_e3f9455e_d028_11e8_a5d5_2cf0ee0b1854row0_col4 {\n",
       "            background-color:  #03476f;\n",
       "        }    #T_e3f9455e_d028_11e8_a5d5_2cf0ee0b1854row0_col5 {\n",
       "            background-color:  #bcc7e1;\n",
       "        }    #T_e3f9455e_d028_11e8_a5d5_2cf0ee0b1854row1_col0 {\n",
       "            background-color:  #e0dded;\n",
       "        }    #T_e3f9455e_d028_11e8_a5d5_2cf0ee0b1854row1_col1 {\n",
       "            background-color:  #023858;\n",
       "        }    #T_e3f9455e_d028_11e8_a5d5_2cf0ee0b1854row1_col2 {\n",
       "            background-color:  #ebe6f2;\n",
       "        }    #T_e3f9455e_d028_11e8_a5d5_2cf0ee0b1854row1_col3 {\n",
       "            background-color:  #8eb3d5;\n",
       "        }    #T_e3f9455e_d028_11e8_a5d5_2cf0ee0b1854row1_col4 {\n",
       "            background-color:  #97b7d7;\n",
       "        }    #T_e3f9455e_d028_11e8_a5d5_2cf0ee0b1854row1_col5 {\n",
       "            background-color:  #9ebad9;\n",
       "        }    #T_e3f9455e_d028_11e8_a5d5_2cf0ee0b1854row2_col0 {\n",
       "            background-color:  #e0deed;\n",
       "        }    #T_e3f9455e_d028_11e8_a5d5_2cf0ee0b1854row2_col1 {\n",
       "            background-color:  #f3edf5;\n",
       "        }    #T_e3f9455e_d028_11e8_a5d5_2cf0ee0b1854row2_col2 {\n",
       "            background-color:  #023858;\n",
       "        }    #T_e3f9455e_d028_11e8_a5d5_2cf0ee0b1854row2_col3 {\n",
       "            background-color:  #65a3cb;\n",
       "        }    #T_e3f9455e_d028_11e8_a5d5_2cf0ee0b1854row2_col4 {\n",
       "            background-color:  #dcdaeb;\n",
       "        }    #T_e3f9455e_d028_11e8_a5d5_2cf0ee0b1854row2_col5 {\n",
       "            background-color:  #abbfdc;\n",
       "        }    #T_e3f9455e_d028_11e8_a5d5_2cf0ee0b1854row3_col0 {\n",
       "            background-color:  #e0dded;\n",
       "        }    #T_e3f9455e_d028_11e8_a5d5_2cf0ee0b1854row3_col1 {\n",
       "            background-color:  #f5eff6;\n",
       "        }    #T_e3f9455e_d028_11e8_a5d5_2cf0ee0b1854row3_col2 {\n",
       "            background-color:  #cacee5;\n",
       "        }    #T_e3f9455e_d028_11e8_a5d5_2cf0ee0b1854row3_col3 {\n",
       "            background-color:  #023858;\n",
       "        }    #T_e3f9455e_d028_11e8_a5d5_2cf0ee0b1854row3_col4 {\n",
       "            background-color:  #fff7fb;\n",
       "        }    #T_e3f9455e_d028_11e8_a5d5_2cf0ee0b1854row3_col5 {\n",
       "            background-color:  #fff7fb;\n",
       "        }    #T_e3f9455e_d028_11e8_a5d5_2cf0ee0b1854row4_col0 {\n",
       "            background-color:  #034871;\n",
       "        }    #T_e3f9455e_d028_11e8_a5d5_2cf0ee0b1854row4_col1 {\n",
       "            background-color:  #c6cce3;\n",
       "        }    #T_e3f9455e_d028_11e8_a5d5_2cf0ee0b1854row4_col2 {\n",
       "            background-color:  #f4eef6;\n",
       "        }    #T_e3f9455e_d028_11e8_a5d5_2cf0ee0b1854row4_col3 {\n",
       "            background-color:  #cccfe5;\n",
       "        }    #T_e3f9455e_d028_11e8_a5d5_2cf0ee0b1854row4_col4 {\n",
       "            background-color:  #023858;\n",
       "        }    #T_e3f9455e_d028_11e8_a5d5_2cf0ee0b1854row4_col5 {\n",
       "            background-color:  #8bb2d4;\n",
       "        }    #T_e3f9455e_d028_11e8_a5d5_2cf0ee0b1854row5_col0 {\n",
       "            background-color:  #fff7fb;\n",
       "        }    #T_e3f9455e_d028_11e8_a5d5_2cf0ee0b1854row5_col1 {\n",
       "            background-color:  #fff7fb;\n",
       "        }    #T_e3f9455e_d028_11e8_a5d5_2cf0ee0b1854row5_col2 {\n",
       "            background-color:  #fff7fb;\n",
       "        }    #T_e3f9455e_d028_11e8_a5d5_2cf0ee0b1854row5_col3 {\n",
       "            background-color:  #fff7fb;\n",
       "        }    #T_e3f9455e_d028_11e8_a5d5_2cf0ee0b1854row5_col4 {\n",
       "            background-color:  #d1d2e6;\n",
       "        }    #T_e3f9455e_d028_11e8_a5d5_2cf0ee0b1854row5_col5 {\n",
       "            background-color:  #023858;\n",
       "        }</style>  \n",
       "<table id=\"T_e3f9455e_d028_11e8_a5d5_2cf0ee0b1854\" > \n",
       "<thead>    <tr> \n",
       "        <th class=\"blank level0\" ></th> \n",
       "        <th class=\"col_heading level0 col0\" >lab_inc</th> \n",
       "        <th class=\"col_heading level0 col1\" >cap_inc</th> \n",
       "        <th class=\"col_heading level0 col2\" >hgt</th> \n",
       "        <th class=\"col_heading level0 col3\" >wgt</th> \n",
       "        <th class=\"col_heading level0 col4\" >age</th> \n",
       "        <th class=\"col_heading level0 col5\" >gender</th> \n",
       "    </tr></thead> \n",
       "<tbody>    <tr> \n",
       "        <th id=\"T_e3f9455e_d028_11e8_a5d5_2cf0ee0b1854level0_row0\" class=\"row_heading level0 row0\" >lab_inc</th> \n",
       "        <td id=\"T_e3f9455e_d028_11e8_a5d5_2cf0ee0b1854row0_col0\" class=\"data row0 col0\" >1</td> \n",
       "        <td id=\"T_e3f9455e_d028_11e8_a5d5_2cf0ee0b1854row0_col1\" class=\"data row0 col1\" >0.0053253</td> \n",
       "        <td id=\"T_e3f9455e_d028_11e8_a5d5_2cf0ee0b1854row0_col2\" class=\"data row0 col2\" >0.00278978</td> \n",
       "        <td id=\"T_e3f9455e_d028_11e8_a5d5_2cf0ee0b1854row0_col3\" class=\"data row0 col3\" >0.00450691</td> \n",
       "        <td id=\"T_e3f9455e_d028_11e8_a5d5_2cf0ee0b1854row0_col4\" class=\"data row0 col4\" >0.924053</td> \n",
       "        <td id=\"T_e3f9455e_d028_11e8_a5d5_2cf0ee0b1854row0_col5\" class=\"data row0 col5\" >-0.215469</td> \n",
       "    </tr>    <tr> \n",
       "        <th id=\"T_e3f9455e_d028_11e8_a5d5_2cf0ee0b1854level0_row1\" class=\"row_heading level0 row1\" >cap_inc</th> \n",
       "        <td id=\"T_e3f9455e_d028_11e8_a5d5_2cf0ee0b1854row1_col0\" class=\"data row1 col0\" >0.0053253</td> \n",
       "        <td id=\"T_e3f9455e_d028_11e8_a5d5_2cf0ee0b1854row1_col1\" class=\"data row1 col1\" >1</td> \n",
       "        <td id=\"T_e3f9455e_d028_11e8_a5d5_2cf0ee0b1854row1_col2\" class=\"data row1 col2\" >0.0215716</td> \n",
       "        <td id=\"T_e3f9455e_d028_11e8_a5d5_2cf0ee0b1854row1_col3\" class=\"data row1 col3\" >0.00629868</td> \n",
       "        <td id=\"T_e3f9455e_d028_11e8_a5d5_2cf0ee0b1854row1_col4\" class=\"data row1 col4\" >0.234159</td> \n",
       "        <td id=\"T_e3f9455e_d028_11e8_a5d5_2cf0ee0b1854row1_col5\" class=\"data row1 col5\" >-0.0625691</td> \n",
       "    </tr>    <tr> \n",
       "        <th id=\"T_e3f9455e_d028_11e8_a5d5_2cf0ee0b1854level0_row2\" class=\"row_heading level0 row2\" >hgt</th> \n",
       "        <td id=\"T_e3f9455e_d028_11e8_a5d5_2cf0ee0b1854row2_col0\" class=\"data row2 col0\" >0.00278978</td> \n",
       "        <td id=\"T_e3f9455e_d028_11e8_a5d5_2cf0ee0b1854row2_col1\" class=\"data row2 col1\" >0.0215716</td> \n",
       "        <td id=\"T_e3f9455e_d028_11e8_a5d5_2cf0ee0b1854row2_col2\" class=\"data row2 col2\" >1</td> \n",
       "        <td id=\"T_e3f9455e_d028_11e8_a5d5_2cf0ee0b1854row2_col3\" class=\"data row2 col3\" >0.172103</td> \n",
       "        <td id=\"T_e3f9455e_d028_11e8_a5d5_2cf0ee0b1854row2_col4\" class=\"data row2 col4\" >-0.0450828</td> \n",
       "        <td id=\"T_e3f9455e_d028_11e8_a5d5_2cf0ee0b1854row2_col5\" class=\"data row2 col5\" >-0.127416</td> \n",
       "    </tr>    <tr> \n",
       "        <th id=\"T_e3f9455e_d028_11e8_a5d5_2cf0ee0b1854level0_row3\" class=\"row_heading level0 row3\" >wgt</th> \n",
       "        <td id=\"T_e3f9455e_d028_11e8_a5d5_2cf0ee0b1854row3_col0\" class=\"data row3 col0\" >0.00450691</td> \n",
       "        <td id=\"T_e3f9455e_d028_11e8_a5d5_2cf0ee0b1854row3_col1\" class=\"data row3 col1\" >0.00629868</td> \n",
       "        <td id=\"T_e3f9455e_d028_11e8_a5d5_2cf0ee0b1854row3_col2\" class=\"data row3 col2\" >0.172103</td> \n",
       "        <td id=\"T_e3f9455e_d028_11e8_a5d5_2cf0ee0b1854row3_col3\" class=\"data row3 col3\" >1</td> \n",
       "        <td id=\"T_e3f9455e_d028_11e8_a5d5_2cf0ee0b1854row3_col4\" class=\"data row3 col4\" >-0.300288</td> \n",
       "        <td id=\"T_e3f9455e_d028_11e8_a5d5_2cf0ee0b1854row3_col5\" class=\"data row3 col5\" >-0.763821</td> \n",
       "    </tr>    <tr> \n",
       "        <th id=\"T_e3f9455e_d028_11e8_a5d5_2cf0ee0b1854level0_row4\" class=\"row_heading level0 row4\" >age</th> \n",
       "        <td id=\"T_e3f9455e_d028_11e8_a5d5_2cf0ee0b1854row4_col0\" class=\"data row4 col0\" >0.924053</td> \n",
       "        <td id=\"T_e3f9455e_d028_11e8_a5d5_2cf0ee0b1854row4_col1\" class=\"data row4 col1\" >0.234159</td> \n",
       "        <td id=\"T_e3f9455e_d028_11e8_a5d5_2cf0ee0b1854row4_col2\" class=\"data row4 col2\" >-0.0450828</td> \n",
       "        <td id=\"T_e3f9455e_d028_11e8_a5d5_2cf0ee0b1854row4_col3\" class=\"data row4 col3\" >-0.300288</td> \n",
       "        <td id=\"T_e3f9455e_d028_11e8_a5d5_2cf0ee0b1854row4_col4\" class=\"data row4 col4\" >1</td> \n",
       "        <td id=\"T_e3f9455e_d028_11e8_a5d5_2cf0ee0b1854row4_col5\" class=\"data row4 col5\" >0.0200595</td> \n",
       "    </tr>    <tr> \n",
       "        <th id=\"T_e3f9455e_d028_11e8_a5d5_2cf0ee0b1854level0_row5\" class=\"row_heading level0 row5\" >gender</th> \n",
       "        <td id=\"T_e3f9455e_d028_11e8_a5d5_2cf0ee0b1854row5_col0\" class=\"data row5 col0\" >-0.215469</td> \n",
       "        <td id=\"T_e3f9455e_d028_11e8_a5d5_2cf0ee0b1854row5_col1\" class=\"data row5 col1\" >-0.0625691</td> \n",
       "        <td id=\"T_e3f9455e_d028_11e8_a5d5_2cf0ee0b1854row5_col2\" class=\"data row5 col2\" >-0.127416</td> \n",
       "        <td id=\"T_e3f9455e_d028_11e8_a5d5_2cf0ee0b1854row5_col3\" class=\"data row5 col3\" >-0.763821</td> \n",
       "        <td id=\"T_e3f9455e_d028_11e8_a5d5_2cf0ee0b1854row5_col4\" class=\"data row5 col4\" >0.0200595</td> \n",
       "        <td id=\"T_e3f9455e_d028_11e8_a5d5_2cf0ee0b1854row5_col5\" class=\"data row5 col5\" >1</td> \n",
       "    </tr></tbody> \n",
       "</table> "
      ],
      "text/plain": [
       "<pandas.io.formats.style.Styler at 0x1055b0048>"
      ]
     },
     "execution_count": 23,
     "metadata": {},
     "output_type": "execute_result"
    }
   ],
   "source": [
    "# In Matrix Form\n",
    "corr = BestIncome.corr()\n",
    "corr.style.background_gradient()"
   ]
  },
  {
   "cell_type": "markdown",
   "metadata": {},
   "source": [
    "### 2. Stationarity and data drift"
   ]
  },
  {
   "cell_type": "markdown",
   "metadata": {},
   "source": [
    "#### (a) Estimate by OLS and report coefficients"
   ]
  },
  {
   "cell_type": "code",
   "execution_count": 24,
   "metadata": {},
   "outputs": [],
   "source": [
    "# Read in my third data set\n",
    "IncomeIntel = pd.read_csv('IncomeIntel.txt', header=None)\n",
    "# Report coefficients and SE's"
   ]
  },
  {
   "cell_type": "code",
   "execution_count": 25,
   "metadata": {},
   "outputs": [
    {
     "data": {
      "text/html": [
       "<div>\n",
       "<style scoped>\n",
       "    .dataframe tbody tr th:only-of-type {\n",
       "        vertical-align: middle;\n",
       "    }\n",
       "\n",
       "    .dataframe tbody tr th {\n",
       "        vertical-align: top;\n",
       "    }\n",
       "\n",
       "    .dataframe thead th {\n",
       "        text-align: right;\n",
       "    }\n",
       "</style>\n",
       "<table border=\"1\" class=\"dataframe\">\n",
       "  <thead>\n",
       "    <tr style=\"text-align: right;\">\n",
       "      <th></th>\n",
       "      <th>grad_year</th>\n",
       "      <th>gre_qnt</th>\n",
       "      <th>salary_p4</th>\n",
       "    </tr>\n",
       "  </thead>\n",
       "  <tbody>\n",
       "    <tr>\n",
       "      <th>0</th>\n",
       "      <td>2001.0</td>\n",
       "      <td>719.335812</td>\n",
       "      <td>67985.207551</td>\n",
       "    </tr>\n",
       "    <tr>\n",
       "      <th>1</th>\n",
       "      <td>2001.0</td>\n",
       "      <td>717.867044</td>\n",
       "      <td>53632.218539</td>\n",
       "    </tr>\n",
       "    <tr>\n",
       "      <th>2</th>\n",
       "      <td>2001.0</td>\n",
       "      <td>765.430196</td>\n",
       "      <td>68951.364320</td>\n",
       "    </tr>\n",
       "    <tr>\n",
       "      <th>3</th>\n",
       "      <td>2001.0</td>\n",
       "      <td>737.845450</td>\n",
       "      <td>71942.003515</td>\n",
       "    </tr>\n",
       "    <tr>\n",
       "      <th>4</th>\n",
       "      <td>2001.0</td>\n",
       "      <td>715.781826</td>\n",
       "      <td>61322.132663</td>\n",
       "    </tr>\n",
       "  </tbody>\n",
       "</table>\n",
       "</div>"
      ],
      "text/plain": [
       "   grad_year     gre_qnt     salary_p4\n",
       "0     2001.0  719.335812  67985.207551\n",
       "1     2001.0  717.867044  53632.218539\n",
       "2     2001.0  765.430196  68951.364320\n",
       "3     2001.0  737.845450  71942.003515\n",
       "4     2001.0  715.781826  61322.132663"
      ]
     },
     "execution_count": 25,
     "metadata": {},
     "output_type": "execute_result"
    }
   ],
   "source": [
    "# Name my variables\n",
    "IncomeIntel_col = ['grad_year','gre_qnt','salary_p4']\n",
    "IncomeIntel.columns = IncomeIntel_col\n",
    "IncomeIntel.head()"
   ]
  },
  {
   "cell_type": "code",
   "execution_count": 26,
   "metadata": {},
   "outputs": [],
   "source": [
    "# Run regression model\n",
    "outcome = 'salary_p4'\n",
    "features = ['gre_qnt']\n",
    "\n",
    "X, y = IncomeIntel[features], IncomeIntel[outcome]"
   ]
  },
  {
   "cell_type": "code",
   "execution_count": 27,
   "metadata": {},
   "outputs": [
    {
     "data": {
      "text/html": [
       "<div>\n",
       "<style scoped>\n",
       "    .dataframe tbody tr th:only-of-type {\n",
       "        vertical-align: middle;\n",
       "    }\n",
       "\n",
       "    .dataframe tbody tr th {\n",
       "        vertical-align: top;\n",
       "    }\n",
       "\n",
       "    .dataframe thead th {\n",
       "        text-align: right;\n",
       "    }\n",
       "</style>\n",
       "<table border=\"1\" class=\"dataframe\">\n",
       "  <thead>\n",
       "    <tr style=\"text-align: right;\">\n",
       "      <th></th>\n",
       "      <th>gre_qnt</th>\n",
       "    </tr>\n",
       "  </thead>\n",
       "  <tbody>\n",
       "    <tr>\n",
       "      <th>0</th>\n",
       "      <td>719.335812</td>\n",
       "    </tr>\n",
       "    <tr>\n",
       "      <th>1</th>\n",
       "      <td>717.867044</td>\n",
       "    </tr>\n",
       "    <tr>\n",
       "      <th>2</th>\n",
       "      <td>765.430196</td>\n",
       "    </tr>\n",
       "    <tr>\n",
       "      <th>3</th>\n",
       "      <td>737.845450</td>\n",
       "    </tr>\n",
       "    <tr>\n",
       "      <th>4</th>\n",
       "      <td>715.781826</td>\n",
       "    </tr>\n",
       "  </tbody>\n",
       "</table>\n",
       "</div>"
      ],
      "text/plain": [
       "      gre_qnt\n",
       "0  719.335812\n",
       "1  717.867044\n",
       "2  765.430196\n",
       "3  737.845450\n",
       "4  715.781826"
      ]
     },
     "execution_count": 27,
     "metadata": {},
     "output_type": "execute_result"
    }
   ],
   "source": [
    "X.head()"
   ]
  },
  {
   "cell_type": "code",
   "execution_count": 28,
   "metadata": {},
   "outputs": [
    {
     "data": {
      "text/plain": [
       "0    67985.207551\n",
       "1    53632.218539\n",
       "2    68951.364320\n",
       "3    71942.003515\n",
       "4    61322.132663\n",
       "Name: salary_p4, dtype: float64"
      ]
     },
     "execution_count": 28,
     "metadata": {},
     "output_type": "execute_result"
    }
   ],
   "source": [
    "y.head()"
   ]
  },
  {
   "cell_type": "code",
   "execution_count": 29,
   "metadata": {},
   "outputs": [
    {
     "name": "stdout",
     "output_type": "stream",
     "text": [
      "                            OLS Regression Results                            \n",
      "==============================================================================\n",
      "Dep. Variable:              salary_p4   R-squared:                       0.002\n",
      "Model:                            OLS   Adj. R-squared:                  0.001\n",
      "Method:                 Least Squares   F-statistic:                     2.277\n",
      "Date:                Sun, 14 Oct 2018   Prob (F-statistic):              0.132\n",
      "Time:                        22:17:47   Log-Likelihood:                -10507.\n",
      "No. Observations:                1000   AIC:                         2.102e+04\n",
      "Df Residuals:                     998   BIC:                         2.103e+04\n",
      "Df Model:                           1                                         \n",
      "Covariance Type:            nonrobust                                         \n",
      "==============================================================================\n",
      "                 coef    std err          t      P>|t|      [0.025      0.975]\n",
      "------------------------------------------------------------------------------\n",
      "gre_qnt        1.7423      1.154      1.509      0.132      -0.523       4.008\n",
      "const       5.902e+04    744.576     79.260      0.000    5.76e+04    6.05e+04\n",
      "==============================================================================\n",
      "Omnibus:                        1.692   Durbin-Watson:                   2.028\n",
      "Prob(Omnibus):                  0.429   Jarque-Bera (JB):                1.655\n",
      "Skew:                           0.009   Prob(JB):                        0.437\n",
      "Kurtosis:                       3.198   Cond. No.                     1.71e+03\n",
      "==============================================================================\n",
      "\n",
      "Warnings:\n",
      "[1] Standard Errors assume that the covariance matrix of the errors is correctly specified.\n",
      "[2] The condition number is large, 1.71e+03. This might indicate that there are\n",
      "strong multicollinearity or other numerical problems.\n"
     ]
    }
   ],
   "source": [
    "X = sm.add_constant(X, prepend=False)\n",
    "m = sm.OLS(y, X)\n",
    "res = m.fit()\n",
    "print(res.summary())"
   ]
  },
  {
   "cell_type": "markdown",
   "metadata": {},
   "source": [
    "I obtained the following OLS regression equation:\n",
    "$$salary\\underline{ }p4 = 59020 + 1.7423gre\\underline{ }qnt$$\n",
    "\n",
    "and estimated coefficients and standard errors are:\n",
    "\n",
    "$$\\beta_0 = 59020 \\ \\ \\ SE(\\beta_0) = 744.576$$\n",
    "\n",
    "$$\\beta_1 = 1.7423 \\ \\ \\ SE(\\beta_1) = 1.154$$"
   ]
  },
  {
   "cell_type": "markdown",
   "metadata": {},
   "source": [
    "#### (b) Create a scatterplot of GRE score and graduation year. "
   ]
  },
  {
   "cell_type": "code",
   "execution_count": 30,
   "metadata": {},
   "outputs": [
    {
     "data": {
      "image/png": "[encoded data removed]",
      "text/plain": [
       "<Figure size 432x288 with 1 Axes>"
      ]
     },
     "metadata": {
      "needs_background": "light"
     },
     "output_type": "display_data"
    }
   ],
   "source": [
    "# Code and output of scatterplot\n",
    "grad_year = IncomeIntel['grad_year']\n",
    "gre_qnt = IncomeIntel['gre_qnt']\n",
    "IncomeIntel.plot(x='grad_year', y='gre_qnt', kind='scatter')\n",
    "plt.show()"
   ]
  },
  {
   "cell_type": "markdown",
   "metadata": {},
   "source": [
    "As we can seen from the scatterplot above and the exercise, GRE quantitative scoring scale changed in 2011. My proposed solution is to convert two ways of scaling into one."
   ]
  },
  {
   "cell_type": "code",
   "execution_count": 31,
   "metadata": {},
   "outputs": [
    {
     "data": {
      "text/html": [
       "<div>\n",
       "<style scoped>\n",
       "    .dataframe tbody tr th:only-of-type {\n",
       "        vertical-align: middle;\n",
       "    }\n",
       "\n",
       "    .dataframe tbody tr th {\n",
       "        vertical-align: top;\n",
       "    }\n",
       "\n",
       "    .dataframe thead th {\n",
       "        text-align: right;\n",
       "    }\n",
       "</style>\n",
       "<table border=\"1\" class=\"dataframe\">\n",
       "  <thead>\n",
       "    <tr style=\"text-align: right;\">\n",
       "      <th></th>\n",
       "      <th>grad_year</th>\n",
       "      <th>gre_qnt</th>\n",
       "      <th>salary_p4</th>\n",
       "      <th>new_gre_qnt</th>\n",
       "    </tr>\n",
       "  </thead>\n",
       "  <tbody>\n",
       "    <tr>\n",
       "      <th>count</th>\n",
       "      <td>1000.000000</td>\n",
       "      <td>1000.000000</td>\n",
       "      <td>1000.000000</td>\n",
       "      <td>1.000000e+03</td>\n",
       "    </tr>\n",
       "    <tr>\n",
       "      <th>mean</th>\n",
       "      <td>2006.994000</td>\n",
       "      <td>597.575531</td>\n",
       "      <td>60056.416911</td>\n",
       "      <td>1.838363e-15</td>\n",
       "    </tr>\n",
       "    <tr>\n",
       "      <th>std</th>\n",
       "      <td>3.740582</td>\n",
       "      <td>242.708975</td>\n",
       "      <td>8862.102555</td>\n",
       "      <td>1.000500e+00</td>\n",
       "    </tr>\n",
       "    <tr>\n",
       "      <th>min</th>\n",
       "      <td>2001.000000</td>\n",
       "      <td>141.927335</td>\n",
       "      <td>30792.536489</td>\n",
       "      <td>-3.628779e+00</td>\n",
       "    </tr>\n",
       "    <tr>\n",
       "      <th>25%</th>\n",
       "      <td>2004.000000</td>\n",
       "      <td>683.954704</td>\n",
       "      <td>54401.401189</td>\n",
       "      <td>-6.354818e-01</td>\n",
       "    </tr>\n",
       "    <tr>\n",
       "      <th>50%</th>\n",
       "      <td>2007.000000</td>\n",
       "      <td>721.322021</td>\n",
       "      <td>59875.904918</td>\n",
       "      <td>-3.903214e-03</td>\n",
       "    </tr>\n",
       "    <tr>\n",
       "      <th>75%</th>\n",
       "      <td>2010.000000</td>\n",
       "      <td>738.221236</td>\n",
       "      <td>66177.632400</td>\n",
       "      <td>6.176511e-01</td>\n",
       "    </tr>\n",
       "    <tr>\n",
       "      <th>max</th>\n",
       "      <td>2013.000000</td>\n",
       "      <td>800.000000</td>\n",
       "      <td>92552.027272</td>\n",
       "      <td>3.132870e+00</td>\n",
       "    </tr>\n",
       "  </tbody>\n",
       "</table>\n",
       "</div>"
      ],
      "text/plain": [
       "         grad_year      gre_qnt     salary_p4   new_gre_qnt\n",
       "count  1000.000000  1000.000000   1000.000000  1.000000e+03\n",
       "mean   2006.994000   597.575531  60056.416911  1.838363e-15\n",
       "std       3.740582   242.708975   8862.102555  1.000500e+00\n",
       "min    2001.000000   141.927335  30792.536489 -3.628779e+00\n",
       "25%    2004.000000   683.954704  54401.401189 -6.354818e-01\n",
       "50%    2007.000000   721.322021  59875.904918 -3.903214e-03\n",
       "75%    2010.000000   738.221236  66177.632400  6.176511e-01\n",
       "max    2013.000000   800.000000  92552.027272  3.132870e+00"
      ]
     },
     "execution_count": 31,
     "metadata": {},
     "output_type": "execute_result"
    }
   ],
   "source": [
    "# Convert two scaling methods into one by zscore each gre_qnt\n",
    "from scipy import stats\n",
    "from scipy.stats import zscore\n",
    "df1 = IncomeIntel.loc[IncomeIntel['grad_year'] > 2010]\n",
    "df2 = IncomeIntel.loc[IncomeIntel['grad_year'] <= 2010]\n",
    "df1['new_gre_qnt'] = zscore(df1['gre_qnt'])\n",
    "df2['new_gre_qnt'] = zscore(df2['gre_qnt'])\n",
    "IncomeIntel = pd.concat([df1,df2])\n",
    "IncomeIntel.describe()"
   ]
  },
  {
   "cell_type": "code",
   "execution_count": 32,
   "metadata": {},
   "outputs": [
    {
     "data": {
      "image/png": "[encoded data removed]",
      "text/plain": [
       "<Figure size 432x288 with 1 Axes>"
      ]
     },
     "metadata": {
      "needs_background": "light"
     },
     "output_type": "display_data"
    }
   ],
   "source": [
    "# Code and output of scatterplot\n",
    "grad_year = IncomeIntel['grad_year']\n",
    "gre_qnt = IncomeIntel['new_gre_qnt']\n",
    "IncomeIntel.plot(x='grad_year', y='new_gre_qnt', kind='scatter')\n",
    "plt.show()"
   ]
  },
  {
   "cell_type": "markdown",
   "metadata": {},
   "source": [
    "#### (c) Create a scatterplot of income and graduation year"
   ]
  },
  {
   "cell_type": "code",
   "execution_count": 33,
   "metadata": {},
   "outputs": [
    {
     "data": {
      "image/png": "[encoded data removed]",
      "text/plain": [
       "<Figure size 432x288 with 1 Axes>"
      ]
     },
     "metadata": {
      "needs_background": "light"
     },
     "output_type": "display_data"
    }
   ],
   "source": [
    "# Code and output of scatterplot\n",
    "grad_year = IncomeIntel['grad_year']\n",
    "salary_p4 = IncomeIntel['salary_p4']\n",
    "IncomeIntel.plot(x='grad_year', y='salary_p4', kind='scatter')\n",
    "plt.show()"
   ]
  },
  {
   "cell_type": "markdown",
   "metadata": {},
   "source": [
    "According to the scatterplot above, there exists outliers in year 2008 and 2011 which is far from the cloud center. In addition, the standard deviation of salary_p4 is too large. To address this problem, I will drop salary_p4 which lays out of 2 standard deviation and normalize salary_p4."
   ]
  },
  {
   "cell_type": "code",
   "execution_count": 34,
   "metadata": {},
   "outputs": [
    {
     "data": {
      "text/html": [
       "<div>\n",
       "<style scoped>\n",
       "    .dataframe tbody tr th:only-of-type {\n",
       "        vertical-align: middle;\n",
       "    }\n",
       "\n",
       "    .dataframe tbody tr th {\n",
       "        vertical-align: top;\n",
       "    }\n",
       "\n",
       "    .dataframe thead th {\n",
       "        text-align: right;\n",
       "    }\n",
       "</style>\n",
       "<table border=\"1\" class=\"dataframe\">\n",
       "  <thead>\n",
       "    <tr style=\"text-align: right;\">\n",
       "      <th></th>\n",
       "      <th>grad_year</th>\n",
       "      <th>gre_qnt</th>\n",
       "      <th>salary_p4</th>\n",
       "      <th>new_gre_qnt</th>\n",
       "      <th>new_salary_p4</th>\n",
       "    </tr>\n",
       "  </thead>\n",
       "  <tbody>\n",
       "    <tr>\n",
       "      <th>count</th>\n",
       "      <td>908.000000</td>\n",
       "      <td>908.000000</td>\n",
       "      <td>908.000000</td>\n",
       "      <td>908.000000</td>\n",
       "      <td>9.080000e+02</td>\n",
       "    </tr>\n",
       "    <tr>\n",
       "      <th>mean</th>\n",
       "      <td>2006.936123</td>\n",
       "      <td>597.907798</td>\n",
       "      <td>60075.671645</td>\n",
       "      <td>-0.017766</td>\n",
       "      <td>6.932780e-17</td>\n",
       "    </tr>\n",
       "    <tr>\n",
       "      <th>std</th>\n",
       "      <td>3.745824</td>\n",
       "      <td>242.184506</td>\n",
       "      <td>7762.410669</td>\n",
       "      <td>0.852118</td>\n",
       "      <td>1.000551e+00</td>\n",
       "    </tr>\n",
       "    <tr>\n",
       "      <th>min</th>\n",
       "      <td>2001.000000</td>\n",
       "      <td>145.276415</td>\n",
       "      <td>42513.915172</td>\n",
       "      <td>-1.946080</td>\n",
       "      <td>-2.263657e+00</td>\n",
       "    </tr>\n",
       "    <tr>\n",
       "      <th>25%</th>\n",
       "      <td>2004.000000</td>\n",
       "      <td>693.372062</td>\n",
       "      <td>54737.061149</td>\n",
       "      <td>-0.622454</td>\n",
       "      <td>-6.881306e-01</td>\n",
       "    </tr>\n",
       "    <tr>\n",
       "      <th>50%</th>\n",
       "      <td>2007.000000</td>\n",
       "      <td>721.656271</td>\n",
       "      <td>59914.863740</td>\n",
       "      <td>-0.036361</td>\n",
       "      <td>-2.072765e-02</td>\n",
       "    </tr>\n",
       "    <tr>\n",
       "      <th>75%</th>\n",
       "      <td>2010.000000</td>\n",
       "      <td>737.817520</td>\n",
       "      <td>65918.129079</td>\n",
       "      <td>0.548924</td>\n",
       "      <td>7.530750e-01</td>\n",
       "    </tr>\n",
       "    <tr>\n",
       "      <th>max</th>\n",
       "      <td>2013.000000</td>\n",
       "      <td>773.687811</td>\n",
       "      <td>77767.377120</td>\n",
       "      <td>1.960557</td>\n",
       "      <td>2.280407e+00</td>\n",
       "    </tr>\n",
       "  </tbody>\n",
       "</table>\n",
       "</div>"
      ],
      "text/plain": [
       "         grad_year     gre_qnt     salary_p4  new_gre_qnt  new_salary_p4\n",
       "count   908.000000  908.000000    908.000000   908.000000   9.080000e+02\n",
       "mean   2006.936123  597.907798  60075.671645    -0.017766   6.932780e-17\n",
       "std       3.745824  242.184506   7762.410669     0.852118   1.000551e+00\n",
       "min    2001.000000  145.276415  42513.915172    -1.946080  -2.263657e+00\n",
       "25%    2004.000000  693.372062  54737.061149    -0.622454  -6.881306e-01\n",
       "50%    2007.000000  721.656271  59914.863740    -0.036361  -2.072765e-02\n",
       "75%    2010.000000  737.817520  65918.129079     0.548924   7.530750e-01\n",
       "max    2013.000000  773.687811  77767.377120     1.960557   2.280407e+00"
      ]
     },
     "execution_count": 34,
     "metadata": {},
     "output_type": "execute_result"
    }
   ],
   "source": [
    "#  Code to implement a solution\n",
    "IncomeIntel = IncomeIntel[(np.abs(zscore(IncomeIntel)) < 2).all(axis=1)] # remove outliers outside 2 std\n",
    "IncomeIntel['new_salary_p4'] = zscore(IncomeIntel.salary_p4) # normalize salary_p4\n",
    "IncomeIntel.describe()"
   ]
  },
  {
   "cell_type": "code",
   "execution_count": 35,
   "metadata": {},
   "outputs": [
    {
     "data": {
      "image/png": "[encoded data removed]",
      "text/plain": [
       "<Figure size 432x288 with 1 Axes>"
      ]
     },
     "metadata": {
      "needs_background": "light"
     },
     "output_type": "display_data"
    }
   ],
   "source": [
    "# Code and output of scatterplot\n",
    "grad_year = IncomeIntel['grad_year']\n",
    "new_salary_p4 = IncomeIntel['new_salary_p4']\n",
    "IncomeIntel.plot(x='grad_year', y='new_salary_p4', kind='scatter')\n",
    "plt.show()"
   ]
  },
  {
   "cell_type": "markdown",
   "metadata": {},
   "source": [
    "#### (d) Re-estimate coefficients with updated variables."
   ]
  },
  {
   "cell_type": "code",
   "execution_count": 36,
   "metadata": {},
   "outputs": [],
   "source": [
    "# Code to re-estimate, output of new coefficients\n",
    "outcome = ['new_salary_p4']\n",
    "features = ['new_gre_qnt']\n",
    "\n",
    "X, y = IncomeIntel[features], IncomeIntel[outcome]"
   ]
  },
  {
   "cell_type": "code",
   "execution_count": 37,
   "metadata": {},
   "outputs": [
    {
     "name": "stdout",
     "output_type": "stream",
     "text": [
      "                            OLS Regression Results                            \n",
      "==============================================================================\n",
      "Dep. Variable:          new_salary_p4   R-squared:                       0.000\n",
      "Model:                            OLS   Adj. R-squared:                 -0.001\n",
      "Method:                 Least Squares   F-statistic:                    0.2589\n",
      "Date:                Sun, 14 Oct 2018   Prob (F-statistic):              0.611\n",
      "Time:                        22:17:48   Log-Likelihood:                -1288.3\n",
      "No. Observations:                 908   AIC:                             2581.\n",
      "Df Residuals:                     906   BIC:                             2590.\n",
      "Df Model:                           1                                         \n",
      "Covariance Type:            nonrobust                                         \n",
      "===============================================================================\n",
      "                  coef    std err          t      P>|t|      [0.025      0.975]\n",
      "-------------------------------------------------------------------------------\n",
      "new_gre_qnt     0.0198      0.039      0.509      0.611      -0.057       0.096\n",
      "const           0.0004      0.033      0.011      0.992      -0.065       0.066\n",
      "==============================================================================\n",
      "Omnibus:                       37.548   Durbin-Watson:                   1.980\n",
      "Prob(Omnibus):                  0.000   Jarque-Bera (JB):               16.782\n",
      "Skew:                          -0.057   Prob(JB):                     0.000227\n",
      "Kurtosis:                       2.344   Cond. No.                         1.18\n",
      "==============================================================================\n",
      "\n",
      "Warnings:\n",
      "[1] Standard Errors assume that the covariance matrix of the errors is correctly specified.\n"
     ]
    }
   ],
   "source": [
    "X = sm.add_constant(X, prepend=False)\n",
    "m = sm.OLS(y, X)\n",
    "res = m.fit()\n",
    "print(res.summary())"
   ]
  },
  {
   "cell_type": "markdown",
   "metadata": {},
   "source": [
    "I obtained the following OLS regression equation:\n",
    "$$new\\underline{ }salary\\underline{ }p4 = 0.0006 + 0.0171new\\underline{ }gre\\underline{ }qnt$$\n",
    "\n",
    "and estimated coefficients and standard errors are:\n",
    "\n",
    "$$\\beta_0 = 0.0006 \\ \\ \\ SE(\\beta_0) = 0.034$$\n",
    "\n",
    "$$\\beta_1 = 0.0171 \\ \\ \\ SE(\\beta_1) = 0.043$$\n",
    "\n",
    "Because I normalized both salary_p4 and gre_qnt, so the interpretation is different from the foremer one in scale. For the slope estimator, the salary after 4 years increased 0.0171 standard error with each addition of 1 standard error in GRE quantitative score. If GRE quantitative score is 0, salary after 4 years is 0.0006 dollars, which is unrealistic. So it is over extapolation of intercept estimator.\n"
   ]
  },
  {
   "cell_type": "markdown",
   "metadata": {},
   "source": [
    "### 3. Assessment of Kossinets and Watts."
   ]
  },
  {
   "cell_type": "markdown",
   "metadata": {},
   "source": [
    "See the attached PDF."
   ]
  }
 ],
 "metadata": {
  "kernelspec": {
   "display_name": "Python 3",
   "language": "python",
   "name": "python3"
  },
  "language_info": {
   "codemirror_mode": {
    "name": "ipython",
    "version": 3
   },
   "file_extension": ".py",
   "mimetype": "text/x-python",
   "name": "python",
   "nbconvert_exporter": "python",
   "pygments_lexer": "ipython3",
   "version": "3.7.0"
  }
 },
 "nbformat": 4,
 "nbformat_minor": 1
}
