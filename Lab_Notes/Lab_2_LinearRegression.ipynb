{
 "cells": [
  {
   "cell_type": "markdown",
   "metadata": {},
   "source": [
    "# Linear Regression in Python\n",
    "\n",
    "\n",
    "Linear regression is a technique to model the relationship between two or more variables. One definition is as follows:\n",
    "\n",
    "```\n",
    "Linear regression attempts to model the relationship between two variables by fitting a linear equation to observed data. One variable is considered to be an explanatory variable, and the other is considered to be a dependent variable. For example, a modeler might want to relate the weights of individuals to their heights using a linear regression model.\n",
    "\n",
    "....\n",
    "\n",
    "The most common method for fitting a regression line is the method of least-squares. This method calculates the best-fitting line for the observed data by minimizing the sum of the squares of the vertical deviations from each data point to the line (if a point lies on the fitted line exactly, then its vertical deviation is 0). Because the deviations are first squared, then summed, there are no cancellations between positive and negative values.\n",
    "\n",
    "```\n",
    "\n",
    "[Source: http://www.stat.yale.edu/Courses/1997-98/101/linreg.htm](http://www.stat.yale.edu/Courses/1997-98/101/linreg.htm)\n",
    "\n",
    "\n",
    "### Tutorial Overview\n",
    "\n",
    "In today's tutorial, we will cover basics of downloading and loading data in Python, running basic descriptive statistics and figures, as well as running simple OLS or ordinary least squares regression models. The output of these models could be used to estimate an unknown outcome given several parameters. Examples of this will be shown below.\n",
    "\n",
    "\n",
    "### Background Material\n",
    "\n",
    "Besides the material covered in this tutorial, you may want some additional background on the basics of Jupyter Notebooks and basic usage of data analysis in Python using Pandas:\n",
    "\n",
    "[Using Jupyter and Pandas Tutorial](http://jmausolf.github.io/code/Using_Pandas_in_Python/)\n",
    "\n"
   ]
  },
  {
   "cell_type": "markdown",
   "metadata": {},
   "source": [
    "---"
   ]
  },
  {
   "cell_type": "markdown",
   "metadata": {},
   "source": [
    "# Downloading Data\n",
    "\n",
    "In Python, there are a number of ways to download data. Below, I show examples of downloading a zip_fie from the General Social Survey as well as another already created .CSV file of the GSS survey stored elsewhere on the web. \n",
    "\n",
    "For the curious, entire scripts can be written to download, clean, and iterate through datasets from a number of sources:\n",
    "\n",
    "[Advanced Download Example Code](https://github.com/jmausolf/police_ois_matching/blob/master/download.py)\n",
    "\n",
    "Basic Download Examples Below:"
   ]
  },
  {
   "cell_type": "code",
   "execution_count": 5,
   "metadata": {},
   "outputs": [],
   "source": [
    "#Import Packages\n",
    "import wget\n",
    "import pandas as pd\n",
    "from glob import glob\n",
    "import zipfile\n",
    "\n",
    "#Turn of Notebook Package Warnings\n",
    "import warnings\n",
    "warnings.filterwarnings('ignore')"
   ]
  },
  {
   "cell_type": "code",
   "execution_count": 6,
   "metadata": {},
   "outputs": [
    {
     "name": "stdout",
     "output_type": "stream",
     "text": [
      "rm: *.csv: No such file or directory\n",
      "/bin/sh: rm*.DTA: command not found\n",
      "  % Total    % Received % Xferd  Average Speed   Time    Time     Time  Current\n",
      "                                 Dload  Upload   Total   Spent    Left  Speed\n",
      "100 1109k  100 1109k    0     0   454k      0  0:00:02  0:00:02 --:--:--  454k\n"
     ]
    }
   ],
   "source": [
    "#Example of Downloading the Data and Extract Stata DTA File\n",
    "! rm *.csv\n",
    "! rm *.zip\n",
    "! rm*.DTA\n",
    "\n",
    "#Use Curl to Fetch a File\n",
    "!curl -O http://gss.norc.org/Documents/stata/2016_stata.zip\n",
    "\n",
    "#Unzip a File  \n",
    "def unzip(zipfilename, subfilename=\"\", rename=\"\"):\n",
    "    with zipfile.ZipFile(zipfilename,\"r\") as zip_ref:\n",
    "        zip_ref.extract(subfilename, \".\")\n",
    "        if rename !=\"\":os.rename(subfilename, rename)\n",
    "            \n",
    "unzip('2016_stata.zip', 'GSS2016.DTA')\n",
    "\n"
   ]
  },
  {
   "cell_type": "code",
   "execution_count": 7,
   "metadata": {},
   "outputs": [
    {
     "data": {
      "text/plain": [
       "'gss2014.csv'"
      ]
     },
     "execution_count": 7,
     "metadata": {},
     "output_type": "execute_result"
    }
   ],
   "source": [
    "#Alternative to Curl is Wget\n",
    "#Download a CSV Stored on the Web\n",
    "wget.download('https://raw.githubusercontent.com/jmausolf/Python_Tutorials/master/Machine_Learning/data/gss2014.csv')"
   ]
  },
  {
   "cell_type": "code",
   "execution_count": 8,
   "metadata": {},
   "outputs": [
    {
     "name": "stdout",
     "output_type": "stream",
     "text": [
      "2016_stata.zip                    Lab_2_LinearRegression.ipynb\r\n",
      "Example_Assignment_2_Layout.ipynb gss2014.csv\r\n",
      "GSS2016.DTA\r\n"
     ]
    }
   ],
   "source": [
    "! ls"
   ]
  },
  {
   "cell_type": "markdown",
   "metadata": {},
   "source": [
    "\n",
    "# EXPLORATORY DATA ANALYSIS WITH PANDAS\n",
    "\n",
    "[Pandas](http://pandas.pydata.org/) is a library created by [Wes McKinney](http://blog.wesmckinney.com/) that introduces the R-like dataframe object to Python and makes working with data in Python a lot easier. It's also a lot more efficient than the R dataframe and pretty much makes Python superior to R in every imaginable way (except for ggplot 2).\n",
    "\n",
    "We start by importing the libraries we're going to use: `pandas` and `matplotlib`.\n"
   ]
  },
  {
   "cell_type": "markdown",
   "metadata": {},
   "source": [
    "\n",
    "### LOAD THE DATA WITH PANDAS"
   ]
  },
  {
   "cell_type": "code",
   "execution_count": 9,
   "metadata": {},
   "outputs": [],
   "source": [
    "# Define Data\n",
    "df = pd.read_csv('gss2014.csv', index_col=0).reset_index()"
   ]
  },
  {
   "cell_type": "markdown",
   "metadata": {},
   "source": [
    "\n",
    "### VIEW THE DATA IN PANDAS\n",
    "\n",
    "There are lots of options for viewing data in pandas. Just like we did in the command line, you can use `head` and `tail` to get a quick view of our data."
   ]
  },
  {
   "cell_type": "code",
   "execution_count": 10,
   "metadata": {},
   "outputs": [
    {
     "data": {
      "text/html": [
       "<div>\n",
       "<style scoped>\n",
       "    .dataframe tbody tr th:only-of-type {\n",
       "        vertical-align: middle;\n",
       "    }\n",
       "\n",
       "    .dataframe tbody tr th {\n",
       "        vertical-align: top;\n",
       "    }\n",
       "\n",
       "    .dataframe thead th {\n",
       "        text-align: right;\n",
       "    }\n",
       "</style>\n",
       "<table border=\"1\" class=\"dataframe\">\n",
       "  <thead>\n",
       "    <tr style=\"text-align: right;\">\n",
       "      <th></th>\n",
       "      <th>prestg10</th>\n",
       "      <th>sppres10</th>\n",
       "      <th>papres10</th>\n",
       "      <th>mapres10</th>\n",
       "      <th>prestg105plus</th>\n",
       "      <th>sppres105plus</th>\n",
       "      <th>papres105plus</th>\n",
       "      <th>mapres105plus</th>\n",
       "      <th>sei10</th>\n",
       "      <th>spsei10</th>\n",
       "      <th>...</th>\n",
       "      <th>partyid_na</th>\n",
       "      <th>partyid_dk</th>\n",
       "      <th>partyid_strdem</th>\n",
       "      <th>partyid_dem</th>\n",
       "      <th>partyid_ind_dem</th>\n",
       "      <th>partyid_ind</th>\n",
       "      <th>partyid_ind_rep</th>\n",
       "      <th>partyid_rep</th>\n",
       "      <th>partyid_str_rep</th>\n",
       "      <th>partyid_other</th>\n",
       "    </tr>\n",
       "  </thead>\n",
       "  <tbody>\n",
       "    <tr>\n",
       "      <th>0</th>\n",
       "      <td>53</td>\n",
       "      <td>-1</td>\n",
       "      <td>-1</td>\n",
       "      <td>45</td>\n",
       "      <td>75</td>\n",
       "      <td>-1</td>\n",
       "      <td>-1</td>\n",
       "      <td>55</td>\n",
       "      <td>59.1</td>\n",
       "      <td>-1.0</td>\n",
       "      <td>...</td>\n",
       "      <td>0</td>\n",
       "      <td>0</td>\n",
       "      <td>0</td>\n",
       "      <td>0</td>\n",
       "      <td>0</td>\n",
       "      <td>0</td>\n",
       "      <td>0</td>\n",
       "      <td>1</td>\n",
       "      <td>0</td>\n",
       "      <td>0</td>\n",
       "    </tr>\n",
       "    <tr>\n",
       "      <th>1</th>\n",
       "      <td>51</td>\n",
       "      <td>50</td>\n",
       "      <td>50</td>\n",
       "      <td>64</td>\n",
       "      <td>75</td>\n",
       "      <td>58</td>\n",
       "      <td>65</td>\n",
       "      <td>87</td>\n",
       "      <td>61.9</td>\n",
       "      <td>32.6</td>\n",
       "      <td>...</td>\n",
       "      <td>0</td>\n",
       "      <td>0</td>\n",
       "      <td>0</td>\n",
       "      <td>0</td>\n",
       "      <td>0</td>\n",
       "      <td>0</td>\n",
       "      <td>0</td>\n",
       "      <td>1</td>\n",
       "      <td>0</td>\n",
       "      <td>0</td>\n",
       "    </tr>\n",
       "    <tr>\n",
       "      <th>2</th>\n",
       "      <td>39</td>\n",
       "      <td>-1</td>\n",
       "      <td>-1</td>\n",
       "      <td>35</td>\n",
       "      <td>38</td>\n",
       "      <td>-1</td>\n",
       "      <td>-1</td>\n",
       "      <td>28</td>\n",
       "      <td>38.1</td>\n",
       "      <td>-1.0</td>\n",
       "      <td>...</td>\n",
       "      <td>0</td>\n",
       "      <td>0</td>\n",
       "      <td>0</td>\n",
       "      <td>0</td>\n",
       "      <td>0</td>\n",
       "      <td>0</td>\n",
       "      <td>0</td>\n",
       "      <td>0</td>\n",
       "      <td>1</td>\n",
       "      <td>0</td>\n",
       "    </tr>\n",
       "    <tr>\n",
       "      <th>3</th>\n",
       "      <td>53</td>\n",
       "      <td>51</td>\n",
       "      <td>36</td>\n",
       "      <td>-1</td>\n",
       "      <td>73</td>\n",
       "      <td>72</td>\n",
       "      <td>25</td>\n",
       "      <td>-1</td>\n",
       "      <td>73.9</td>\n",
       "      <td>78.3</td>\n",
       "      <td>...</td>\n",
       "      <td>0</td>\n",
       "      <td>0</td>\n",
       "      <td>0</td>\n",
       "      <td>0</td>\n",
       "      <td>0</td>\n",
       "      <td>0</td>\n",
       "      <td>0</td>\n",
       "      <td>1</td>\n",
       "      <td>0</td>\n",
       "      <td>0</td>\n",
       "    </tr>\n",
       "    <tr>\n",
       "      <th>4</th>\n",
       "      <td>60</td>\n",
       "      <td>42</td>\n",
       "      <td>35</td>\n",
       "      <td>64</td>\n",
       "      <td>85</td>\n",
       "      <td>43</td>\n",
       "      <td>29</td>\n",
       "      <td>86</td>\n",
       "      <td>76.3</td>\n",
       "      <td>35.3</td>\n",
       "      <td>...</td>\n",
       "      <td>0</td>\n",
       "      <td>0</td>\n",
       "      <td>0</td>\n",
       "      <td>0</td>\n",
       "      <td>0</td>\n",
       "      <td>1</td>\n",
       "      <td>0</td>\n",
       "      <td>0</td>\n",
       "      <td>0</td>\n",
       "      <td>0</td>\n",
       "    </tr>\n",
       "  </tbody>\n",
       "</table>\n",
       "<p>5 rows × 906 columns</p>\n",
       "</div>"
      ],
      "text/plain": [
       "   prestg10  sppres10  papres10  mapres10  prestg105plus  sppres105plus  \\\n",
       "0        53        -1        -1        45             75             -1   \n",
       "1        51        50        50        64             75             58   \n",
       "2        39        -1        -1        35             38             -1   \n",
       "3        53        51        36        -1             73             72   \n",
       "4        60        42        35        64             85             43   \n",
       "\n",
       "   papres105plus  mapres105plus  sei10  spsei10      ...        partyid_na  \\\n",
       "0             -1             55   59.1     -1.0      ...                 0   \n",
       "1             65             87   61.9     32.6      ...                 0   \n",
       "2             -1             28   38.1     -1.0      ...                 0   \n",
       "3             25             -1   73.9     78.3      ...                 0   \n",
       "4             29             86   76.3     35.3      ...                 0   \n",
       "\n",
       "   partyid_dk  partyid_strdem  partyid_dem  partyid_ind_dem  partyid_ind  \\\n",
       "0           0               0            0                0            0   \n",
       "1           0               0            0                0            0   \n",
       "2           0               0            0                0            0   \n",
       "3           0               0            0                0            0   \n",
       "4           0               0            0                0            1   \n",
       "\n",
       "   partyid_ind_rep  partyid_rep  partyid_str_rep  partyid_other  \n",
       "0                0            1                0              0  \n",
       "1                0            1                0              0  \n",
       "2                0            0                1              0  \n",
       "3                0            1                0              0  \n",
       "4                0            0                0              0  \n",
       "\n",
       "[5 rows x 906 columns]"
      ]
     },
     "execution_count": 10,
     "metadata": {},
     "output_type": "execute_result"
    }
   ],
   "source": [
    "df.head()"
   ]
  },
  {
   "cell_type": "code",
   "execution_count": 11,
   "metadata": {},
   "outputs": [
    {
     "data": {
      "text/plain": [
       "(2538, 906)"
      ]
     },
     "execution_count": 11,
     "metadata": {},
     "output_type": "execute_result"
    }
   ],
   "source": [
    "df.shape"
   ]
  },
  {
   "cell_type": "code",
   "execution_count": 12,
   "metadata": {},
   "outputs": [
    {
     "data": {
      "text/html": [
       "<div>\n",
       "<style scoped>\n",
       "    .dataframe tbody tr th:only-of-type {\n",
       "        vertical-align: middle;\n",
       "    }\n",
       "\n",
       "    .dataframe tbody tr th {\n",
       "        vertical-align: top;\n",
       "    }\n",
       "\n",
       "    .dataframe thead th {\n",
       "        text-align: right;\n",
       "    }\n",
       "</style>\n",
       "<table border=\"1\" class=\"dataframe\">\n",
       "  <thead>\n",
       "    <tr style=\"text-align: right;\">\n",
       "      <th></th>\n",
       "      <th>prestg10</th>\n",
       "      <th>sppres10</th>\n",
       "      <th>papres10</th>\n",
       "      <th>mapres10</th>\n",
       "      <th>prestg105plus</th>\n",
       "      <th>sppres105plus</th>\n",
       "      <th>papres105plus</th>\n",
       "      <th>mapres105plus</th>\n",
       "      <th>sei10</th>\n",
       "      <th>spsei10</th>\n",
       "      <th>...</th>\n",
       "      <th>partyid_strdem</th>\n",
       "      <th>partyid_dem</th>\n",
       "      <th>partyid_ind_dem</th>\n",
       "      <th>partyid_ind</th>\n",
       "      <th>partyid_ind_rep</th>\n",
       "      <th>partyid_rep</th>\n",
       "      <th>partyid_str_rep</th>\n",
       "      <th>partyid_other</th>\n",
       "      <th>races</th>\n",
       "      <th>genders</th>\n",
       "    </tr>\n",
       "  </thead>\n",
       "  <tbody>\n",
       "    <tr>\n",
       "      <th>0</th>\n",
       "      <td>53</td>\n",
       "      <td>-1</td>\n",
       "      <td>-1</td>\n",
       "      <td>45</td>\n",
       "      <td>75</td>\n",
       "      <td>-1</td>\n",
       "      <td>-1</td>\n",
       "      <td>55</td>\n",
       "      <td>59.1</td>\n",
       "      <td>-1.0</td>\n",
       "      <td>...</td>\n",
       "      <td>0</td>\n",
       "      <td>0</td>\n",
       "      <td>0</td>\n",
       "      <td>0</td>\n",
       "      <td>0</td>\n",
       "      <td>1</td>\n",
       "      <td>0</td>\n",
       "      <td>0</td>\n",
       "      <td>white</td>\n",
       "      <td>male</td>\n",
       "    </tr>\n",
       "    <tr>\n",
       "      <th>1</th>\n",
       "      <td>51</td>\n",
       "      <td>50</td>\n",
       "      <td>50</td>\n",
       "      <td>64</td>\n",
       "      <td>75</td>\n",
       "      <td>58</td>\n",
       "      <td>65</td>\n",
       "      <td>87</td>\n",
       "      <td>61.9</td>\n",
       "      <td>32.6</td>\n",
       "      <td>...</td>\n",
       "      <td>0</td>\n",
       "      <td>0</td>\n",
       "      <td>0</td>\n",
       "      <td>0</td>\n",
       "      <td>0</td>\n",
       "      <td>1</td>\n",
       "      <td>0</td>\n",
       "      <td>0</td>\n",
       "      <td>white</td>\n",
       "      <td>female</td>\n",
       "    </tr>\n",
       "    <tr>\n",
       "      <th>2</th>\n",
       "      <td>39</td>\n",
       "      <td>-1</td>\n",
       "      <td>-1</td>\n",
       "      <td>35</td>\n",
       "      <td>38</td>\n",
       "      <td>-1</td>\n",
       "      <td>-1</td>\n",
       "      <td>28</td>\n",
       "      <td>38.1</td>\n",
       "      <td>-1.0</td>\n",
       "      <td>...</td>\n",
       "      <td>0</td>\n",
       "      <td>0</td>\n",
       "      <td>0</td>\n",
       "      <td>0</td>\n",
       "      <td>0</td>\n",
       "      <td>0</td>\n",
       "      <td>1</td>\n",
       "      <td>0</td>\n",
       "      <td>white</td>\n",
       "      <td>male</td>\n",
       "    </tr>\n",
       "    <tr>\n",
       "      <th>3</th>\n",
       "      <td>53</td>\n",
       "      <td>51</td>\n",
       "      <td>36</td>\n",
       "      <td>-1</td>\n",
       "      <td>73</td>\n",
       "      <td>72</td>\n",
       "      <td>25</td>\n",
       "      <td>-1</td>\n",
       "      <td>73.9</td>\n",
       "      <td>78.3</td>\n",
       "      <td>...</td>\n",
       "      <td>0</td>\n",
       "      <td>0</td>\n",
       "      <td>0</td>\n",
       "      <td>0</td>\n",
       "      <td>0</td>\n",
       "      <td>1</td>\n",
       "      <td>0</td>\n",
       "      <td>0</td>\n",
       "      <td>white</td>\n",
       "      <td>female</td>\n",
       "    </tr>\n",
       "    <tr>\n",
       "      <th>4</th>\n",
       "      <td>60</td>\n",
       "      <td>42</td>\n",
       "      <td>35</td>\n",
       "      <td>64</td>\n",
       "      <td>85</td>\n",
       "      <td>43</td>\n",
       "      <td>29</td>\n",
       "      <td>86</td>\n",
       "      <td>76.3</td>\n",
       "      <td>35.3</td>\n",
       "      <td>...</td>\n",
       "      <td>0</td>\n",
       "      <td>0</td>\n",
       "      <td>0</td>\n",
       "      <td>1</td>\n",
       "      <td>0</td>\n",
       "      <td>0</td>\n",
       "      <td>0</td>\n",
       "      <td>0</td>\n",
       "      <td>white</td>\n",
       "      <td>female</td>\n",
       "    </tr>\n",
       "  </tbody>\n",
       "</table>\n",
       "<p>5 rows × 908 columns</p>\n",
       "</div>"
      ],
      "text/plain": [
       "   prestg10  sppres10  papres10  mapres10  prestg105plus  sppres105plus  \\\n",
       "0        53        -1        -1        45             75             -1   \n",
       "1        51        50        50        64             75             58   \n",
       "2        39        -1        -1        35             38             -1   \n",
       "3        53        51        36        -1             73             72   \n",
       "4        60        42        35        64             85             43   \n",
       "\n",
       "   papres105plus  mapres105plus  sei10  spsei10   ...     partyid_strdem  \\\n",
       "0             -1             55   59.1     -1.0   ...                  0   \n",
       "1             65             87   61.9     32.6   ...                  0   \n",
       "2             -1             28   38.1     -1.0   ...                  0   \n",
       "3             25             -1   73.9     78.3   ...                  0   \n",
       "4             29             86   76.3     35.3   ...                  0   \n",
       "\n",
       "   partyid_dem  partyid_ind_dem  partyid_ind  partyid_ind_rep  partyid_rep  \\\n",
       "0            0                0            0                0            1   \n",
       "1            0                0            0                0            1   \n",
       "2            0                0            0                0            0   \n",
       "3            0                0            0                0            1   \n",
       "4            0                0            1                0            0   \n",
       "\n",
       "   partyid_str_rep  partyid_other  races  genders  \n",
       "0                0              0  white     male  \n",
       "1                0              0  white   female  \n",
       "2                1              0  white     male  \n",
       "3                0              0  white   female  \n",
       "4                0              0  white   female  \n",
       "\n",
       "[5 rows x 908 columns]"
      ]
     },
     "execution_count": 12,
     "metadata": {},
     "output_type": "execute_result"
    }
   ],
   "source": [
    "#Create String Cols with Value Labels\n",
    "races_map = {1: \"white\", 2: 'black', 3: 'other_race'}\n",
    "genders_map = {1: 'male', 2: 'female'}\n",
    "df[\"races\"] = df[\"race\"].map(races_map)\n",
    "df[\"genders\"] = df[\"sex\"].map(genders_map)\n",
    "\n",
    "df.head()"
   ]
  },
  {
   "cell_type": "markdown",
   "metadata": {},
   "source": [
    "# Complicated Scatterplot"
   ]
  },
  {
   "cell_type": "code",
   "execution_count": 13,
   "metadata": {},
   "outputs": [
    {
     "ename": "ModuleNotFoundError",
     "evalue": "No module named 'ggplot'",
     "output_type": "error",
     "traceback": [
      "\u001b[0;31m---------------------------------------------------------------------------\u001b[0m",
      "\u001b[0;31mModuleNotFoundError\u001b[0m                       Traceback (most recent call last)",
      "\u001b[0;32m<ipython-input-13-a9fa2c3d33b5>\u001b[0m in \u001b[0;36m<module>\u001b[0;34m()\u001b[0m\n\u001b[0;32m----> 1\u001b[0;31m \u001b[0;32mfrom\u001b[0m \u001b[0mggplot\u001b[0m \u001b[0;32mimport\u001b[0m \u001b[0;34m*\u001b[0m\u001b[0;34m\u001b[0m\u001b[0m\n\u001b[0m\u001b[1;32m      2\u001b[0m \u001b[0;34m\u001b[0m\u001b[0m\n\u001b[1;32m      3\u001b[0m \u001b[0;31m#Make a Basic Scatterplot\u001b[0m\u001b[0;34m\u001b[0m\u001b[0;34m\u001b[0m\u001b[0m\n\u001b[1;32m      4\u001b[0m \u001b[0mggplot\u001b[0m\u001b[0;34m(\u001b[0m\u001b[0maes\u001b[0m\u001b[0;34m(\u001b[0m\u001b[0mx\u001b[0m\u001b[0;34m=\u001b[0m\u001b[0;34m'educ'\u001b[0m\u001b[0;34m,\u001b[0m \u001b[0my\u001b[0m\u001b[0;34m=\u001b[0m\u001b[0;34m'realinc'\u001b[0m\u001b[0;34m,\u001b[0m \u001b[0mcolor\u001b[0m\u001b[0;34m=\u001b[0m\u001b[0;34m'age'\u001b[0m\u001b[0;34m)\u001b[0m\u001b[0;34m,\u001b[0m \u001b[0mdata\u001b[0m\u001b[0;34m=\u001b[0m\u001b[0mdf\u001b[0m\u001b[0;34m)\u001b[0m \u001b[0;34m+\u001b[0m    \u001b[0mgeom_point\u001b[0m\u001b[0;34m(\u001b[0m\u001b[0;34m)\u001b[0m \u001b[0;34m+\u001b[0m    \u001b[0mxlab\u001b[0m\u001b[0;34m(\u001b[0m\u001b[0;34m\"Level of Education\"\u001b[0m\u001b[0;34m)\u001b[0m \u001b[0;34m+\u001b[0m \u001b[0mylab\u001b[0m\u001b[0;34m(\u001b[0m\u001b[0;34m\"Income\"\u001b[0m\u001b[0;34m)\u001b[0m \u001b[0;34m+\u001b[0m     \u001b[0mggtitle\u001b[0m\u001b[0;34m(\u001b[0m\u001b[0;34m\"Variation in Income by Race and Education\"\u001b[0m\u001b[0;34m)\u001b[0m \u001b[0;34m+\u001b[0m     \u001b[0mfacet_grid\u001b[0m\u001b[0;34m(\u001b[0m\u001b[0;34m\"races\"\u001b[0m\u001b[0;34m,\u001b[0m \u001b[0;34m\"genders\"\u001b[0m\u001b[0;34m)\u001b[0m\u001b[0;34m\u001b[0m\u001b[0m\n",
      "\u001b[0;31mModuleNotFoundError\u001b[0m: No module named 'ggplot'"
     ]
    }
   ],
   "source": [
    "from ggplot import *\n",
    "\n",
    "#Make a Basic Scatterplot\n",
    "ggplot(aes(x='educ', y='realinc', color='age'), data=df) +\\\n",
    "    geom_point() +\\\n",
    "    xlab(\"Level of Education\") + ylab(\"Income\") + \\\n",
    "    ggtitle(\"Variation in Income by Race and Education\") + \\\n",
    "    facet_grid(\"races\", \"genders\")"
   ]
  },
  {
   "cell_type": "markdown",
   "metadata": {},
   "source": [
    "# Simpler Scatterplot"
   ]
  },
  {
   "cell_type": "code",
   "execution_count": null,
   "metadata": {},
   "outputs": [],
   "source": [
    "# Make scatterplot of education on income\n",
    "# simple scatterplot using matplotlib\n",
    "\n",
    "educ = df['educ']\n",
    "income = df['realinc']\n",
    "df.plot(x='educ', y='realinc', kind='scatter')\n",
    "plt.show()"
   ]
  },
  {
   "cell_type": "markdown",
   "metadata": {},
   "source": [
    "# Descriptive Statistics of a Variable"
   ]
  },
  {
   "cell_type": "code",
   "execution_count": null,
   "metadata": {},
   "outputs": [],
   "source": [
    "#Get Income Descriptive Stats\n",
    "df['realinc'].describe()"
   ]
  },
  {
   "cell_type": "markdown",
   "metadata": {},
   "source": [
    "# Linear Regression"
   ]
  },
  {
   "cell_type": "markdown",
   "metadata": {},
   "source": [
    "### Setup Linear Regression Variables and Data"
   ]
  },
  {
   "cell_type": "code",
   "execution_count": null,
   "metadata": {},
   "outputs": [],
   "source": [
    "#Define Outcome and Independent Variables\n",
    "outcome  = 'realinc'\n",
    "features = ['age', 'sex', 'race', 'educ']\n",
    "\n",
    "X, y = df[features], df[outcome]"
   ]
  },
  {
   "cell_type": "code",
   "execution_count": null,
   "metadata": {},
   "outputs": [],
   "source": [
    "X.head()"
   ]
  },
  {
   "cell_type": "code",
   "execution_count": null,
   "metadata": {},
   "outputs": [],
   "source": [
    "y.head()"
   ]
  },
  {
   "cell_type": "code",
   "execution_count": null,
   "metadata": {},
   "outputs": [],
   "source": [
    "#Get Dummy Variables\n",
    "X = pd.get_dummies(X, prefix=['race', 'sex'], columns=['race', 'sex'])"
   ]
  },
  {
   "cell_type": "code",
   "execution_count": null,
   "metadata": {},
   "outputs": [],
   "source": [
    "X.head()"
   ]
  },
  {
   "cell_type": "code",
   "execution_count": null,
   "metadata": {},
   "outputs": [],
   "source": [
    "#Rename Columns\n",
    "cols = ['age', 'educ', 'white', 'black', 'other_race', 'male', 'female']\n",
    "X.columns = cols\n",
    "X.head()"
   ]
  },
  {
   "cell_type": "code",
   "execution_count": null,
   "metadata": {},
   "outputs": [],
   "source": [
    "#Create X Data without Reference Groups\n",
    "X_vars = X[['age', 'educ', 'black', 'other_race', 'female']]\n",
    "X_vars.head()"
   ]
  },
  {
   "cell_type": "markdown",
   "metadata": {},
   "source": [
    "### Run Regression Using Statsmodels"
   ]
  },
  {
   "cell_type": "code",
   "execution_count": null,
   "metadata": {},
   "outputs": [],
   "source": [
    "import statsmodels.api as sm\n",
    "\n",
    "X_vars = sm.add_constant(X_vars, prepend=False)\n",
    "X_vars.head()\n",
    "\n",
    "m = sm.OLS(y, X_vars)\n",
    "\n",
    "res = m.fit()\n",
    "print(res.summary())"
   ]
  },
  {
   "cell_type": "markdown",
   "metadata": {},
   "source": [
    "### Save Prediction of Model"
   ]
  },
  {
   "cell_type": "code",
   "execution_count": null,
   "metadata": {},
   "outputs": [],
   "source": [
    "#First Rejoin Full Model Data (Including Ref Groups)\n",
    "ols_df = pd.concat([y, X], axis=1)\n",
    "ols_df.head()"
   ]
  },
  {
   "cell_type": "code",
   "execution_count": null,
   "metadata": {},
   "outputs": [],
   "source": [
    "#Add Model Predictions\n",
    "ols_df['yhat'] = res.predict(X_vars)\n",
    "ols_df.head()"
   ]
  },
  {
   "cell_type": "markdown",
   "metadata": {},
   "source": [
    "# Creating New Variables Using a Formula"
   ]
  },
  {
   "cell_type": "code",
   "execution_count": null,
   "metadata": {},
   "outputs": [],
   "source": [
    "#Example Getting Income With a Custom Formula\n",
    "def get_income(row):\n",
    "    \n",
    "    age = row[0]\n",
    "    educ = row[1]\n",
    "    \n",
    "    inc = -20120+(age*8.0227)+(educ*4090.0313)\n",
    "    return inc\n",
    "\n",
    "get_income([53, 16])"
   ]
  },
  {
   "cell_type": "code",
   "execution_count": null,
   "metadata": {},
   "outputs": [],
   "source": [
    "ols_df['imputed_inc_by_age_educ'] = ols_df[['age', 'educ']].apply(get_income, axis=1) "
   ]
  },
  {
   "cell_type": "code",
   "execution_count": null,
   "metadata": {},
   "outputs": [],
   "source": [
    "ols_df.head()"
   ]
  },
  {
   "cell_type": "markdown",
   "metadata": {},
   "source": [
    "# Correlation Matrix"
   ]
  },
  {
   "cell_type": "code",
   "execution_count": null,
   "metadata": {},
   "outputs": [],
   "source": [
    "# Correction Matrix Plot\n",
    "import matplotlib.pyplot as plt\n",
    "\n",
    "ols_df = pd.concat([y, X], axis=1)\n",
    "ols_df.head()\n"
   ]
  },
  {
   "cell_type": "code",
   "execution_count": null,
   "metadata": {},
   "outputs": [],
   "source": [
    "def corr_plot(df):\n",
    "    import matplotlib.pyplot as plt\n",
    "    import numpy as np\n",
    "    import pandas as pd\n",
    "    \n",
    "    names = df.columns\n",
    "    N = len(names)\n",
    "    \n",
    "    correlations = df.corr()\n",
    "    fig = plt.figure()\n",
    "    ax = fig.add_subplot(111)\n",
    "    cax = ax.matshow(correlations, vmin=-1, vmax=1)\n",
    "    fig.colorbar(cax)\n",
    "    ticks = np.arange(0,N,1)\n",
    "    ax.set_xticks(ticks)\n",
    "    ax.set_yticks(ticks)\n",
    "    ax.set_xticklabels(names)\n",
    "    ax.set_yticklabels(names)\n",
    "    plt.show()\n",
    "    \n",
    "\n",
    "    \n",
    "    \n",
    "corr_plot(ols_df)"
   ]
  },
  {
   "cell_type": "code",
   "execution_count": null,
   "metadata": {},
   "outputs": [],
   "source": [
    "#In Matrix Form\n",
    "corr = ols_df.corr()\n",
    "corr.style.background_gradient()"
   ]
  },
  {
   "cell_type": "code",
   "execution_count": null,
   "metadata": {},
   "outputs": [],
   "source": []
  }
 ],
 "metadata": {
  "anaconda-cloud": {},
  "kernelspec": {
   "display_name": "Python 3",
   "language": "python",
   "name": "python3"
  },
  "language_info": {
   "codemirror_mode": {
    "name": "ipython",
    "version": 3
   },
   "file_extension": ".py",
   "mimetype": "text/x-python",
   "name": "python",
   "nbconvert_exporter": "python",
   "pygments_lexer": "ipython3",
   "version": "3.7.0"
  }
 },
 "nbformat": 4,
 "nbformat_minor": 1
}
