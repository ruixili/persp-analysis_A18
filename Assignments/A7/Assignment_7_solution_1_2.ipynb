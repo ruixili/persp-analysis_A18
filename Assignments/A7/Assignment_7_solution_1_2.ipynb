{
 "cells": [
  {
   "cell_type": "markdown",
   "metadata": {},
   "source": [
    "### 1. Unit Testing in Python"
   ]
  },
  {
   "cell_type": "markdown",
   "metadata": {},
   "source": [
    "#### Problem 1. The following function contains a subtle but important error."
   ]
  },
  {
   "cell_type": "markdown",
   "metadata": {},
   "source": [
    "Here is smallest_factor.py:"
   ]
  },
  {
   "cell_type": "code",
   "execution_count": null,
   "metadata": {},
   "outputs": [],
   "source": [
    "def smallest_factor(n):\n",
    "    \"\"\"Return the smallest prime factor of the positive integer n.\"\"\"\n",
    "    if n == 1: return 1\n",
    "    for i in range(2, int(n**.5)):\n",
    "        if n % i == 0: return i\n",
    "    return n"
   ]
  },
  {
   "cell_type": "markdown",
   "metadata": {},
   "source": [
    "Write a unit test for this function, including test cases that you suspect might uncover the error (what are the edge cases for this function?). Here is test_smallest_factor.py:"
   ]
  },
  {
   "cell_type": "code",
   "execution_count": null,
   "metadata": {},
   "outputs": [],
   "source": [
    "import smallest_factor\n",
    "\n",
    "def test_smallest_factor():\n",
    "    assert smallest_factor.smallest_factor(1) == 1, \"failed on 1\"\n",
    "    assert smallest_factor.smallest_factor(2) == 2, \"failed on 2\"\n",
    "    assert smallest_factor.smallest_factor(3) == 3, \"failed on 3\"\n",
    "    assert smallest_factor.smallest_factor(4) == 2, \"failed on 4\""
   ]
  },
  {
   "cell_type": "markdown",
   "metadata": {},
   "source": [
    "Use pytest to run the unit test and discover a test case that fails, then use this information to correct the function."
   ]
  },
  {
   "cell_type": "code",
   "execution_count": null,
   "metadata": {},
   "outputs": [],
   "source": [
    "liruixideMacBook-Air:smallest_factor liruixi$ py.test\n",
    "============================= test session starts ==============================\n",
    "platform darwin -- Python 3.6.6, pytest-4.0.0, py-1.7.0, pluggy-0.8.0\n",
    "rootdir: /Users/liruixi/Desktop/Perspective/pa7/smallest_factor, inifile:\n",
    "plugins: remotedata-0.3.1, openfiles-0.3.0, cov-2.6.0\n",
    "collected 1 item                                                               \n",
    "\n",
    "test_smallest_factor.py F                                                [100%]\n",
    "\n",
    "=================================== FAILURES ===================================\n",
    "_____________________________ test_smallest_factor _____________________________\n",
    "\n",
    "    def test_smallest_factor():\n",
    "        assert smallest_factor.smallest_factor(1) == 1, \"failed on 1\"\n",
    "        assert smallest_factor.smallest_factor(2) == 2, \"failed on 2\"\n",
    "        assert smallest_factor.smallest_factor(3) == 3, \"failed on 3\"\n",
    ">       assert smallest_factor.smallest_factor(4) == 2, \"failed on 4\"\n",
    "E       AssertionError: failed on 4\n",
    "E       assert 4 == 2\n",
    "E        +  where 4 = <function smallest_factor at 0x111a65e18>(4)\n",
    "E        +    where <function smallest_factor at 0x111a65e18> = smallest_factor.smallest_factor\n",
    "\n",
    "test_smallest_factor.py:7: AssertionError\n",
    "=========================== 1 failed in 0.05 seconds ==========================="
   ]
  },
  {
   "cell_type": "markdown",
   "metadata": {},
   "source": [
    "The unit test failed on 4. Taking a closer look at the code, I found that when n equals 4, the i range from 2 inclusive and 2 exclusive, which is a empty set. To correct this, we add 1 to \"int(n**.5)\":"
   ]
  },
  {
   "cell_type": "code",
   "execution_count": 6,
   "metadata": {},
   "outputs": [],
   "source": [
    "def smallest_factor(n):\n",
    "    \"\"\"Return the smallest prime factor of the positive integer n.\"\"\"\n",
    "    if n == 1: return 1\n",
    "    for i in range(2, int(n**.5) + 1):\n",
    "        if n % i == 0: return i\n",
    "    return n"
   ]
  },
  {
   "cell_type": "markdown",
   "metadata": {},
   "source": [
    "#### Problem 2. With pytest-cov installed, check your coverage of smallest_factor() from Problem 1. Write additional test cases if necessary to get complete coverage. Then, write a comprehensive unit test for the following (correctly written) function."
   ]
  },
  {
   "cell_type": "markdown",
   "metadata": {},
   "source": [
    "Check coverage of smallest_factor( ) from Problem 1:"
   ]
  },
  {
   "cell_type": "code",
   "execution_count": null,
   "metadata": {},
   "outputs": [],
   "source": [
    "liruixideMacBook-Air:smallest_factor liruixi$ py.test --cov\n",
    "============================= test session starts ==============================\n",
    "platform darwin -- Python 3.6.6, pytest-4.0.0, py-1.7.0, pluggy-0.8.0\n",
    "rootdir: /Users/liruixi/Desktop/Perspective/pa7/smallest_factor, inifile:\n",
    "plugins: remotedata-0.3.1, openfiles-0.3.0, cov-2.6.0\n",
    "collected 1 item                                                               \n",
    "\n",
    "test_smallest_factor.py .                                                [100%]\n",
    "\n",
    "---------- coverage: platform darwin, python 3.6.6-final-0 -----------\n",
    "Name                      Stmts   Miss  Cover\n",
    "---------------------------------------------\n",
    "smallest_factor.py            5      0   100%\n",
    "test_smallest_factor.py       6      0   100%\n",
    "---------------------------------------------\n",
    "TOTAL                        11      0   100%\n",
    "\n",
    "\n",
    "=========================== 1 passed in 0.07 seconds ==========================="
   ]
  },
  {
   "cell_type": "markdown",
   "metadata": {},
   "source": [
    "Here is another function, stored in month_length.py:"
   ]
  },
  {
   "cell_type": "code",
   "execution_count": null,
   "metadata": {},
   "outputs": [],
   "source": [
    "def month_length(month, leap_year=False):\n",
    "    \"\"\"Return the number of days in the given month.\"\"\"\n",
    "    if month in {\"September\", \"April\", \"June\", \"November\"}:\n",
    "        return 30\n",
    "    elif month in {\"January\", \"March\", \"May\", \"July\",\n",
    "                        \"August\", \"October\", \"December\"}:\n",
    "        return 31\n",
    "    if month == \"February\":\n",
    "        if not leap_year:\n",
    "            return 28\n",
    "        else:\n",
    "            return 29\n",
    "    else:\n",
    "        return None"
   ]
  },
  {
   "cell_type": "markdown",
   "metadata": {},
   "source": [
    "Unit test for month_length, stored in test_month_length.py:"
   ]
  },
  {
   "cell_type": "code",
   "execution_count": null,
   "metadata": {},
   "outputs": [],
   "source": [
    "import month_length\n",
    "\n",
    "def test_month_length():\n",
    "    assert month_length.month_length(\"September\", False) == 30, \"failed on month with 30 days not in leap year\"\n",
    "    assert month_length.month_length(\"September\", True) == 30, \"failed on month with 30 days in leap year\"\n",
    "    assert month_length.month_length(\"January\", False) == 31, \"failed on month with 31 days not in leap year\"\n",
    "    assert month_length.month_length(\"January\", True) == 31, \"failed on month with 31 days in leap year\"\n",
    "    assert month_length.month_length(\"February\", False) == 28, \"failed on February not in leap year\"\n",
    "    assert month_length.month_length(\"February\", True) == 29, \"failed on February in leap year\"\n",
    "    assert month_length.month_length(\"not_a_month\", True) == None, \"failed on else\""
   ]
  },
  {
   "cell_type": "markdown",
   "metadata": {},
   "source": [
    "Run the \"py.test --cov\":"
   ]
  },
  {
   "cell_type": "code",
   "execution_count": null,
   "metadata": {},
   "outputs": [],
   "source": [
    "liruixideMacBook-Air:month_length liruixi$ py.test --cov\n",
    "============================= test session starts ==============================\n",
    "platform darwin -- Python 3.6.6, pytest-4.0.0, py-1.7.0, pluggy-0.8.0\n",
    "rootdir: /Users/liruixi/Desktop/Perspective/pa7/month_length, inifile:\n",
    "plugins: remotedata-0.3.1, openfiles-0.3.0, cov-2.6.0\n",
    "collected 1 item                                                               \n",
    "\n",
    "test_month_length.py .                                                   [100%]\n",
    "\n",
    "---------- coverage: platform darwin, python 3.6.6-final-0 -----------\n",
    "Name                   Stmts   Miss  Cover\n",
    "------------------------------------------\n",
    "month_length.py           10      0   100%\n",
    "test_month_length.py       9      0   100%\n",
    "------------------------------------------\n",
    "TOTAL                     19      0   100%\n",
    "\n",
    "\n",
    "=========================== 1 passed in 0.10 seconds ==========================="
   ]
  },
  {
   "cell_type": "markdown",
   "metadata": {},
   "source": [
    "The coverage is 100%."
   ]
  },
  {
   "cell_type": "markdown",
   "metadata": {},
   "source": [
    "#### Problem 3. Write a comprehensive unit test for the following function. Make sure that each exception is raised properly by explicitly checking the exception message. Use pytest-cov and its cov-report tool to confirm that you have full coverage for this function."
   ]
  },
  {
   "cell_type": "markdown",
   "metadata": {},
   "source": [
    "Here is another function, stored in operate.py:"
   ]
  },
  {
   "cell_type": "code",
   "execution_count": null,
   "metadata": {},
   "outputs": [],
   "source": [
    "def operate(a, b, oper):\n",
    "    \"\"\"Apply an arithmetic operation to a and b.\"\"\"\n",
    "    if type(oper) is not str:\n",
    "        raise TypeError(\"oper must be a string\")\n",
    "    elif oper == '+':\n",
    "        return a + b\n",
    "    elif oper == '-':\n",
    "        return a - b\n",
    "    elif oper == '*':\n",
    "        return a * b\n",
    "    elif oper == '/':\n",
    "        if b == 0:\n",
    "            raise ZeroDivisionError(\"division by zero is undefined\")\n",
    "        return a / b\n",
    "    raise ValueError(\"oper must be one of '+', '/', '-', or '*'\")"
   ]
  },
  {
   "cell_type": "markdown",
   "metadata": {},
   "source": [
    "Unit test for operate, stored in test_operate.py:"
   ]
  },
  {
   "cell_type": "code",
   "execution_count": null,
   "metadata": {},
   "outputs": [],
   "source": [
    "def test_operate():\n",
    "    assert operate.operate(4, 2, '+') == 6, \"failed on oper +\"\n",
    "    assert operate.operate(4, 2, '-') == 2, \"failed on oper -\"\n",
    "    assert operate.operate(4, 2, '*') == 8, \"failed on oper *\"\n",
    "    assert operate.operate(4, 2, '/') == 2, \"failed on oper /\"    \n",
    "    with pytest.raises(TypeError) as excinfo1:\n",
    "        operate.operate(4, 2, 0)\n",
    "    assert excinfo1.value.args[0] == \"oper must be a string\"\n",
    "    with pytest.raises(ZeroDivisionError) as excinfo2:\n",
    "        operate.operate(4, 0, '/')\n",
    "    assert excinfo2.value.args[0] == \"division by zero is undefined\"\n",
    "    with pytest.raises(ValueError) as excinfo3:\n",
    "        operate.operate(4, 2, '0')\n",
    "    assert excinfo3.value.args[0] == \"oper must be one of '+', '/', '-', or '*'\""
   ]
  },
  {
   "cell_type": "markdown",
   "metadata": {},
   "source": [
    "Run the \"py.test --cov\":"
   ]
  },
  {
   "cell_type": "code",
   "execution_count": null,
   "metadata": {},
   "outputs": [],
   "source": [
    "liruixideMacBook-Air:operate liruixi$ py.test --cov\n",
    "============================= test session starts ==============================\n",
    "platform darwin -- Python 3.6.6, pytest-4.0.0, py-1.7.0, pluggy-0.8.0\n",
    "rootdir: /Users/liruixi/Desktop/Perspective/pa7/operate, inifile:\n",
    "plugins: remotedata-0.3.1, openfiles-0.3.0, cov-2.6.0\n",
    "collected 1 item                                                               \n",
    "\n",
    "test_operate.py .                                                        [100%]\n",
    "\n",
    "---------- coverage: platform darwin, python 3.6.6-final-0 -----------\n",
    "Name              Stmts   Miss  Cover\n",
    "-------------------------------------\n",
    "operate.py           14      0   100%\n",
    "test_operate.py      16      0   100%\n",
    "-------------------------------------\n",
    "TOTAL                30      0   100%\n",
    "\n",
    "\n",
    "=========================== 1 passed in 0.12 seconds ==========================="
   ]
  },
  {
   "cell_type": "markdown",
   "metadata": {},
   "source": [
    "The coverage is 100%."
   ]
  },
  {
   "cell_type": "markdown",
   "metadata": {},
   "source": [
    "### 2. Test driven development"
   ]
  },
  {
   "cell_type": "markdown",
   "metadata": {},
   "source": [
    "#### (a)(b) "
   ]
  },
  {
   "cell_type": "markdown",
   "metadata": {},
   "source": [
    "Write a Python module entitled get r.py. Inside that module, define a function get r() that takes as inputs K, L, α, Z, and δ and returns the corresponding interest rate. Furthermore, this function must work for values of α,δ ∈ (0,1) and K,L,Z > 0. Furthermore, if K and L are both scalars, this function should return a scalar interest rate. And if K and L are both vectors, this function should return a corresponding vector of interest rates."
   ]
  },
  {
   "cell_type": "code",
   "execution_count": 3,
   "metadata": {},
   "outputs": [],
   "source": [
    "import numpy as np\n",
    "\n",
    "def get_r(K, L, alpha, Z, delta):\n",
    "    '''\n",
    "    This function generates the interest rate or vector of interest rates\n",
    "    '''\n",
    "    # Put your function stuff here\n",
    "    assert alpha > 0 and alpha < 1, \"outside the range of capital share of income\"\n",
    "    assert delta > 0 and delta < 1, \"outside the range of depreciation rate\"\n",
    "    # assert K > 0, \"outside the range of capital\"\n",
    "    # assert L > 0, \"outside the range of labor\"\n",
    "    assert Z > 0, \"outside the range of total factor productivity\"\n",
    "    \n",
    "    r = alpha * Z * ((L / K) **(1 - alpha)) - delta\n",
    "    \n",
    "    if type(K) == float and type(L) == float:\n",
    "        assert type(r) == float, \"K and L are both scalars but didn't return a scalar interest rate\"\n",
    "    if np.isscalar(K) and np.isscalar(L) :\n",
    "        assert np.isscalar(r), \"K and L are both vectors but didn't return a vector of interest rates\"    \n",
    "\n",
    "    return r"
   ]
  },
  {
   "cell_type": "markdown",
   "metadata": {},
   "source": [
    "#### (c) "
   ]
  },
  {
   "cell_type": "markdown",
   "metadata": {},
   "source": [
    "Run the \"py.test --cov\", I couldn't pass the test. Because K is an array with more than one element, so the  truth value of K is ambigious, the same with L. So I commented K and L out, and run the \"py.test --cov\" again:"
   ]
  },
  {
   "cell_type": "code",
   "execution_count": null,
   "metadata": {},
   "outputs": [],
   "source": [
    "liruixideMacBook-Air:get_r liruixi$ py.test --cov\n",
    "============================= test session starts ==============================\n",
    "platform darwin -- Python 3.6.6, pytest-4.0.0, py-1.7.0, pluggy-0.8.0\n",
    "rootdir: /Users/liruixi/Desktop/Perspective/pa7/get_r, inifile:\n",
    "plugins: remotedata-0.3.1, openfiles-0.3.0, cov-2.6.0\n",
    "collected 244 items                                                            \n",
    "\n",
    "test_r.py .............................................................. [ 25%]\n",
    "........................................................................ [ 54%]\n",
    "........................................................................ [ 84%]\n",
    "......................................                                   [100%]\n",
    "\n",
    "---------- coverage: platform darwin, python 3.6.6-final-0 -----------\n",
    "Name        Stmts   Miss  Cover\n",
    "-------------------------------\n",
    "get_r.py       11      0   100%\n",
    "test_r.py      29      0   100%\n",
    "-------------------------------\n",
    "TOTAL          40      0   100%\n",
    "\n",
    "\n",
    "========================== 244 passed in 1.00 seconds =========================="
   ]
  },
  {
   "cell_type": "markdown",
   "metadata": {},
   "source": [
    "### 3. Watts (2014)"
   ]
  },
  {
   "cell_type": "markdown",
   "metadata": {},
   "source": [
    "See the attached PDF."
   ]
  }
 ],
 "metadata": {
  "kernelspec": {
   "display_name": "Python 3",
   "language": "python",
   "name": "python3"
  },
  "language_info": {
   "codemirror_mode": {
    "name": "ipython",
    "version": 3
   },
   "file_extension": ".py",
   "mimetype": "text/x-python",
   "name": "python",
   "nbconvert_exporter": "python",
   "pygments_lexer": "ipython3",
   "version": "3.6.6"
  }
 },
 "nbformat": 4,
 "nbformat_minor": 2
}
