{
 "cells": [
  {
   "cell_type": "markdown",
   "metadata": {},
   "source": [
    "# Assignment 2"
   ]
  },
  {
   "cell_type": "markdown",
   "metadata": {},
   "source": [
    "### MACS 30000, Dr. Evans\n",
    "### Ruixi Li"
   ]
  },
  {
   "cell_type": "markdown",
   "metadata": {},
   "source": [
    "Due Wednesday, Oct. 17 at 11:30 AM"
   ]
  },
  {
   "cell_type": "code",
   "execution_count": 1,
   "metadata": {},
   "outputs": [],
   "source": [
    "# Import packages\n",
    "import numpy as np\n",
    "import pandas as pd\n",
    "import statsmodels.api as sm\n",
    "# import matplotlib.pyplot as plt\n",
    "import matplotlib.pyplot as plt\n",
    "# plt.style.use('seaborn')\n",
    "import seaborn as sns\n",
    "\n",
    "#Turn of Notebook Package Warnings\n",
    "import warnings\n",
    "warnings.filterwarnings('ignore')"
   ]
  },
  {
   "cell_type": "markdown",
   "metadata": {},
   "source": [
    "### 1. Imputing age and gender"
   ]
  },
  {
   "cell_type": "markdown",
   "metadata": {},
   "source": [
    "#### (a) Proposed solution\n",
    "For the age, I will use variables total income and weight in SurveyIncome.txt to fit a linear regression model. Then, I will use weight and the sum of labor income and capital income in BestIncome.txt to predict age into the BestIncome.txt.\n",
    "\n",
    "For the gender, I will use variables total income and weight in SurveyIncome.txt to fit a logit model. Then, I will use weight and the sum of labor income and capital income in BestIncome.txt to predict age into the BestIncome.txt."
   ]
  },
  {
   "cell_type": "code",
   "execution_count": 2,
   "metadata": {},
   "outputs": [
    {
     "data": {
      "text/html": [
       "<div>\n",
       "<style scoped>\n",
       "    .dataframe tbody tr th:only-of-type {\n",
       "        vertical-align: middle;\n",
       "    }\n",
       "\n",
       "    .dataframe tbody tr th {\n",
       "        vertical-align: top;\n",
       "    }\n",
       "\n",
       "    .dataframe thead th {\n",
       "        text-align: right;\n",
       "    }\n",
       "</style>\n",
       "<table border=\"1\" class=\"dataframe\">\n",
       "  <thead>\n",
       "    <tr style=\"text-align: right;\">\n",
       "      <th></th>\n",
       "      <th>0</th>\n",
       "      <th>1</th>\n",
       "      <th>2</th>\n",
       "      <th>3</th>\n",
       "    </tr>\n",
       "  </thead>\n",
       "  <tbody>\n",
       "    <tr>\n",
       "      <th>0</th>\n",
       "      <td>52655.605507</td>\n",
       "      <td>9279.509829</td>\n",
       "      <td>64.568138</td>\n",
       "      <td>152.920634</td>\n",
       "    </tr>\n",
       "    <tr>\n",
       "      <th>1</th>\n",
       "      <td>70586.979225</td>\n",
       "      <td>9451.016902</td>\n",
       "      <td>65.727648</td>\n",
       "      <td>159.534414</td>\n",
       "    </tr>\n",
       "    <tr>\n",
       "      <th>2</th>\n",
       "      <td>53738.008339</td>\n",
       "      <td>8078.132315</td>\n",
       "      <td>66.268796</td>\n",
       "      <td>152.502405</td>\n",
       "    </tr>\n",
       "    <tr>\n",
       "      <th>3</th>\n",
       "      <td>55128.180903</td>\n",
       "      <td>12692.670403</td>\n",
       "      <td>62.910559</td>\n",
       "      <td>149.218189</td>\n",
       "    </tr>\n",
       "    <tr>\n",
       "      <th>4</th>\n",
       "      <td>44482.794867</td>\n",
       "      <td>9812.975746</td>\n",
       "      <td>68.678295</td>\n",
       "      <td>152.726358</td>\n",
       "    </tr>\n",
       "  </tbody>\n",
       "</table>\n",
       "</div>"
      ],
      "text/plain": [
       "              0             1          2           3\n",
       "0  52655.605507   9279.509829  64.568138  152.920634\n",
       "1  70586.979225   9451.016902  65.727648  159.534414\n",
       "2  53738.008339   8078.132315  66.268796  152.502405\n",
       "3  55128.180903  12692.670403  62.910559  149.218189\n",
       "4  44482.794867   9812.975746  68.678295  152.726358"
      ]
     },
     "execution_count": 2,
     "metadata": {},
     "output_type": "execute_result"
    }
   ],
   "source": [
    "# read in my data of BestIncome.txt\n",
    "BestIncome = pd.read_csv(\"BestIncome.txt\", header=None)\n",
    "BestIncome.head()"
   ]
  },
  {
   "cell_type": "code",
   "execution_count": 3,
   "metadata": {},
   "outputs": [
    {
     "data": {
      "text/html": [
       "<div>\n",
       "<style scoped>\n",
       "    .dataframe tbody tr th:only-of-type {\n",
       "        vertical-align: middle;\n",
       "    }\n",
       "\n",
       "    .dataframe tbody tr th {\n",
       "        vertical-align: top;\n",
       "    }\n",
       "\n",
       "    .dataframe thead th {\n",
       "        text-align: right;\n",
       "    }\n",
       "</style>\n",
       "<table border=\"1\" class=\"dataframe\">\n",
       "  <thead>\n",
       "    <tr style=\"text-align: right;\">\n",
       "      <th></th>\n",
       "      <th>lab_inc</th>\n",
       "      <th>cap_inc</th>\n",
       "      <th>hgt</th>\n",
       "      <th>wgt</th>\n",
       "    </tr>\n",
       "  </thead>\n",
       "  <tbody>\n",
       "    <tr>\n",
       "      <th>0</th>\n",
       "      <td>52655.605507</td>\n",
       "      <td>9279.509829</td>\n",
       "      <td>64.568138</td>\n",
       "      <td>152.920634</td>\n",
       "    </tr>\n",
       "    <tr>\n",
       "      <th>1</th>\n",
       "      <td>70586.979225</td>\n",
       "      <td>9451.016902</td>\n",
       "      <td>65.727648</td>\n",
       "      <td>159.534414</td>\n",
       "    </tr>\n",
       "    <tr>\n",
       "      <th>2</th>\n",
       "      <td>53738.008339</td>\n",
       "      <td>8078.132315</td>\n",
       "      <td>66.268796</td>\n",
       "      <td>152.502405</td>\n",
       "    </tr>\n",
       "    <tr>\n",
       "      <th>3</th>\n",
       "      <td>55128.180903</td>\n",
       "      <td>12692.670403</td>\n",
       "      <td>62.910559</td>\n",
       "      <td>149.218189</td>\n",
       "    </tr>\n",
       "    <tr>\n",
       "      <th>4</th>\n",
       "      <td>44482.794867</td>\n",
       "      <td>9812.975746</td>\n",
       "      <td>68.678295</td>\n",
       "      <td>152.726358</td>\n",
       "    </tr>\n",
       "  </tbody>\n",
       "</table>\n",
       "</div>"
      ],
      "text/plain": [
       "        lab_inc       cap_inc        hgt         wgt\n",
       "0  52655.605507   9279.509829  64.568138  152.920634\n",
       "1  70586.979225   9451.016902  65.727648  159.534414\n",
       "2  53738.008339   8078.132315  66.268796  152.502405\n",
       "3  55128.180903  12692.670403  62.910559  149.218189\n",
       "4  44482.794867   9812.975746  68.678295  152.726358"
      ]
     },
     "execution_count": 3,
     "metadata": {},
     "output_type": "execute_result"
    }
   ],
   "source": [
    "# name my variables of BestIncome.txt\n",
    "BestIncome_cols = ['lab_inc','cap_inc','hgt','wgt']\n",
    "BestIncome.columns = BestIncome_cols\n",
    "BestIncome.head()"
   ]
  },
  {
   "cell_type": "code",
   "execution_count": 4,
   "metadata": {},
   "outputs": [
    {
     "data": {
      "text/html": [
       "<div>\n",
       "<style scoped>\n",
       "    .dataframe tbody tr th:only-of-type {\n",
       "        vertical-align: middle;\n",
       "    }\n",
       "\n",
       "    .dataframe tbody tr th {\n",
       "        vertical-align: top;\n",
       "    }\n",
       "\n",
       "    .dataframe thead th {\n",
       "        text-align: right;\n",
       "    }\n",
       "</style>\n",
       "<table border=\"1\" class=\"dataframe\">\n",
       "  <thead>\n",
       "    <tr style=\"text-align: right;\">\n",
       "      <th></th>\n",
       "      <th>lab_inc</th>\n",
       "      <th>cap_inc</th>\n",
       "      <th>hgt</th>\n",
       "      <th>wgt</th>\n",
       "    </tr>\n",
       "  </thead>\n",
       "  <tbody>\n",
       "    <tr>\n",
       "      <th>count</th>\n",
       "      <td>10000.000000</td>\n",
       "      <td>10000.000000</td>\n",
       "      <td>10000.000000</td>\n",
       "      <td>10000.000000</td>\n",
       "    </tr>\n",
       "    <tr>\n",
       "      <th>mean</th>\n",
       "      <td>57052.925133</td>\n",
       "      <td>9985.798563</td>\n",
       "      <td>65.014021</td>\n",
       "      <td>150.006011</td>\n",
       "    </tr>\n",
       "    <tr>\n",
       "      <th>std</th>\n",
       "      <td>8036.544363</td>\n",
       "      <td>2010.123691</td>\n",
       "      <td>1.999692</td>\n",
       "      <td>9.973001</td>\n",
       "    </tr>\n",
       "    <tr>\n",
       "      <th>min</th>\n",
       "      <td>22917.607900</td>\n",
       "      <td>1495.191896</td>\n",
       "      <td>58.176154</td>\n",
       "      <td>114.510700</td>\n",
       "    </tr>\n",
       "    <tr>\n",
       "      <th>25%</th>\n",
       "      <td>51624.339880</td>\n",
       "      <td>8611.756679</td>\n",
       "      <td>63.652971</td>\n",
       "      <td>143.341979</td>\n",
       "    </tr>\n",
       "    <tr>\n",
       "      <th>50%</th>\n",
       "      <td>56968.709935</td>\n",
       "      <td>9969.840117</td>\n",
       "      <td>65.003557</td>\n",
       "      <td>149.947641</td>\n",
       "    </tr>\n",
       "    <tr>\n",
       "      <th>75%</th>\n",
       "      <td>62408.232277</td>\n",
       "      <td>11339.905773</td>\n",
       "      <td>66.356915</td>\n",
       "      <td>156.724586</td>\n",
       "    </tr>\n",
       "    <tr>\n",
       "      <th>max</th>\n",
       "      <td>90059.898537</td>\n",
       "      <td>19882.320069</td>\n",
       "      <td>72.802277</td>\n",
       "      <td>185.408280</td>\n",
       "    </tr>\n",
       "  </tbody>\n",
       "</table>\n",
       "</div>"
      ],
      "text/plain": [
       "            lab_inc       cap_inc           hgt           wgt\n",
       "count  10000.000000  10000.000000  10000.000000  10000.000000\n",
       "mean   57052.925133   9985.798563     65.014021    150.006011\n",
       "std     8036.544363   2010.123691      1.999692      9.973001\n",
       "min    22917.607900   1495.191896     58.176154    114.510700\n",
       "25%    51624.339880   8611.756679     63.652971    143.341979\n",
       "50%    56968.709935   9969.840117     65.003557    149.947641\n",
       "75%    62408.232277  11339.905773     66.356915    156.724586\n",
       "max    90059.898537  19882.320069     72.802277    185.408280"
      ]
     },
     "execution_count": 4,
     "metadata": {},
     "output_type": "execute_result"
    }
   ],
   "source": [
    "# run descriptive statistics of BestIncome.txt\n",
    "BestIncome.describe()"
   ]
  },
  {
   "cell_type": "code",
   "execution_count": 5,
   "metadata": {},
   "outputs": [
    {
     "data": {
      "text/html": [
       "<div>\n",
       "<style scoped>\n",
       "    .dataframe tbody tr th:only-of-type {\n",
       "        vertical-align: middle;\n",
       "    }\n",
       "\n",
       "    .dataframe tbody tr th {\n",
       "        vertical-align: top;\n",
       "    }\n",
       "\n",
       "    .dataframe thead th {\n",
       "        text-align: right;\n",
       "    }\n",
       "</style>\n",
       "<table border=\"1\" class=\"dataframe\">\n",
       "  <thead>\n",
       "    <tr style=\"text-align: right;\">\n",
       "      <th></th>\n",
       "      <th>0</th>\n",
       "      <th>1</th>\n",
       "      <th>2</th>\n",
       "      <th>3</th>\n",
       "    </tr>\n",
       "  </thead>\n",
       "  <tbody>\n",
       "    <tr>\n",
       "      <th>0</th>\n",
       "      <td>63642.513655</td>\n",
       "      <td>134.998269</td>\n",
       "      <td>46.610021</td>\n",
       "      <td>1.0</td>\n",
       "    </tr>\n",
       "    <tr>\n",
       "      <th>1</th>\n",
       "      <td>49177.380692</td>\n",
       "      <td>134.392957</td>\n",
       "      <td>48.791349</td>\n",
       "      <td>1.0</td>\n",
       "    </tr>\n",
       "    <tr>\n",
       "      <th>2</th>\n",
       "      <td>67833.339128</td>\n",
       "      <td>126.482992</td>\n",
       "      <td>48.429894</td>\n",
       "      <td>1.0</td>\n",
       "    </tr>\n",
       "    <tr>\n",
       "      <th>3</th>\n",
       "      <td>62962.266217</td>\n",
       "      <td>128.038121</td>\n",
       "      <td>41.543926</td>\n",
       "      <td>1.0</td>\n",
       "    </tr>\n",
       "    <tr>\n",
       "      <th>4</th>\n",
       "      <td>58716.952597</td>\n",
       "      <td>126.211980</td>\n",
       "      <td>41.201245</td>\n",
       "      <td>1.0</td>\n",
       "    </tr>\n",
       "  </tbody>\n",
       "</table>\n",
       "</div>"
      ],
      "text/plain": [
       "              0           1          2    3\n",
       "0  63642.513655  134.998269  46.610021  1.0\n",
       "1  49177.380692  134.392957  48.791349  1.0\n",
       "2  67833.339128  126.482992  48.429894  1.0\n",
       "3  62962.266217  128.038121  41.543926  1.0\n",
       "4  58716.952597  126.211980  41.201245  1.0"
      ]
     },
     "execution_count": 5,
     "metadata": {},
     "output_type": "execute_result"
    }
   ],
   "source": [
    "# read in my data of SurveyIncome.txt\n",
    "SurveyIncome = pd.read_csv(\"SurveyIncome.txt\", header=None)\n",
    "SurveyIncome.head()"
   ]
  },
  {
   "cell_type": "code",
   "execution_count": 6,
   "metadata": {},
   "outputs": [
    {
     "data": {
      "text/html": [
       "<div>\n",
       "<style scoped>\n",
       "    .dataframe tbody tr th:only-of-type {\n",
       "        vertical-align: middle;\n",
       "    }\n",
       "\n",
       "    .dataframe tbody tr th {\n",
       "        vertical-align: top;\n",
       "    }\n",
       "\n",
       "    .dataframe thead th {\n",
       "        text-align: right;\n",
       "    }\n",
       "</style>\n",
       "<table border=\"1\" class=\"dataframe\">\n",
       "  <thead>\n",
       "    <tr style=\"text-align: right;\">\n",
       "      <th></th>\n",
       "      <th>tot_inc</th>\n",
       "      <th>wgt</th>\n",
       "      <th>age</th>\n",
       "      <th>female</th>\n",
       "    </tr>\n",
       "  </thead>\n",
       "  <tbody>\n",
       "    <tr>\n",
       "      <th>0</th>\n",
       "      <td>63642.513655</td>\n",
       "      <td>134.998269</td>\n",
       "      <td>46.610021</td>\n",
       "      <td>1.0</td>\n",
       "    </tr>\n",
       "    <tr>\n",
       "      <th>1</th>\n",
       "      <td>49177.380692</td>\n",
       "      <td>134.392957</td>\n",
       "      <td>48.791349</td>\n",
       "      <td>1.0</td>\n",
       "    </tr>\n",
       "    <tr>\n",
       "      <th>2</th>\n",
       "      <td>67833.339128</td>\n",
       "      <td>126.482992</td>\n",
       "      <td>48.429894</td>\n",
       "      <td>1.0</td>\n",
       "    </tr>\n",
       "    <tr>\n",
       "      <th>3</th>\n",
       "      <td>62962.266217</td>\n",
       "      <td>128.038121</td>\n",
       "      <td>41.543926</td>\n",
       "      <td>1.0</td>\n",
       "    </tr>\n",
       "    <tr>\n",
       "      <th>4</th>\n",
       "      <td>58716.952597</td>\n",
       "      <td>126.211980</td>\n",
       "      <td>41.201245</td>\n",
       "      <td>1.0</td>\n",
       "    </tr>\n",
       "  </tbody>\n",
       "</table>\n",
       "</div>"
      ],
      "text/plain": [
       "        tot_inc         wgt        age  female\n",
       "0  63642.513655  134.998269  46.610021     1.0\n",
       "1  49177.380692  134.392957  48.791349     1.0\n",
       "2  67833.339128  126.482992  48.429894     1.0\n",
       "3  62962.266217  128.038121  41.543926     1.0\n",
       "4  58716.952597  126.211980  41.201245     1.0"
      ]
     },
     "execution_count": 6,
     "metadata": {},
     "output_type": "execute_result"
    }
   ],
   "source": [
    "# name my variables of SurveyIncome.txt\n",
    "SurveyIncome_cols = ['tot_inc','wgt','age','female']\n",
    "SurveyIncome.columns = SurveyIncome_cols\n",
    "SurveyIncome.head()"
   ]
  },
  {
   "cell_type": "code",
   "execution_count": 7,
   "metadata": {
    "scrolled": true
   },
   "outputs": [
    {
     "data": {
      "text/html": [
       "<div>\n",
       "<style scoped>\n",
       "    .dataframe tbody tr th:only-of-type {\n",
       "        vertical-align: middle;\n",
       "    }\n",
       "\n",
       "    .dataframe tbody tr th {\n",
       "        vertical-align: top;\n",
       "    }\n",
       "\n",
       "    .dataframe thead th {\n",
       "        text-align: right;\n",
       "    }\n",
       "</style>\n",
       "<table border=\"1\" class=\"dataframe\">\n",
       "  <thead>\n",
       "    <tr style=\"text-align: right;\">\n",
       "      <th></th>\n",
       "      <th>tot_inc</th>\n",
       "      <th>wgt</th>\n",
       "      <th>age</th>\n",
       "      <th>female</th>\n",
       "    </tr>\n",
       "  </thead>\n",
       "  <tbody>\n",
       "    <tr>\n",
       "      <th>count</th>\n",
       "      <td>1000.000000</td>\n",
       "      <td>1000.000000</td>\n",
       "      <td>1000.000000</td>\n",
       "      <td>1000.00000</td>\n",
       "    </tr>\n",
       "    <tr>\n",
       "      <th>mean</th>\n",
       "      <td>64871.210860</td>\n",
       "      <td>149.542181</td>\n",
       "      <td>44.839320</td>\n",
       "      <td>0.50000</td>\n",
       "    </tr>\n",
       "    <tr>\n",
       "      <th>std</th>\n",
       "      <td>9542.444214</td>\n",
       "      <td>22.028883</td>\n",
       "      <td>5.939185</td>\n",
       "      <td>0.50025</td>\n",
       "    </tr>\n",
       "    <tr>\n",
       "      <th>min</th>\n",
       "      <td>31816.281649</td>\n",
       "      <td>99.662468</td>\n",
       "      <td>25.741333</td>\n",
       "      <td>0.00000</td>\n",
       "    </tr>\n",
       "    <tr>\n",
       "      <th>25%</th>\n",
       "      <td>58349.862384</td>\n",
       "      <td>130.179235</td>\n",
       "      <td>41.025231</td>\n",
       "      <td>0.00000</td>\n",
       "    </tr>\n",
       "    <tr>\n",
       "      <th>50%</th>\n",
       "      <td>65281.271149</td>\n",
       "      <td>149.758434</td>\n",
       "      <td>44.955981</td>\n",
       "      <td>0.50000</td>\n",
       "    </tr>\n",
       "    <tr>\n",
       "      <th>75%</th>\n",
       "      <td>71749.038000</td>\n",
       "      <td>170.147337</td>\n",
       "      <td>48.817644</td>\n",
       "      <td>1.00000</td>\n",
       "    </tr>\n",
       "    <tr>\n",
       "      <th>max</th>\n",
       "      <td>92556.135462</td>\n",
       "      <td>196.503274</td>\n",
       "      <td>66.534646</td>\n",
       "      <td>1.00000</td>\n",
       "    </tr>\n",
       "  </tbody>\n",
       "</table>\n",
       "</div>"
      ],
      "text/plain": [
       "            tot_inc          wgt          age      female\n",
       "count   1000.000000  1000.000000  1000.000000  1000.00000\n",
       "mean   64871.210860   149.542181    44.839320     0.50000\n",
       "std     9542.444214    22.028883     5.939185     0.50025\n",
       "min    31816.281649    99.662468    25.741333     0.00000\n",
       "25%    58349.862384   130.179235    41.025231     0.00000\n",
       "50%    65281.271149   149.758434    44.955981     0.50000\n",
       "75%    71749.038000   170.147337    48.817644     1.00000\n",
       "max    92556.135462   196.503274    66.534646     1.00000"
      ]
     },
     "execution_count": 7,
     "metadata": {},
     "output_type": "execute_result"
    }
   ],
   "source": [
    "# run descriptive statistics of SurveyIncome.txt\n",
    "SurveyIncome.describe()"
   ]
  },
  {
   "cell_type": "markdown",
   "metadata": {},
   "source": [
    "#### (b) Here is where I'll use my proposed method from part (a) to impute age."
   ]
  },
  {
   "cell_type": "code",
   "execution_count": 8,
   "metadata": {},
   "outputs": [],
   "source": [
    "# Define Outcome and Independent Variables\n",
    "outcome = 'age'\n",
    "features = ['tot_inc','wgt']\n",
    "\n",
    "X,y = SurveyIncome[features], SurveyIncome[outcome]"
   ]
  },
  {
   "cell_type": "code",
   "execution_count": 9,
   "metadata": {},
   "outputs": [
    {
     "data": {
      "text/html": [
       "<div>\n",
       "<style scoped>\n",
       "    .dataframe tbody tr th:only-of-type {\n",
       "        vertical-align: middle;\n",
       "    }\n",
       "\n",
       "    .dataframe tbody tr th {\n",
       "        vertical-align: top;\n",
       "    }\n",
       "\n",
       "    .dataframe thead th {\n",
       "        text-align: right;\n",
       "    }\n",
       "</style>\n",
       "<table border=\"1\" class=\"dataframe\">\n",
       "  <thead>\n",
       "    <tr style=\"text-align: right;\">\n",
       "      <th></th>\n",
       "      <th>tot_inc</th>\n",
       "      <th>wgt</th>\n",
       "    </tr>\n",
       "  </thead>\n",
       "  <tbody>\n",
       "    <tr>\n",
       "      <th>0</th>\n",
       "      <td>63642.513655</td>\n",
       "      <td>134.998269</td>\n",
       "    </tr>\n",
       "    <tr>\n",
       "      <th>1</th>\n",
       "      <td>49177.380692</td>\n",
       "      <td>134.392957</td>\n",
       "    </tr>\n",
       "    <tr>\n",
       "      <th>2</th>\n",
       "      <td>67833.339128</td>\n",
       "      <td>126.482992</td>\n",
       "    </tr>\n",
       "    <tr>\n",
       "      <th>3</th>\n",
       "      <td>62962.266217</td>\n",
       "      <td>128.038121</td>\n",
       "    </tr>\n",
       "    <tr>\n",
       "      <th>4</th>\n",
       "      <td>58716.952597</td>\n",
       "      <td>126.211980</td>\n",
       "    </tr>\n",
       "  </tbody>\n",
       "</table>\n",
       "</div>"
      ],
      "text/plain": [
       "        tot_inc         wgt\n",
       "0  63642.513655  134.998269\n",
       "1  49177.380692  134.392957\n",
       "2  67833.339128  126.482992\n",
       "3  62962.266217  128.038121\n",
       "4  58716.952597  126.211980"
      ]
     },
     "execution_count": 9,
     "metadata": {},
     "output_type": "execute_result"
    }
   ],
   "source": [
    "X.head()"
   ]
  },
  {
   "cell_type": "code",
   "execution_count": 10,
   "metadata": {},
   "outputs": [
    {
     "data": {
      "text/plain": [
       "0    46.610021\n",
       "1    48.791349\n",
       "2    48.429894\n",
       "3    41.543926\n",
       "4    41.201245\n",
       "Name: age, dtype: float64"
      ]
     },
     "execution_count": 10,
     "metadata": {},
     "output_type": "execute_result"
    }
   ],
   "source": [
    "y.head()"
   ]
  },
  {
   "cell_type": "code",
   "execution_count": 11,
   "metadata": {},
   "outputs": [
    {
     "name": "stdout",
     "output_type": "stream",
     "text": [
      "                            OLS Regression Results                            \n",
      "==============================================================================\n",
      "Dep. Variable:                    age   R-squared:                       0.001\n",
      "Model:                            OLS   Adj. R-squared:                 -0.001\n",
      "Method:                 Least Squares   F-statistic:                    0.6326\n",
      "Date:                Tue, 16 Oct 2018   Prob (F-statistic):              0.531\n",
      "Time:                        11:48:30   Log-Likelihood:                -3199.4\n",
      "No. Observations:                1000   AIC:                             6405.\n",
      "Df Residuals:                     997   BIC:                             6419.\n",
      "Df Model:                           2                                         \n",
      "Covariance Type:            nonrobust                                         \n",
      "==============================================================================\n",
      "                 coef    std err          t      P>|t|      [0.025      0.975]\n",
      "------------------------------------------------------------------------------\n",
      "tot_inc      2.52e-05   2.26e-05      1.114      0.266   -1.92e-05    6.96e-05\n",
      "wgt           -0.0067      0.010     -0.686      0.493      -0.026       0.013\n",
      "const         44.2097      1.490     29.666      0.000      41.285      47.134\n",
      "==============================================================================\n",
      "Omnibus:                        2.460   Durbin-Watson:                   1.921\n",
      "Prob(Omnibus):                  0.292   Jarque-Bera (JB):                2.322\n",
      "Skew:                          -0.109   Prob(JB):                        0.313\n",
      "Kurtosis:                       3.092   Cond. No.                     5.20e+05\n",
      "==============================================================================\n",
      "\n",
      "Warnings:\n",
      "[1] Standard Errors assume that the covariance matrix of the errors is correctly specified.\n",
      "[2] The condition number is large, 5.2e+05. This might indicate that there are\n",
      "strong multicollinearity or other numerical problems.\n"
     ]
    }
   ],
   "source": [
    "# run regression\n",
    "\n",
    "X = sm.add_constant(X, prepend=False)\n",
    "\n",
    "m = sm.OLS(y, X)\n",
    "\n",
    "res = m.fit()\n",
    "print(res.summary())"
   ]
  },
  {
   "cell_type": "markdown",
   "metadata": {},
   "source": [
    "I obtained the following linear regression equation:\n",
    "$$age = 44.2097 + 0.0000252 tot\\underline{ }inc - 0.0067wgt$$\n",
    "\n",
    "Then, I will predict age in BestIncome.txt:"
   ]
  },
  {
   "cell_type": "code",
   "execution_count": 12,
   "metadata": {},
   "outputs": [],
   "source": [
    "# get total income by adding labor income and capital income toghether\n",
    "BestIncome['tot_inc'] = BestIncome['lab_inc'] + BestIncome['cap_inc']"
   ]
  },
  {
   "cell_type": "code",
   "execution_count": 13,
   "metadata": {},
   "outputs": [
    {
     "data": {
      "text/html": [
       "<div>\n",
       "<style scoped>\n",
       "    .dataframe tbody tr th:only-of-type {\n",
       "        vertical-align: middle;\n",
       "    }\n",
       "\n",
       "    .dataframe tbody tr th {\n",
       "        vertical-align: top;\n",
       "    }\n",
       "\n",
       "    .dataframe thead th {\n",
       "        text-align: right;\n",
       "    }\n",
       "</style>\n",
       "<table border=\"1\" class=\"dataframe\">\n",
       "  <thead>\n",
       "    <tr style=\"text-align: right;\">\n",
       "      <th></th>\n",
       "      <th>lab_inc</th>\n",
       "      <th>cap_inc</th>\n",
       "      <th>hgt</th>\n",
       "      <th>wgt</th>\n",
       "      <th>tot_inc</th>\n",
       "      <th>age</th>\n",
       "    </tr>\n",
       "  </thead>\n",
       "  <tbody>\n",
       "    <tr>\n",
       "      <th>0</th>\n",
       "      <td>52655.605507</td>\n",
       "      <td>9279.509829</td>\n",
       "      <td>64.568138</td>\n",
       "      <td>152.920634</td>\n",
       "      <td>61935.115336</td>\n",
       "      <td>44.742614</td>\n",
       "    </tr>\n",
       "    <tr>\n",
       "      <th>1</th>\n",
       "      <td>70586.979225</td>\n",
       "      <td>9451.016902</td>\n",
       "      <td>65.727648</td>\n",
       "      <td>159.534414</td>\n",
       "      <td>80037.996127</td>\n",
       "      <td>45.154387</td>\n",
       "    </tr>\n",
       "    <tr>\n",
       "      <th>2</th>\n",
       "      <td>53738.008339</td>\n",
       "      <td>8078.132315</td>\n",
       "      <td>66.268796</td>\n",
       "      <td>152.502405</td>\n",
       "      <td>61816.140654</td>\n",
       "      <td>44.742427</td>\n",
       "    </tr>\n",
       "    <tr>\n",
       "      <th>3</th>\n",
       "      <td>55128.180903</td>\n",
       "      <td>12692.670403</td>\n",
       "      <td>62.910559</td>\n",
       "      <td>149.218189</td>\n",
       "      <td>67820.851305</td>\n",
       "      <td>44.915836</td>\n",
       "    </tr>\n",
       "    <tr>\n",
       "      <th>4</th>\n",
       "      <td>44482.794867</td>\n",
       "      <td>9812.975746</td>\n",
       "      <td>68.678295</td>\n",
       "      <td>152.726358</td>\n",
       "      <td>54295.770612</td>\n",
       "      <td>44.551391</td>\n",
       "    </tr>\n",
       "  </tbody>\n",
       "</table>\n",
       "</div>"
      ],
      "text/plain": [
       "        lab_inc       cap_inc        hgt         wgt       tot_inc        age\n",
       "0  52655.605507   9279.509829  64.568138  152.920634  61935.115336  44.742614\n",
       "1  70586.979225   9451.016902  65.727648  159.534414  80037.996127  45.154387\n",
       "2  53738.008339   8078.132315  66.268796  152.502405  61816.140654  44.742427\n",
       "3  55128.180903  12692.670403  62.910559  149.218189  67820.851305  44.915836\n",
       "4  44482.794867   9812.975746  68.678295  152.726358  54295.770612  44.551391"
      ]
     },
     "execution_count": 13,
     "metadata": {},
     "output_type": "execute_result"
    }
   ],
   "source": [
    "# predit age\n",
    "X = BestIncome[features]\n",
    "X = sm.add_constant(X, prepend = False)\n",
    "BestIncome['age'] = res.predict(X)\n",
    "BestIncome.head()"
   ]
  },
  {
   "cell_type": "markdown",
   "metadata": {},
   "source": [
    "Here is where I'll use my proposed method from part (a) to impute gender."
   ]
  },
  {
   "cell_type": "code",
   "execution_count": 14,
   "metadata": {},
   "outputs": [],
   "source": [
    "# Define Outcome and Independent Variables\n",
    "outcome = 'female'\n",
    "features = ['tot_inc','wgt']\n",
    "\n",
    "X,y = SurveyIncome[features], SurveyIncome[outcome]"
   ]
  },
  {
   "cell_type": "code",
   "execution_count": 15,
   "metadata": {},
   "outputs": [
    {
     "data": {
      "text/html": [
       "<div>\n",
       "<style scoped>\n",
       "    .dataframe tbody tr th:only-of-type {\n",
       "        vertical-align: middle;\n",
       "    }\n",
       "\n",
       "    .dataframe tbody tr th {\n",
       "        vertical-align: top;\n",
       "    }\n",
       "\n",
       "    .dataframe thead th {\n",
       "        text-align: right;\n",
       "    }\n",
       "</style>\n",
       "<table border=\"1\" class=\"dataframe\">\n",
       "  <thead>\n",
       "    <tr style=\"text-align: right;\">\n",
       "      <th></th>\n",
       "      <th>tot_inc</th>\n",
       "      <th>wgt</th>\n",
       "    </tr>\n",
       "  </thead>\n",
       "  <tbody>\n",
       "    <tr>\n",
       "      <th>0</th>\n",
       "      <td>63642.513655</td>\n",
       "      <td>134.998269</td>\n",
       "    </tr>\n",
       "    <tr>\n",
       "      <th>1</th>\n",
       "      <td>49177.380692</td>\n",
       "      <td>134.392957</td>\n",
       "    </tr>\n",
       "    <tr>\n",
       "      <th>2</th>\n",
       "      <td>67833.339128</td>\n",
       "      <td>126.482992</td>\n",
       "    </tr>\n",
       "    <tr>\n",
       "      <th>3</th>\n",
       "      <td>62962.266217</td>\n",
       "      <td>128.038121</td>\n",
       "    </tr>\n",
       "    <tr>\n",
       "      <th>4</th>\n",
       "      <td>58716.952597</td>\n",
       "      <td>126.211980</td>\n",
       "    </tr>\n",
       "  </tbody>\n",
       "</table>\n",
       "</div>"
      ],
      "text/plain": [
       "        tot_inc         wgt\n",
       "0  63642.513655  134.998269\n",
       "1  49177.380692  134.392957\n",
       "2  67833.339128  126.482992\n",
       "3  62962.266217  128.038121\n",
       "4  58716.952597  126.211980"
      ]
     },
     "execution_count": 15,
     "metadata": {},
     "output_type": "execute_result"
    }
   ],
   "source": [
    "X.head()"
   ]
  },
  {
   "cell_type": "code",
   "execution_count": 16,
   "metadata": {},
   "outputs": [
    {
     "data": {
      "text/plain": [
       "0    1.0\n",
       "1    1.0\n",
       "2    1.0\n",
       "3    1.0\n",
       "4    1.0\n",
       "Name: female, dtype: float64"
      ]
     },
     "execution_count": 16,
     "metadata": {},
     "output_type": "execute_result"
    }
   ],
   "source": [
    "y.head()"
   ]
  },
  {
   "cell_type": "code",
   "execution_count": 17,
   "metadata": {},
   "outputs": [
    {
     "name": "stdout",
     "output_type": "stream",
     "text": [
      "Optimization terminated successfully.\n",
      "         Current function value: 0.036050\n",
      "         Iterations 11\n",
      "                           Logit Regression Results                           \n",
      "==============================================================================\n",
      "Dep. Variable:                 female   No. Observations:                 1000\n",
      "Model:                          Logit   Df Residuals:                      997\n",
      "Method:                           MLE   Df Model:                            2\n",
      "Date:                Tue, 16 Oct 2018   Pseudo R-squ.:                  0.9480\n",
      "Time:                        11:48:31   Log-Likelihood:                -36.050\n",
      "converged:                       True   LL-Null:                       -693.15\n",
      "                                        LLR p-value:                4.232e-286\n",
      "==============================================================================\n",
      "                 coef    std err          z      P>|z|      [0.025      0.975]\n",
      "------------------------------------------------------------------------------\n",
      "tot_inc       -0.0002   4.25e-05     -3.660      0.000      -0.000   -7.22e-05\n",
      "wgt           -0.4460      0.062     -7.219      0.000      -0.567      -0.325\n",
      "const         76.7929     10.569      7.266      0.000      56.078      97.508\n",
      "==============================================================================\n",
      "\n",
      "Possibly complete quasi-separation: A fraction 0.55 of observations can be\n",
      "perfectly predicted. This might indicate that there is complete\n",
      "quasi-separation. In this case some parameters will not be identified.\n"
     ]
    }
   ],
   "source": [
    "# run regression\n",
    "\n",
    "X = sm.add_constant(X, prepend=False)\n",
    "\n",
    "m = sm.Logit(y, X)\n",
    "\n",
    "res = m.fit()\n",
    "print(res.summary())"
   ]
  },
  {
   "cell_type": "markdown",
   "metadata": {},
   "source": [
    "I obtained the following logit regression equation:\n",
    "$$logit(female) = 76.7929 - 0.0002 \\times tot\\underline{ }inc - 0.4460 \\times wgt$$\n",
    "\n",
    "Then, I will predict gender in BestIncome.txt:"
   ]
  },
  {
   "cell_type": "code",
   "execution_count": 18,
   "metadata": {},
   "outputs": [
    {
     "data": {
      "text/html": [
       "<div>\n",
       "<style scoped>\n",
       "    .dataframe tbody tr th:only-of-type {\n",
       "        vertical-align: middle;\n",
       "    }\n",
       "\n",
       "    .dataframe tbody tr th {\n",
       "        vertical-align: top;\n",
       "    }\n",
       "\n",
       "    .dataframe thead th {\n",
       "        text-align: right;\n",
       "    }\n",
       "</style>\n",
       "<table border=\"1\" class=\"dataframe\">\n",
       "  <thead>\n",
       "    <tr style=\"text-align: right;\">\n",
       "      <th></th>\n",
       "      <th>lab_inc</th>\n",
       "      <th>cap_inc</th>\n",
       "      <th>hgt</th>\n",
       "      <th>wgt</th>\n",
       "      <th>tot_inc</th>\n",
       "      <th>age</th>\n",
       "      <th>gender</th>\n",
       "    </tr>\n",
       "  </thead>\n",
       "  <tbody>\n",
       "    <tr>\n",
       "      <th>0</th>\n",
       "      <td>52655.605507</td>\n",
       "      <td>9279.509829</td>\n",
       "      <td>64.568138</td>\n",
       "      <td>152.920634</td>\n",
       "      <td>61935.115336</td>\n",
       "      <td>44.742614</td>\n",
       "      <td>0.0</td>\n",
       "    </tr>\n",
       "    <tr>\n",
       "      <th>1</th>\n",
       "      <td>70586.979225</td>\n",
       "      <td>9451.016902</td>\n",
       "      <td>65.727648</td>\n",
       "      <td>159.534414</td>\n",
       "      <td>80037.996127</td>\n",
       "      <td>45.154387</td>\n",
       "      <td>0.0</td>\n",
       "    </tr>\n",
       "    <tr>\n",
       "      <th>2</th>\n",
       "      <td>53738.008339</td>\n",
       "      <td>8078.132315</td>\n",
       "      <td>66.268796</td>\n",
       "      <td>152.502405</td>\n",
       "      <td>61816.140654</td>\n",
       "      <td>44.742427</td>\n",
       "      <td>0.0</td>\n",
       "    </tr>\n",
       "    <tr>\n",
       "      <th>3</th>\n",
       "      <td>55128.180903</td>\n",
       "      <td>12692.670403</td>\n",
       "      <td>62.910559</td>\n",
       "      <td>149.218189</td>\n",
       "      <td>67820.851305</td>\n",
       "      <td>44.915836</td>\n",
       "      <td>0.0</td>\n",
       "    </tr>\n",
       "    <tr>\n",
       "      <th>4</th>\n",
       "      <td>44482.794867</td>\n",
       "      <td>9812.975746</td>\n",
       "      <td>68.678295</td>\n",
       "      <td>152.726358</td>\n",
       "      <td>54295.770612</td>\n",
       "      <td>44.551391</td>\n",
       "      <td>1.0</td>\n",
       "    </tr>\n",
       "  </tbody>\n",
       "</table>\n",
       "</div>"
      ],
      "text/plain": [
       "        lab_inc       cap_inc        hgt         wgt       tot_inc        age  \\\n",
       "0  52655.605507   9279.509829  64.568138  152.920634  61935.115336  44.742614   \n",
       "1  70586.979225   9451.016902  65.727648  159.534414  80037.996127  45.154387   \n",
       "2  53738.008339   8078.132315  66.268796  152.502405  61816.140654  44.742427   \n",
       "3  55128.180903  12692.670403  62.910559  149.218189  67820.851305  44.915836   \n",
       "4  44482.794867   9812.975746  68.678295  152.726358  54295.770612  44.551391   \n",
       "\n",
       "   gender  \n",
       "0     0.0  \n",
       "1     0.0  \n",
       "2     0.0  \n",
       "3     0.0  \n",
       "4     1.0  "
      ]
     },
     "execution_count": 18,
     "metadata": {},
     "output_type": "execute_result"
    }
   ],
   "source": [
    "# predict gender\n",
    "X = BestIncome[features]\n",
    "X = sm.add_constant(X, prepend = False)\n",
    "BestIncome['gender'] = res.predict(X)\n",
    "BestIncome['gender'][BestIncome['gender'] >= 0.5] = 1\n",
    "BestIncome['gender'][BestIncome['gender'] < 0.5] = 0\n",
    "BestIncome.head()"
   ]
  },
  {
   "cell_type": "code",
   "execution_count": 19,
   "metadata": {},
   "outputs": [
    {
     "data": {
      "text/html": [
       "<div>\n",
       "<style scoped>\n",
       "    .dataframe tbody tr th:only-of-type {\n",
       "        vertical-align: middle;\n",
       "    }\n",
       "\n",
       "    .dataframe tbody tr th {\n",
       "        vertical-align: top;\n",
       "    }\n",
       "\n",
       "    .dataframe thead th {\n",
       "        text-align: right;\n",
       "    }\n",
       "</style>\n",
       "<table border=\"1\" class=\"dataframe\">\n",
       "  <thead>\n",
       "    <tr style=\"text-align: right;\">\n",
       "      <th></th>\n",
       "      <th>lab_inc</th>\n",
       "      <th>cap_inc</th>\n",
       "      <th>hgt</th>\n",
       "      <th>wgt</th>\n",
       "      <th>age</th>\n",
       "      <th>gender</th>\n",
       "    </tr>\n",
       "  </thead>\n",
       "  <tbody>\n",
       "    <tr>\n",
       "      <th>0</th>\n",
       "      <td>52655.605507</td>\n",
       "      <td>9279.509829</td>\n",
       "      <td>64.568138</td>\n",
       "      <td>152.920634</td>\n",
       "      <td>44.742614</td>\n",
       "      <td>0.0</td>\n",
       "    </tr>\n",
       "    <tr>\n",
       "      <th>1</th>\n",
       "      <td>70586.979225</td>\n",
       "      <td>9451.016902</td>\n",
       "      <td>65.727648</td>\n",
       "      <td>159.534414</td>\n",
       "      <td>45.154387</td>\n",
       "      <td>0.0</td>\n",
       "    </tr>\n",
       "    <tr>\n",
       "      <th>2</th>\n",
       "      <td>53738.008339</td>\n",
       "      <td>8078.132315</td>\n",
       "      <td>66.268796</td>\n",
       "      <td>152.502405</td>\n",
       "      <td>44.742427</td>\n",
       "      <td>0.0</td>\n",
       "    </tr>\n",
       "    <tr>\n",
       "      <th>3</th>\n",
       "      <td>55128.180903</td>\n",
       "      <td>12692.670403</td>\n",
       "      <td>62.910559</td>\n",
       "      <td>149.218189</td>\n",
       "      <td>44.915836</td>\n",
       "      <td>0.0</td>\n",
       "    </tr>\n",
       "    <tr>\n",
       "      <th>4</th>\n",
       "      <td>44482.794867</td>\n",
       "      <td>9812.975746</td>\n",
       "      <td>68.678295</td>\n",
       "      <td>152.726358</td>\n",
       "      <td>44.551391</td>\n",
       "      <td>1.0</td>\n",
       "    </tr>\n",
       "  </tbody>\n",
       "</table>\n",
       "</div>"
      ],
      "text/plain": [
       "        lab_inc       cap_inc        hgt         wgt        age  gender\n",
       "0  52655.605507   9279.509829  64.568138  152.920634  44.742614     0.0\n",
       "1  70586.979225   9451.016902  65.727648  159.534414  45.154387     0.0\n",
       "2  53738.008339   8078.132315  66.268796  152.502405  44.742427     0.0\n",
       "3  55128.180903  12692.670403  62.910559  149.218189  44.915836     0.0\n",
       "4  44482.794867   9812.975746  68.678295  152.726358  44.551391     1.0"
      ]
     },
     "execution_count": 19,
     "metadata": {},
     "output_type": "execute_result"
    }
   ],
   "source": [
    "# drop total income in BestIncome.txt and obtain the final result\n",
    "BestIncome = BestIncome.drop(columns = \"tot_inc\")\n",
    "BestIncome.head()"
   ]
  },
  {
   "cell_type": "markdown",
   "metadata": {},
   "source": [
    "#### (c) Here is where I'll report the descriptive statistics for my new imputed variables."
   ]
  },
  {
   "cell_type": "code",
   "execution_count": 20,
   "metadata": {},
   "outputs": [
    {
     "data": {
      "text/html": [
       "<div>\n",
       "<style scoped>\n",
       "    .dataframe tbody tr th:only-of-type {\n",
       "        vertical-align: middle;\n",
       "    }\n",
       "\n",
       "    .dataframe tbody tr th {\n",
       "        vertical-align: top;\n",
       "    }\n",
       "\n",
       "    .dataframe thead th {\n",
       "        text-align: right;\n",
       "    }\n",
       "</style>\n",
       "<table border=\"1\" class=\"dataframe\">\n",
       "  <thead>\n",
       "    <tr style=\"text-align: right;\">\n",
       "      <th></th>\n",
       "      <th>age</th>\n",
       "      <th>gender</th>\n",
       "    </tr>\n",
       "  </thead>\n",
       "  <tbody>\n",
       "    <tr>\n",
       "      <th>0</th>\n",
       "      <td>44.742614</td>\n",
       "      <td>0.0</td>\n",
       "    </tr>\n",
       "    <tr>\n",
       "      <th>1</th>\n",
       "      <td>45.154387</td>\n",
       "      <td>0.0</td>\n",
       "    </tr>\n",
       "    <tr>\n",
       "      <th>2</th>\n",
       "      <td>44.742427</td>\n",
       "      <td>0.0</td>\n",
       "    </tr>\n",
       "    <tr>\n",
       "      <th>3</th>\n",
       "      <td>44.915836</td>\n",
       "      <td>0.0</td>\n",
       "    </tr>\n",
       "    <tr>\n",
       "      <th>4</th>\n",
       "      <td>44.551391</td>\n",
       "      <td>1.0</td>\n",
       "    </tr>\n",
       "  </tbody>\n",
       "</table>\n",
       "</div>"
      ],
      "text/plain": [
       "         age  gender\n",
       "0  44.742614     0.0\n",
       "1  45.154387     0.0\n",
       "2  44.742427     0.0\n",
       "3  44.915836     0.0\n",
       "4  44.551391     1.0"
      ]
     },
     "execution_count": 20,
     "metadata": {},
     "output_type": "execute_result"
    }
   ],
   "source": [
    "# select age and gender from BestIncome.txt\n",
    "Imputed = BestIncome[['age', 'gender']]\n",
    "Imputed.head()"
   ]
  },
  {
   "cell_type": "code",
   "execution_count": 21,
   "metadata": {},
   "outputs": [
    {
     "data": {
      "text/html": [
       "<div>\n",
       "<style scoped>\n",
       "    .dataframe tbody tr th:only-of-type {\n",
       "        vertical-align: middle;\n",
       "    }\n",
       "\n",
       "    .dataframe tbody tr th {\n",
       "        vertical-align: top;\n",
       "    }\n",
       "\n",
       "    .dataframe thead th {\n",
       "        text-align: right;\n",
       "    }\n",
       "</style>\n",
       "<table border=\"1\" class=\"dataframe\">\n",
       "  <thead>\n",
       "    <tr style=\"text-align: right;\">\n",
       "      <th></th>\n",
       "      <th>age</th>\n",
       "      <th>gender</th>\n",
       "    </tr>\n",
       "  </thead>\n",
       "  <tbody>\n",
       "    <tr>\n",
       "      <th>count</th>\n",
       "      <td>10000.000000</td>\n",
       "      <td>10000.000000</td>\n",
       "    </tr>\n",
       "    <tr>\n",
       "      <th>mean</th>\n",
       "      <td>44.890828</td>\n",
       "      <td>0.454600</td>\n",
       "    </tr>\n",
       "    <tr>\n",
       "      <th>std</th>\n",
       "      <td>0.219150</td>\n",
       "      <td>0.497959</td>\n",
       "    </tr>\n",
       "    <tr>\n",
       "      <th>min</th>\n",
       "      <td>43.976495</td>\n",
       "      <td>0.000000</td>\n",
       "    </tr>\n",
       "    <tr>\n",
       "      <th>25%</th>\n",
       "      <td>44.743776</td>\n",
       "      <td>0.000000</td>\n",
       "    </tr>\n",
       "    <tr>\n",
       "      <th>50%</th>\n",
       "      <td>44.886944</td>\n",
       "      <td>0.000000</td>\n",
       "    </tr>\n",
       "    <tr>\n",
       "      <th>75%</th>\n",
       "      <td>45.038991</td>\n",
       "      <td>1.000000</td>\n",
       "    </tr>\n",
       "    <tr>\n",
       "      <th>max</th>\n",
       "      <td>45.703819</td>\n",
       "      <td>1.000000</td>\n",
       "    </tr>\n",
       "  </tbody>\n",
       "</table>\n",
       "</div>"
      ],
      "text/plain": [
       "                age        gender\n",
       "count  10000.000000  10000.000000\n",
       "mean      44.890828      0.454600\n",
       "std        0.219150      0.497959\n",
       "min       43.976495      0.000000\n",
       "25%       44.743776      0.000000\n",
       "50%       44.886944      0.000000\n",
       "75%       45.038991      1.000000\n",
       "max       45.703819      1.000000"
      ]
     },
     "execution_count": 21,
     "metadata": {},
     "output_type": "execute_result"
    }
   ],
   "source": [
    "# descriptive statistics of imputed variables\n",
    "Imputed.describe()"
   ]
  },
  {
   "cell_type": "markdown",
   "metadata": {},
   "source": [
    "#### (d) Correlation matrix for the now six variables"
   ]
  },
  {
   "cell_type": "code",
   "execution_count": 22,
   "metadata": {},
   "outputs": [
    {
     "data": {
      "image/png": "[encoded data removed]",
      "text/plain": [
       "<Figure size 432x288 with 2 Axes>"
      ]
     },
     "metadata": {
      "needs_background": "light"
     },
     "output_type": "display_data"
    }
   ],
   "source": [
    "# Correlation Matrix Plot\n",
    "\n",
    "def corr_plot(df):    \n",
    "    names = df.columns\n",
    "    N = len(names)\n",
    "    \n",
    "    correlations = df.corr()\n",
    "    fig = plt.figure()\n",
    "    ax = fig.add_subplot(111)\n",
    "    cax = ax.matshow(correlations, vmin=-1, vmax=1)\n",
    "    fig.colorbar(cax)\n",
    "    ticks = np.arange(0,N,1)\n",
    "    ax.set_xticks(ticks)\n",
    "    ax.set_yticks(ticks)\n",
    "    ax.set_xticklabels(names)\n",
    "    ax.set_yticklabels(names)\n",
    "    plt.show()\n",
    "    \n",
    "\n",
    "corr_plot(BestIncome)"
   ]
  },
  {
   "cell_type": "code",
   "execution_count": 23,
   "metadata": {},
   "outputs": [
    {
     "data": {
      "text/html": [
       "<div>\n",
       "<style scoped>\n",
       "    .dataframe tbody tr th:only-of-type {\n",
       "        vertical-align: middle;\n",
       "    }\n",
       "\n",
       "    .dataframe tbody tr th {\n",
       "        vertical-align: top;\n",
       "    }\n",
       "\n",
       "    .dataframe thead th {\n",
       "        text-align: right;\n",
       "    }\n",
       "</style>\n",
       "<table border=\"1\" class=\"dataframe\">\n",
       "  <thead>\n",
       "    <tr style=\"text-align: right;\">\n",
       "      <th></th>\n",
       "      <th>lab_inc</th>\n",
       "      <th>cap_inc</th>\n",
       "      <th>hgt</th>\n",
       "      <th>wgt</th>\n",
       "      <th>age</th>\n",
       "      <th>gender</th>\n",
       "    </tr>\n",
       "  </thead>\n",
       "  <tbody>\n",
       "    <tr>\n",
       "      <th>lab_inc</th>\n",
       "      <td>1.000000</td>\n",
       "      <td>0.005325</td>\n",
       "      <td>0.002790</td>\n",
       "      <td>0.004507</td>\n",
       "      <td>0.924053</td>\n",
       "      <td>-0.215469</td>\n",
       "    </tr>\n",
       "    <tr>\n",
       "      <th>cap_inc</th>\n",
       "      <td>0.005325</td>\n",
       "      <td>1.000000</td>\n",
       "      <td>0.021572</td>\n",
       "      <td>0.006299</td>\n",
       "      <td>0.234159</td>\n",
       "      <td>-0.062569</td>\n",
       "    </tr>\n",
       "    <tr>\n",
       "      <th>hgt</th>\n",
       "      <td>0.002790</td>\n",
       "      <td>0.021572</td>\n",
       "      <td>1.000000</td>\n",
       "      <td>0.172103</td>\n",
       "      <td>-0.045083</td>\n",
       "      <td>-0.127416</td>\n",
       "    </tr>\n",
       "    <tr>\n",
       "      <th>wgt</th>\n",
       "      <td>0.004507</td>\n",
       "      <td>0.006299</td>\n",
       "      <td>0.172103</td>\n",
       "      <td>1.000000</td>\n",
       "      <td>-0.300288</td>\n",
       "      <td>-0.763821</td>\n",
       "    </tr>\n",
       "    <tr>\n",
       "      <th>age</th>\n",
       "      <td>0.924053</td>\n",
       "      <td>0.234159</td>\n",
       "      <td>-0.045083</td>\n",
       "      <td>-0.300288</td>\n",
       "      <td>1.000000</td>\n",
       "      <td>0.020059</td>\n",
       "    </tr>\n",
       "    <tr>\n",
       "      <th>gender</th>\n",
       "      <td>-0.215469</td>\n",
       "      <td>-0.062569</td>\n",
       "      <td>-0.127416</td>\n",
       "      <td>-0.763821</td>\n",
       "      <td>0.020059</td>\n",
       "      <td>1.000000</td>\n",
       "    </tr>\n",
       "  </tbody>\n",
       "</table>\n",
       "</div>"
      ],
      "text/plain": [
       "          lab_inc   cap_inc       hgt       wgt       age    gender\n",
       "lab_inc  1.000000  0.005325  0.002790  0.004507  0.924053 -0.215469\n",
       "cap_inc  0.005325  1.000000  0.021572  0.006299  0.234159 -0.062569\n",
       "hgt      0.002790  0.021572  1.000000  0.172103 -0.045083 -0.127416\n",
       "wgt      0.004507  0.006299  0.172103  1.000000 -0.300288 -0.763821\n",
       "age      0.924053  0.234159 -0.045083 -0.300288  1.000000  0.020059\n",
       "gender  -0.215469 -0.062569 -0.127416 -0.763821  0.020059  1.000000"
      ]
     },
     "execution_count": 23,
     "metadata": {},
     "output_type": "execute_result"
    }
   ],
   "source": [
    "# In Matrix Form\n",
    "corr = BestIncome.corr()\n",
    "corr.style.background_gradient()\n",
    "corr"
   ]
  },
  {
   "cell_type": "markdown",
   "metadata": {},
   "source": [
    "### 2. Stationarity and data drift"
   ]
  },
  {
   "cell_type": "markdown",
   "metadata": {},
   "source": [
    "#### (a) Estimate by OLS and report coefficients"
   ]
  },
  {
   "cell_type": "code",
   "execution_count": 24,
   "metadata": {},
   "outputs": [],
   "source": [
    "# Read in my third data set\n",
    "IncomeIntel = pd.read_csv('IncomeIntel.txt', header=None)"
   ]
  },
  {
   "cell_type": "code",
   "execution_count": 25,
   "metadata": {},
   "outputs": [
    {
     "data": {
      "text/html": [
       "<div>\n",
       "<style scoped>\n",
       "    .dataframe tbody tr th:only-of-type {\n",
       "        vertical-align: middle;\n",
       "    }\n",
       "\n",
       "    .dataframe tbody tr th {\n",
       "        vertical-align: top;\n",
       "    }\n",
       "\n",
       "    .dataframe thead th {\n",
       "        text-align: right;\n",
       "    }\n",
       "</style>\n",
       "<table border=\"1\" class=\"dataframe\">\n",
       "  <thead>\n",
       "    <tr style=\"text-align: right;\">\n",
       "      <th></th>\n",
       "      <th>grad_year</th>\n",
       "      <th>gre_qnt</th>\n",
       "      <th>salary_p4</th>\n",
       "    </tr>\n",
       "  </thead>\n",
       "  <tbody>\n",
       "    <tr>\n",
       "      <th>0</th>\n",
       "      <td>2001.0</td>\n",
       "      <td>739.737072</td>\n",
       "      <td>67400.475185</td>\n",
       "    </tr>\n",
       "    <tr>\n",
       "      <th>1</th>\n",
       "      <td>2001.0</td>\n",
       "      <td>721.811673</td>\n",
       "      <td>67600.584142</td>\n",
       "    </tr>\n",
       "    <tr>\n",
       "      <th>2</th>\n",
       "      <td>2001.0</td>\n",
       "      <td>736.277908</td>\n",
       "      <td>58704.880589</td>\n",
       "    </tr>\n",
       "    <tr>\n",
       "      <th>3</th>\n",
       "      <td>2001.0</td>\n",
       "      <td>770.498485</td>\n",
       "      <td>64707.290345</td>\n",
       "    </tr>\n",
       "    <tr>\n",
       "      <th>4</th>\n",
       "      <td>2001.0</td>\n",
       "      <td>735.002861</td>\n",
       "      <td>51737.324165</td>\n",
       "    </tr>\n",
       "  </tbody>\n",
       "</table>\n",
       "</div>"
      ],
      "text/plain": [
       "   grad_year     gre_qnt     salary_p4\n",
       "0     2001.0  739.737072  67400.475185\n",
       "1     2001.0  721.811673  67600.584142\n",
       "2     2001.0  736.277908  58704.880589\n",
       "3     2001.0  770.498485  64707.290345\n",
       "4     2001.0  735.002861  51737.324165"
      ]
     },
     "execution_count": 25,
     "metadata": {},
     "output_type": "execute_result"
    }
   ],
   "source": [
    "# Name my variables\n",
    "IncomeIntel_col = ['grad_year','gre_qnt','salary_p4']\n",
    "IncomeIntel.columns = IncomeIntel_col\n",
    "IncomeIntel.head()"
   ]
  },
  {
   "cell_type": "code",
   "execution_count": 26,
   "metadata": {},
   "outputs": [],
   "source": [
    "# Run regression model\n",
    "outcome = 'salary_p4'\n",
    "features = ['gre_qnt']\n",
    "\n",
    "X, y = IncomeIntel[features], IncomeIntel[outcome]"
   ]
  },
  {
   "cell_type": "code",
   "execution_count": 27,
   "metadata": {},
   "outputs": [
    {
     "data": {
      "text/html": [
       "<div>\n",
       "<style scoped>\n",
       "    .dataframe tbody tr th:only-of-type {\n",
       "        vertical-align: middle;\n",
       "    }\n",
       "\n",
       "    .dataframe tbody tr th {\n",
       "        vertical-align: top;\n",
       "    }\n",
       "\n",
       "    .dataframe thead th {\n",
       "        text-align: right;\n",
       "    }\n",
       "</style>\n",
       "<table border=\"1\" class=\"dataframe\">\n",
       "  <thead>\n",
       "    <tr style=\"text-align: right;\">\n",
       "      <th></th>\n",
       "      <th>gre_qnt</th>\n",
       "    </tr>\n",
       "  </thead>\n",
       "  <tbody>\n",
       "    <tr>\n",
       "      <th>0</th>\n",
       "      <td>739.737072</td>\n",
       "    </tr>\n",
       "    <tr>\n",
       "      <th>1</th>\n",
       "      <td>721.811673</td>\n",
       "    </tr>\n",
       "    <tr>\n",
       "      <th>2</th>\n",
       "      <td>736.277908</td>\n",
       "    </tr>\n",
       "    <tr>\n",
       "      <th>3</th>\n",
       "      <td>770.498485</td>\n",
       "    </tr>\n",
       "    <tr>\n",
       "      <th>4</th>\n",
       "      <td>735.002861</td>\n",
       "    </tr>\n",
       "  </tbody>\n",
       "</table>\n",
       "</div>"
      ],
      "text/plain": [
       "      gre_qnt\n",
       "0  739.737072\n",
       "1  721.811673\n",
       "2  736.277908\n",
       "3  770.498485\n",
       "4  735.002861"
      ]
     },
     "execution_count": 27,
     "metadata": {},
     "output_type": "execute_result"
    }
   ],
   "source": [
    "X.head()"
   ]
  },
  {
   "cell_type": "code",
   "execution_count": 28,
   "metadata": {},
   "outputs": [
    {
     "data": {
      "text/plain": [
       "0    67400.475185\n",
       "1    67600.584142\n",
       "2    58704.880589\n",
       "3    64707.290345\n",
       "4    51737.324165\n",
       "Name: salary_p4, dtype: float64"
      ]
     },
     "execution_count": 28,
     "metadata": {},
     "output_type": "execute_result"
    }
   ],
   "source": [
    "y.head()"
   ]
  },
  {
   "cell_type": "code",
   "execution_count": 29,
   "metadata": {},
   "outputs": [
    {
     "name": "stdout",
     "output_type": "stream",
     "text": [
      "                            OLS Regression Results                            \n",
      "==============================================================================\n",
      "Dep. Variable:              salary_p4   R-squared:                       0.263\n",
      "Model:                            OLS   Adj. R-squared:                  0.262\n",
      "Method:                 Least Squares   F-statistic:                     356.3\n",
      "Date:                Tue, 16 Oct 2018   Prob (F-statistic):           3.43e-68\n",
      "Time:                        11:48:32   Log-Likelihood:                -10673.\n",
      "No. Observations:                1000   AIC:                         2.135e+04\n",
      "Df Residuals:                     998   BIC:                         2.136e+04\n",
      "Df Model:                           1                                         \n",
      "Covariance Type:            nonrobust                                         \n",
      "==============================================================================\n",
      "                 coef    std err          t      P>|t|      [0.025      0.975]\n",
      "------------------------------------------------------------------------------\n",
      "gre_qnt      -25.7632      1.365    -18.875      0.000     -28.442     -23.085\n",
      "const       8.954e+04    878.764    101.895      0.000    8.78e+04    9.13e+04\n",
      "==============================================================================\n",
      "Omnibus:                        9.118   Durbin-Watson:                   1.424\n",
      "Prob(Omnibus):                  0.010   Jarque-Bera (JB):                9.100\n",
      "Skew:                           0.230   Prob(JB):                       0.0106\n",
      "Kurtosis:                       3.077   Cond. No.                     1.71e+03\n",
      "==============================================================================\n",
      "\n",
      "Warnings:\n",
      "[1] Standard Errors assume that the covariance matrix of the errors is correctly specified.\n",
      "[2] The condition number is large, 1.71e+03. This might indicate that there are\n",
      "strong multicollinearity or other numerical problems.\n"
     ]
    }
   ],
   "source": [
    "X = sm.add_constant(X, prepend=False)\n",
    "m = sm.OLS(y, X)\n",
    "res = m.fit()\n",
    "print(res.summary())"
   ]
  },
  {
   "cell_type": "markdown",
   "metadata": {},
   "source": [
    "Report coefficients and SE's：\n",
    "\n",
    "I obtained the following OLS regression equation:\n",
    "$$salary\\underline{ }p4 = 89540 - 25.7632gre\\underline{ }qnt$$\n",
    "\n",
    "and the estimated coefficients and standard errors are:\n",
    "\n",
    "$$\\beta_0 = 89540 \\ \\ \\ SE(\\beta_0) = 878.764$$\n",
    "\n",
    "$$\\beta_1 = -25.7632 \\ \\ \\ SE(\\beta_1) = 1.365$$"
   ]
  },
  {
   "cell_type": "markdown",
   "metadata": {},
   "source": [
    "#### (b) Create a scatterplot of GRE score and graduation year. "
   ]
  },
  {
   "cell_type": "code",
   "execution_count": 30,
   "metadata": {},
   "outputs": [
    {
     "data": {
      "image/png": "[encoded data removed]",
      "text/plain": [
       "<Figure size 432x288 with 1 Axes>"
      ]
     },
     "metadata": {
      "needs_background": "light"
     },
     "output_type": "display_data"
    }
   ],
   "source": [
    "# Code and output of scatterplot\n",
    "grad_year = IncomeIntel['grad_year']\n",
    "gre_qnt = IncomeIntel['gre_qnt']\n",
    "IncomeIntel.plot(x='grad_year', y='gre_qnt', kind='scatter')\n",
    "plt.show()"
   ]
  },
  {
   "cell_type": "markdown",
   "metadata": {},
   "source": [
    "As we can see from the scatterplot above and the exercise, GRE quantitative scoring scale changed in 2011. My proposed solution is to convert two ways of scaling into one."
   ]
  },
  {
   "cell_type": "code",
   "execution_count": 31,
   "metadata": {},
   "outputs": [
    {
     "data": {
      "text/html": [
       "<div>\n",
       "<style scoped>\n",
       "    .dataframe tbody tr th:only-of-type {\n",
       "        vertical-align: middle;\n",
       "    }\n",
       "\n",
       "    .dataframe tbody tr th {\n",
       "        vertical-align: top;\n",
       "    }\n",
       "\n",
       "    .dataframe thead th {\n",
       "        text-align: right;\n",
       "    }\n",
       "</style>\n",
       "<table border=\"1\" class=\"dataframe\">\n",
       "  <thead>\n",
       "    <tr style=\"text-align: right;\">\n",
       "      <th></th>\n",
       "      <th>grad_year</th>\n",
       "      <th>gre_qnt</th>\n",
       "      <th>salary_p4</th>\n",
       "      <th>new_gre_qnt</th>\n",
       "    </tr>\n",
       "  </thead>\n",
       "  <tbody>\n",
       "    <tr>\n",
       "      <th>count</th>\n",
       "      <td>1000.000000</td>\n",
       "      <td>1000.000000</td>\n",
       "      <td>1000.000000</td>\n",
       "      <td>1000.000000</td>\n",
       "    </tr>\n",
       "    <tr>\n",
       "      <th>mean</th>\n",
       "      <td>2006.994000</td>\n",
       "      <td>596.510118</td>\n",
       "      <td>74173.293777</td>\n",
       "      <td>728.534611</td>\n",
       "    </tr>\n",
       "    <tr>\n",
       "      <th>std</th>\n",
       "      <td>3.740582</td>\n",
       "      <td>242.361960</td>\n",
       "      <td>12173.767372</td>\n",
       "      <td>23.619014</td>\n",
       "    </tr>\n",
       "    <tr>\n",
       "      <th>min</th>\n",
       "      <td>2001.000000</td>\n",
       "      <td>141.261398</td>\n",
       "      <td>43179.183141</td>\n",
       "      <td>655.702537</td>\n",
       "    </tr>\n",
       "    <tr>\n",
       "      <th>25%</th>\n",
       "      <td>2004.000000</td>\n",
       "      <td>684.983551</td>\n",
       "      <td>65778.240317</td>\n",
       "      <td>712.274822</td>\n",
       "    </tr>\n",
       "    <tr>\n",
       "      <th>50%</th>\n",
       "      <td>2007.000000</td>\n",
       "      <td>719.106878</td>\n",
       "      <td>73674.204810</td>\n",
       "      <td>727.910127</td>\n",
       "    </tr>\n",
       "    <tr>\n",
       "      <th>75%</th>\n",
       "      <td>2010.000000</td>\n",
       "      <td>739.332537</td>\n",
       "      <td>81838.874129</td>\n",
       "      <td>744.392487</td>\n",
       "    </tr>\n",
       "    <tr>\n",
       "      <th>max</th>\n",
       "      <td>2013.000000</td>\n",
       "      <td>799.715533</td>\n",
       "      <td>115367.665815</td>\n",
       "      <td>800.000000</td>\n",
       "    </tr>\n",
       "  </tbody>\n",
       "</table>\n",
       "</div>"
      ],
      "text/plain": [
       "         grad_year      gre_qnt      salary_p4  new_gre_qnt\n",
       "count  1000.000000  1000.000000    1000.000000  1000.000000\n",
       "mean   2006.994000   596.510118   74173.293777   728.534611\n",
       "std       3.740582   242.361960   12173.767372    23.619014\n",
       "min    2001.000000   141.261398   43179.183141   655.702537\n",
       "25%    2004.000000   684.983551   65778.240317   712.274822\n",
       "50%    2007.000000   719.106878   73674.204810   727.910127\n",
       "75%    2010.000000   739.332537   81838.874129   744.392487\n",
       "max    2013.000000   799.715533  115367.665815   800.000000"
      ]
     },
     "execution_count": 31,
     "metadata": {},
     "output_type": "execute_result"
    }
   ],
   "source": [
    "# Implement the solution\n",
    "# Convert two scaling methods into one by zscore each gre_qnt\n",
    "IncomeIntel['new_gre_qnt'] = IncomeIntel.apply(lambda x: x.gre_qnt/170*800 \n",
    "                                               if x.grad_year>2010 \n",
    "                                               else x.gre_qnt, axis=1)\n",
    "IncomeIntel.describe()"
   ]
  },
  {
   "cell_type": "code",
   "execution_count": 32,
   "metadata": {},
   "outputs": [
    {
     "data": {
      "image/png": "[encoded data removed]",
      "text/plain": [
       "<Figure size 432x288 with 1 Axes>"
      ]
     },
     "metadata": {
      "needs_background": "light"
     },
     "output_type": "display_data"
    }
   ],
   "source": [
    "# Code and output of scatterplot\n",
    "grad_year = IncomeIntel['grad_year']\n",
    "gre_qnt = IncomeIntel['new_gre_qnt']\n",
    "IncomeIntel.plot(x='grad_year', y='new_gre_qnt', kind='scatter')\n",
    "plt.show()"
   ]
  },
  {
   "cell_type": "markdown",
   "metadata": {},
   "source": [
    "#### (c) Create a scatterplot of income and graduation year"
   ]
  },
  {
   "cell_type": "code",
   "execution_count": 33,
   "metadata": {},
   "outputs": [
    {
     "data": {
      "image/png": "[encoded data removed]",
      "text/plain": [
       "<Figure size 432x288 with 1 Axes>"
      ]
     },
     "metadata": {
      "needs_background": "light"
     },
     "output_type": "display_data"
    }
   ],
   "source": [
    "# Code and output of scatterplot\n",
    "grad_year = IncomeIntel['grad_year']\n",
    "salary_p4 = IncomeIntel['salary_p4']\n",
    "IncomeIntel.plot(x='grad_year', y='salary_p4', kind='scatter')\n",
    "plt.show()"
   ]
  },
  {
   "cell_type": "markdown",
   "metadata": {},
   "source": [
    "Because these data are not panel data, we cannot use differencing or log differencing methods to detrend them. So I will use the following method to modify the data."
   ]
  },
  {
   "cell_type": "code",
   "execution_count": 34,
   "metadata": {},
   "outputs": [
    {
     "data": {
      "text/html": [
       "<div>\n",
       "<style scoped>\n",
       "    .dataframe tbody tr th:only-of-type {\n",
       "        vertical-align: middle;\n",
       "    }\n",
       "\n",
       "    .dataframe tbody tr th {\n",
       "        vertical-align: top;\n",
       "    }\n",
       "\n",
       "    .dataframe thead th {\n",
       "        text-align: right;\n",
       "    }\n",
       "</style>\n",
       "<table border=\"1\" class=\"dataframe\">\n",
       "  <thead>\n",
       "    <tr style=\"text-align: right;\">\n",
       "      <th></th>\n",
       "      <th>grad_year</th>\n",
       "      <th>gre_qnt</th>\n",
       "      <th>salary_p4</th>\n",
       "      <th>new_gre_qnt</th>\n",
       "      <th>new_salary_p4</th>\n",
       "    </tr>\n",
       "  </thead>\n",
       "  <tbody>\n",
       "    <tr>\n",
       "      <th>count</th>\n",
       "      <td>1000.000000</td>\n",
       "      <td>1000.000000</td>\n",
       "      <td>1000.000000</td>\n",
       "      <td>1000.000000</td>\n",
       "      <td>1000.000000</td>\n",
       "    </tr>\n",
       "    <tr>\n",
       "      <th>mean</th>\n",
       "      <td>2006.994000</td>\n",
       "      <td>596.510118</td>\n",
       "      <td>74173.293777</td>\n",
       "      <td>728.534611</td>\n",
       "      <td>83214.973802</td>\n",
       "    </tr>\n",
       "    <tr>\n",
       "      <th>std</th>\n",
       "      <td>3.740582</td>\n",
       "      <td>242.361960</td>\n",
       "      <td>12173.767372</td>\n",
       "      <td>23.619014</td>\n",
       "      <td>9667.722543</td>\n",
       "    </tr>\n",
       "    <tr>\n",
       "      <th>min</th>\n",
       "      <td>2001.000000</td>\n",
       "      <td>141.261398</td>\n",
       "      <td>43179.183141</td>\n",
       "      <td>655.702537</td>\n",
       "      <td>55772.261434</td>\n",
       "    </tr>\n",
       "    <tr>\n",
       "      <th>25%</th>\n",
       "      <td>2004.000000</td>\n",
       "      <td>684.983551</td>\n",
       "      <td>65778.240317</td>\n",
       "      <td>712.274822</td>\n",
       "      <td>76707.207282</td>\n",
       "    </tr>\n",
       "    <tr>\n",
       "      <th>50%</th>\n",
       "      <td>2007.000000</td>\n",
       "      <td>719.106878</td>\n",
       "      <td>73674.204810</td>\n",
       "      <td>727.910127</td>\n",
       "      <td>83279.745509</td>\n",
       "    </tr>\n",
       "    <tr>\n",
       "      <th>75%</th>\n",
       "      <td>2010.000000</td>\n",
       "      <td>739.332537</td>\n",
       "      <td>81838.874129</td>\n",
       "      <td>744.392487</td>\n",
       "      <td>89716.637333</td>\n",
       "    </tr>\n",
       "    <tr>\n",
       "      <th>max</th>\n",
       "      <td>2013.000000</td>\n",
       "      <td>799.715533</td>\n",
       "      <td>115367.665815</td>\n",
       "      <td>800.000000</td>\n",
       "      <td>114508.138911</td>\n",
       "    </tr>\n",
       "  </tbody>\n",
       "</table>\n",
       "</div>"
      ],
      "text/plain": [
       "         grad_year      gre_qnt      salary_p4  new_gre_qnt  new_salary_p4\n",
       "count  1000.000000  1000.000000    1000.000000  1000.000000    1000.000000\n",
       "mean   2006.994000   596.510118   74173.293777   728.534611   83214.973802\n",
       "std       3.740582   242.361960   12173.767372    23.619014    9667.722543\n",
       "min    2001.000000   141.261398   43179.183141   655.702537   55772.261434\n",
       "25%    2004.000000   684.983551   65778.240317   712.274822   76707.207282\n",
       "50%    2007.000000   719.106878   73674.204810   727.910127   83279.745509\n",
       "75%    2010.000000   739.332537   81838.874129   744.392487   89716.637333\n",
       "max    2013.000000   799.715533  115367.665815   800.000000  114508.138911"
      ]
     },
     "execution_count": 34,
     "metadata": {},
     "output_type": "execute_result"
    }
   ],
   "source": [
    "#  Code to implement a solution\n",
    "avg_inc_by_year = IncomeIntel['salary_p4'].groupby(IncomeIntel\\\n",
    "                                                   ['grad_year']).mean().values\n",
    "avg_growth_rate = ((avg_inc_by_year[1:] - avg_inc_by_year[:-1]) \\\n",
    "                   / avg_inc_by_year[:-1]).mean()\n",
    "IncomeIntel['new_salary_p4'] = IncomeIntel.apply\\\n",
    "(lambda x: x.salary_p4 / ((1 + avg_growth_rate) ** (x.grad_year - 2011)), axis=1)\n",
    "IncomeIntel.describe()"
   ]
  },
  {
   "cell_type": "code",
   "execution_count": 35,
   "metadata": {},
   "outputs": [
    {
     "data": {
      "image/png": "[encoded data removed]",
      "text/plain": [
       "<Figure size 432x288 with 1 Axes>"
      ]
     },
     "metadata": {
      "needs_background": "light"
     },
     "output_type": "display_data"
    }
   ],
   "source": [
    "# Code and output of scatterplot\n",
    "grad_year = IncomeIntel['grad_year']\n",
    "new_salary_p4 = IncomeIntel['new_salary_p4']\n",
    "IncomeIntel.plot(x='grad_year', y='new_salary_p4', kind='scatter')\n",
    "plt.show()"
   ]
  },
  {
   "cell_type": "markdown",
   "metadata": {},
   "source": [
    "#### (d) Re-estimate coefficients with updated variables."
   ]
  },
  {
   "cell_type": "code",
   "execution_count": 36,
   "metadata": {},
   "outputs": [],
   "source": [
    "# Code to re-estimate, output of new coefficients\n",
    "outcome = ['new_salary_p4']\n",
    "features = ['new_gre_qnt']\n",
    "\n",
    "X, y = IncomeIntel[features], IncomeIntel[outcome]"
   ]
  },
  {
   "cell_type": "code",
   "execution_count": 37,
   "metadata": {},
   "outputs": [
    {
     "name": "stdout",
     "output_type": "stream",
     "text": [
      "                            OLS Regression Results                            \n",
      "==============================================================================\n",
      "Dep. Variable:          new_salary_p4   R-squared:                       0.001\n",
      "Model:                            OLS   Adj. R-squared:                 -0.000\n",
      "Method:                 Least Squares   F-statistic:                    0.6043\n",
      "Date:                Tue, 16 Oct 2018   Prob (F-statistic):              0.437\n",
      "Time:                        11:48:33   Log-Likelihood:                -10595.\n",
      "No. Observations:                1000   AIC:                         2.119e+04\n",
      "Df Residuals:                     998   BIC:                         2.120e+04\n",
      "Df Model:                           1                                         \n",
      "Covariance Type:            nonrobust                                         \n",
      "===============================================================================\n",
      "                  coef    std err          t      P>|t|      [0.025      0.975]\n",
      "-------------------------------------------------------------------------------\n",
      "new_gre_qnt   -10.0695     12.953     -0.777      0.437     -35.487      15.349\n",
      "const        9.055e+04   9441.560      9.591      0.000     7.2e+04    1.09e+05\n",
      "==============================================================================\n",
      "Omnibus:                        0.789   Durbin-Watson:                   2.025\n",
      "Prob(Omnibus):                  0.674   Jarque-Bera (JB):                0.698\n",
      "Skew:                           0.060   Prob(JB):                        0.705\n",
      "Kurtosis:                       3.050   Cond. No.                     2.25e+04\n",
      "==============================================================================\n",
      "\n",
      "Warnings:\n",
      "[1] Standard Errors assume that the covariance matrix of the errors is correctly specified.\n",
      "[2] The condition number is large, 2.25e+04. This might indicate that there are\n",
      "strong multicollinearity or other numerical problems.\n"
     ]
    }
   ],
   "source": [
    "X = sm.add_constant(X, prepend=False)\n",
    "m = sm.OLS(y, X)\n",
    "res = m.fit()\n",
    "print(res.summary())"
   ]
  },
  {
   "cell_type": "markdown",
   "metadata": {},
   "source": [
    "I obtained the following OLS regression equation:\n",
    "$$new\\underline{ }salary\\underline{ }p4 = 9055 - 10.0695new\\underline{ }gre\\underline{ }qnt$$\n",
    "\n",
    "and estimated coefficients and standard errors are:\n",
    "\n",
    "$$\\beta_0 = 9055 \\ \\ \\ SE(\\beta_0) = 9441.560$$\n",
    "\n",
    "$$\\beta_1 = -10.0695 \\ \\ \\ SE(\\beta_1) = 12.953$$\n",
    "\n",
    "However, the GRE quantitative have a minimum score of 130, so it is over extrapolation of intercept estimator. Compared to the former result, this result is more reasonable after solving problems in both GRE quantitative and salary after 4 years. In the former interpretation of intercept estimator, a people with 0 GRE quantitative score can earn 89540 dollars per year. In the new model, If GRE quantitative score is 0, salary after 4 years is 9055 dollars, which is more realistic. However, the GRE quantitative have a minimum score of 130, so it is over extrapolation of intercept estimator. For the slope estimator, with each addition of GRE quantitative score, the salary after 4 years decrease 10.0695 dollars in the new model and decrease 25.7632 dollars in the previous model. The results in both model don't correspond to common sense that people with higher GRE quantitative score normally earns more salary, which contrast my hypothesis. But by solving the problem in the independent variables, the gap between empirical result and my hypothesis shortened."
   ]
  },
  {
   "cell_type": "markdown",
   "metadata": {},
   "source": [
    "### 3. Assessment of Kossinets and Watts."
   ]
  },
  {
   "cell_type": "markdown",
   "metadata": {},
   "source": [
    "In this paper, the authors shortly present a literature review on homophily and then, bring out the research question which focuses on the origin of homophily: on what grounds do individuals selectively make or break some ties over others, and how do these choices shed light on the observation that similar people are more likely to become acquainted than dissimilar people?\n",
    "\n",
    "To investigate more on this question, they using network data of a large uni- versity community which interactions, attributes, and affiliations are recorded. To construct the dataset, the authors merged three different databases: (1) the logs of e-mail interactions within the university over one academic year, (2) a database of individual attributes (status, gender, age, department, number of years in the com- munity, etc.), and (3) records of course registration, in which courses were recorded separately for each semester. Dataset comprised 7,156,162 messages exchanged by 30,396 stable e-mail users during 270 days of observation. The available variables could be categorized into four groups: personal characteristics (age, gender, home state, formal status, years in school); organizational affiliations (primary department, school, campus, dormitory, academic field); course-related variables (courses taken, courses taught); and e-mail-related variables (days active, messages sent, messages received, in-degree, out-degree, reciprocated degree). A precise definitions of all vari- ables are provided in APPENDIX. A.\n",
    "\n",
    "In the data cleaning process, from 43,553 individuals, the authors identified 34,574 users who were active throughout both semesters by the principle of sending and re- ceiving e-mail in both the first and the last months of the academic year. However, 43,553 individuals sent and received messages during the academic year. It is highly possible that they just didn’t send or receive e-mail in both the first and the last months of the academic year. Simply dropped 8,979 individuals may result in a bi- ased model and diminish the authors’ ability to answer the research question.\n",
    "\n",
    "When match the data source to theoretical construct, the authors arbitrarily sup- pose that the university e-mail logs fully represents the social relationships of an individual. Nevertheless, it is not necessarily the case. Let’s say a student seldom use e-mail to reach his friends. Instead, apps like Whatsup and Lines replaced e-mail with their convenience. This student is likely to be removed from the dataset in the context. Here is another example about the implicit closure. If there is a fraternity which never emails its member but has a fixed time and location for gathering, e-mail logs can’t reflect the existence of this implicit foci. After two people from one class made friends in the gathering before they become friends through class, they may communicate with each other through e-mail. Then, the e-mail logs may indicates that they are friends with the explicit foci, which is that they are in the same class.\n",
    "Therefore, the dataset may fail to capture the real case.\n",
    "\n",
    "In the chapter of origins of homophily, the authors proposed some problem on ob- served homophily.One might concerned that our measure of individual similarity acts, in effect, as an indicator variable for sharing a class, and that controlling for shared classes would effectively eliminate the potential for similarity to have any additional impact on tie formation, thereby artificially increasing the apparent importance of induced homophily vis-a-vis choice homophily. In order to address this potential sys- tematic bias, the author consider in figure 7 (top row) the distribution of similarity for student pairs who shared classes with that for student pairs who did not. As expected from figure 6, students who shared classes (fig. 7, pt. B) are, on average, much more similar than students who did not (pt. A). However, its higher average notwithstanding, the distribution in part B of figure 7 also exhibits higher variance (1.8) than that in part A (1.3); thus, the potential for differences in similarity to impact tie formation is not in fact diminished for pairs who share classes versus those who do not. As a further check the authors compare distributions of similarity for pairs who share implicit foci (fig. 7, pt. D) with those who do not (pt. C). In this way, the concern can be properly addressed."
   ]
  }
 ],
 "metadata": {
  "kernelspec": {
   "display_name": "Python 3",
   "language": "python",
   "name": "python3"
  },
  "language_info": {
   "codemirror_mode": {
    "name": "ipython",
    "version": 3
   },
   "file_extension": ".py",
   "mimetype": "text/x-python",
   "name": "python",
   "nbconvert_exporter": "python",
   "pygments_lexer": "ipython3",
   "version": "3.7.0"
  }
 },
 "nbformat": 4,
 "nbformat_minor": 1
}
